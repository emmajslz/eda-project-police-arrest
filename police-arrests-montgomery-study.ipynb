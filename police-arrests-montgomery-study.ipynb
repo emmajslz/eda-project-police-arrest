{
 "cells": [
  {
   "cell_type": "markdown",
   "metadata": {},
   "source": [
    "EDA & Visualization\n",
    "MSDS Summer 2024\n",
    "Final Group Project\n",
    "\n",
    "# Police arrests in Montgomery County from 2021-2023"
   ]
  },
  {
   "cell_type": "markdown",
   "metadata": {},
   "source": [
    "This dataset contains information about individuals who have been arrested by police officers in Montgomery County. The data includes demographic information about the individuals arrested, such as their race, gender, age, and ethnicity."
   ]
  },
  {
   "cell_type": "markdown",
   "metadata": {},
   "source": [
    "The data is available at https://www.kaggle.com/datasets/shayanshahid997/police-arrest-from-2021-2023/data"
   ]
  },
  {
   "cell_type": "code",
   "execution_count": 111,
   "metadata": {},
   "outputs": [],
   "source": [
    "import pandas as pd\n",
    "import numpy as np\n",
    "import matplotlib.pyplot as plt\n",
    "from matplotlib import colors as clrs\n",
    "import datetime"
   ]
  },
  {
   "cell_type": "markdown",
   "metadata": {},
   "source": [
    "# EDA"
   ]
  },
  {
   "cell_type": "code",
   "execution_count": 112,
   "metadata": {},
   "outputs": [],
   "source": [
    "arrests = pd.read_csv(\"Police_Arrests_20240702.csv\")"
   ]
  },
  {
   "cell_type": "markdown",
   "metadata": {},
   "source": [
    "## A first look at the data"
   ]
  },
  {
   "cell_type": "code",
   "execution_count": 113,
   "metadata": {},
   "outputs": [
    {
     "name": "stdout",
     "output_type": "stream",
     "text": [
      "(23510, 10)\n"
     ]
    },
    {
     "data": {
      "text/html": [
       "<div>\n",
       "<style scoped>\n",
       "    .dataframe tbody tr th:only-of-type {\n",
       "        vertical-align: middle;\n",
       "    }\n",
       "\n",
       "    .dataframe tbody tr th {\n",
       "        vertical-align: top;\n",
       "    }\n",
       "\n",
       "    .dataframe thead th {\n",
       "        text-align: right;\n",
       "    }\n",
       "</style>\n",
       "<table border=\"1\" class=\"dataframe\">\n",
       "  <thead>\n",
       "    <tr style=\"text-align: right;\">\n",
       "      <th></th>\n",
       "      <th>ID Reference Number</th>\n",
       "      <th>Subject's race</th>\n",
       "      <th>Subject's gender</th>\n",
       "      <th>Subject's age</th>\n",
       "      <th>Ethnicity</th>\n",
       "      <th>District of occurrence</th>\n",
       "      <th>Adjacent to School</th>\n",
       "      <th>Assigned Division</th>\n",
       "      <th>Assigned Bureau</th>\n",
       "      <th>Event Date/Time</th>\n",
       "    </tr>\n",
       "  </thead>\n",
       "  <tbody>\n",
       "    <tr>\n",
       "      <th>0</th>\n",
       "      <td>1</td>\n",
       "      <td>Asian</td>\n",
       "      <td>Male</td>\n",
       "      <td>43</td>\n",
       "      <td>NON-HISPANIC</td>\n",
       "      <td>6.0</td>\n",
       "      <td>0</td>\n",
       "      <td>TOD</td>\n",
       "      <td>FSB</td>\n",
       "      <td>1/1/2021 1:07</td>\n",
       "    </tr>\n",
       "    <tr>\n",
       "      <th>1</th>\n",
       "      <td>2</td>\n",
       "      <td>Black/African American</td>\n",
       "      <td>Male</td>\n",
       "      <td>23</td>\n",
       "      <td>NON-HISPANIC</td>\n",
       "      <td>1.0</td>\n",
       "      <td>0</td>\n",
       "      <td>RCPD</td>\n",
       "      <td>NaN</td>\n",
       "      <td>1/1/2021 0:52</td>\n",
       "    </tr>\n",
       "    <tr>\n",
       "      <th>2</th>\n",
       "      <td>3</td>\n",
       "      <td>Black/African American</td>\n",
       "      <td>Male</td>\n",
       "      <td>18</td>\n",
       "      <td>NON-HISPANIC</td>\n",
       "      <td>1.0</td>\n",
       "      <td>0</td>\n",
       "      <td>RCPD</td>\n",
       "      <td>NaN</td>\n",
       "      <td>1/1/2021 0:52</td>\n",
       "    </tr>\n",
       "    <tr>\n",
       "      <th>3</th>\n",
       "      <td>4</td>\n",
       "      <td>Black/African American</td>\n",
       "      <td>Male</td>\n",
       "      <td>21</td>\n",
       "      <td>NON-HISPANIC</td>\n",
       "      <td>1.0</td>\n",
       "      <td>0</td>\n",
       "      <td>RCPD</td>\n",
       "      <td>NaN</td>\n",
       "      <td>1/1/2021 0:52</td>\n",
       "    </tr>\n",
       "    <tr>\n",
       "      <th>4</th>\n",
       "      <td>5</td>\n",
       "      <td>White</td>\n",
       "      <td>Female</td>\n",
       "      <td>38</td>\n",
       "      <td>HISPANIC</td>\n",
       "      <td>4.0</td>\n",
       "      <td>0</td>\n",
       "      <td>TOD</td>\n",
       "      <td>FSB</td>\n",
       "      <td>1/1/2021 3:00</td>\n",
       "    </tr>\n",
       "  </tbody>\n",
       "</table>\n",
       "</div>"
      ],
      "text/plain": [
       "   ID Reference Number           Subject's race Subject's gender  \\\n",
       "0                     1                   Asian             Male   \n",
       "1                     2  Black/African American             Male   \n",
       "2                     3  Black/African American             Male   \n",
       "3                     4  Black/African American             Male   \n",
       "4                     5                   White           Female   \n",
       "\n",
       "   Subject's age     Ethnicity  District of occurrence  Adjacent to School  \\\n",
       "0             43  NON-HISPANIC                     6.0                   0   \n",
       "1             23  NON-HISPANIC                     1.0                   0   \n",
       "2             18  NON-HISPANIC                     1.0                   0   \n",
       "3             21  NON-HISPANIC                     1.0                   0   \n",
       "4             38      HISPANIC                     4.0                   0   \n",
       "\n",
       "  Assigned Division Assigned Bureau Event Date/Time  \n",
       "0               TOD             FSB   1/1/2021 1:07  \n",
       "1              RCPD             NaN   1/1/2021 0:52  \n",
       "2              RCPD             NaN   1/1/2021 0:52  \n",
       "3              RCPD             NaN   1/1/2021 0:52  \n",
       "4               TOD             FSB   1/1/2021 3:00  "
      ]
     },
     "execution_count": 113,
     "metadata": {},
     "output_type": "execute_result"
    }
   ],
   "source": [
    "print(arrests.shape)\n",
    "arrests.head()"
   ]
  },
  {
   "cell_type": "code",
   "execution_count": 114,
   "metadata": {},
   "outputs": [
    {
     "name": "stdout",
     "output_type": "stream",
     "text": [
      "<class 'pandas.core.frame.DataFrame'>\n",
      "RangeIndex: 23510 entries, 0 to 23509\n",
      "Data columns (total 10 columns):\n",
      " #   Column                  Non-Null Count  Dtype  \n",
      "---  ------                  --------------  -----  \n",
      " 0   ID Reference Number     23510 non-null  int64  \n",
      " 1   Subject's race          23510 non-null  object \n",
      " 2   Subject's gender        23510 non-null  object \n",
      " 3   Subject's age           23510 non-null  int64  \n",
      " 4   Ethnicity               23510 non-null  object \n",
      " 5   District of occurrence  23408 non-null  float64\n",
      " 6   Adjacent to School      23510 non-null  int64  \n",
      " 7   Assigned Division       23381 non-null  object \n",
      " 8   Assigned Bureau         18851 non-null  object \n",
      " 9   Event Date/Time         23510 non-null  object \n",
      "dtypes: float64(1), int64(3), object(6)\n",
      "memory usage: 1.8+ MB\n"
     ]
    }
   ],
   "source": [
    "arrests.info()"
   ]
  },
  {
   "cell_type": "code",
   "execution_count": 115,
   "metadata": {},
   "outputs": [
    {
     "data": {
      "text/html": [
       "<div>\n",
       "<style scoped>\n",
       "    .dataframe tbody tr th:only-of-type {\n",
       "        vertical-align: middle;\n",
       "    }\n",
       "\n",
       "    .dataframe tbody tr th {\n",
       "        vertical-align: top;\n",
       "    }\n",
       "\n",
       "    .dataframe thead th {\n",
       "        text-align: right;\n",
       "    }\n",
       "</style>\n",
       "<table border=\"1\" class=\"dataframe\">\n",
       "  <thead>\n",
       "    <tr style=\"text-align: right;\">\n",
       "      <th></th>\n",
       "      <th>ID Reference Number</th>\n",
       "      <th>Subject's age</th>\n",
       "      <th>District of occurrence</th>\n",
       "      <th>Adjacent to School</th>\n",
       "    </tr>\n",
       "  </thead>\n",
       "  <tbody>\n",
       "    <tr>\n",
       "      <th>count</th>\n",
       "      <td>23510.00000</td>\n",
       "      <td>23510.000000</td>\n",
       "      <td>23408.000000</td>\n",
       "      <td>23510.000000</td>\n",
       "    </tr>\n",
       "    <tr>\n",
       "      <th>mean</th>\n",
       "      <td>11755.50000</td>\n",
       "      <td>31.813143</td>\n",
       "      <td>3.989192</td>\n",
       "      <td>0.085155</td>\n",
       "    </tr>\n",
       "    <tr>\n",
       "      <th>std</th>\n",
       "      <td>6786.89675</td>\n",
       "      <td>12.946909</td>\n",
       "      <td>1.748587</td>\n",
       "      <td>0.279119</td>\n",
       "    </tr>\n",
       "    <tr>\n",
       "      <th>min</th>\n",
       "      <td>1.00000</td>\n",
       "      <td>1.000000</td>\n",
       "      <td>1.000000</td>\n",
       "      <td>0.000000</td>\n",
       "    </tr>\n",
       "    <tr>\n",
       "      <th>25%</th>\n",
       "      <td>5878.25000</td>\n",
       "      <td>22.000000</td>\n",
       "      <td>3.000000</td>\n",
       "      <td>0.000000</td>\n",
       "    </tr>\n",
       "    <tr>\n",
       "      <th>50%</th>\n",
       "      <td>11755.50000</td>\n",
       "      <td>30.000000</td>\n",
       "      <td>4.000000</td>\n",
       "      <td>0.000000</td>\n",
       "    </tr>\n",
       "    <tr>\n",
       "      <th>75%</th>\n",
       "      <td>17632.75000</td>\n",
       "      <td>39.000000</td>\n",
       "      <td>5.000000</td>\n",
       "      <td>0.000000</td>\n",
       "    </tr>\n",
       "    <tr>\n",
       "      <th>max</th>\n",
       "      <td>23510.00000</td>\n",
       "      <td>99.000000</td>\n",
       "      <td>8.000000</td>\n",
       "      <td>1.000000</td>\n",
       "    </tr>\n",
       "  </tbody>\n",
       "</table>\n",
       "</div>"
      ],
      "text/plain": [
       "       ID Reference Number   Subject's age  District of occurrence  \\\n",
       "count           23510.00000   23510.000000            23408.000000   \n",
       "mean            11755.50000      31.813143                3.989192   \n",
       "std              6786.89675      12.946909                1.748587   \n",
       "min                 1.00000       1.000000                1.000000   \n",
       "25%              5878.25000      22.000000                3.000000   \n",
       "50%             11755.50000      30.000000                4.000000   \n",
       "75%             17632.75000      39.000000                5.000000   \n",
       "max             23510.00000      99.000000                8.000000   \n",
       "\n",
       "       Adjacent to School  \n",
       "count        23510.000000  \n",
       "mean             0.085155  \n",
       "std              0.279119  \n",
       "min              0.000000  \n",
       "25%              0.000000  \n",
       "50%              0.000000  \n",
       "75%              0.000000  \n",
       "max              1.000000  "
      ]
     },
     "execution_count": 115,
     "metadata": {},
     "output_type": "execute_result"
    }
   ],
   "source": [
    "arrests.describe()"
   ]
  },
  {
   "cell_type": "markdown",
   "metadata": {},
   "source": [
    "## Variables"
   ]
  },
  {
   "cell_type": "markdown",
   "metadata": {},
   "source": [
    "### Types"
   ]
  },
  {
   "cell_type": "markdown",
   "metadata": {},
   "source": [
    "<b>The information provided about each variable and its information is the following:</b>"
   ]
  },
  {
   "cell_type": "markdown",
   "metadata": {},
   "source": [
    "<div class=\"alert alert-block alert-info\">\n",
    "\n",
    "This dataset contains information about individuals who have been arrested by police officers in Montgomery County. The data includes demographic information about the individuals arrested, such as their race, gender, age, and ethnicity.\n",
    "\n",
    "The `ID Reference Number` column likely serves as a unique identifier for each arrest record.\n",
    "\n",
    "The `Subject's race`, `Subject's gender`, `Subject's age`, and `Ethnicity` columns provide demographic information about the individuals who were arrested.\n",
    "\n",
    "The `District of occurrence` column likely indicates the district in which the arrest took place.\n",
    "\n",
    "The `Adjacent to School` column is particularly interesting. It appears to indicate whether the arrest took place within 500 feet of a school, with a 1 indicating that it did and a 0 indicating that it did not. This could be useful for analyzing patterns in where arrests occur.\n",
    "\n",
    "The `Assigned Division` and `Assigned Bureau` columns likely indicate the division and bureau of the police department that were assigned to the arrest.\n",
    "\n",
    "Finally, the `Event Date/Time` column provides the date and time of the arrest. This could be useful for analyzing patterns in when arrests occur.\n",
    "\n",
    "</div>"
   ]
  },
  {
   "cell_type": "markdown",
   "metadata": {},
   "source": [
    "<div class=\"alert alert-block alert-info\">\n",
    "\n",
    "| Column Name            | Description                                      | Field Name         | Data Type          |\n",
    "| ---------------------- | ------------------------------------------------ | ------------------ | ------------------ | \n",
    "| ID Reference Number    | Row number/ID Reference Number                   | id                 | Text               |\n",
    "| Subject's race         | Subject's race                                   | race               | Text               |\n",
    "| Subject's gender       | Subject's gender                                 | gender             | Text               |\n",
    "| Subject's age          | Subject's age                                    | age                | Text               |\n",
    "| Ethnicity\tSubject's    | ethnicity                                        | ethnicity          | Text               |\n",
    "| District of occurrence | District of occurrence                           | district           | Text               |\n",
    "| Adjacent to School     | Arrest occurred within 500 ft. of a school (1/0) | adjacent_to_school | Text               |\n",
    "| Assigned Division      | District/division of officer's assignment        | division           | Text               |\n",
    "| Assigned Bureau        | Bureau of officer's assignment                   | bureau             | Text               |\n",
    "| Event Date/Time        | Event Date/Time                                  | event_date_time    | Floating Timestamp |\n",
    "\n",
    "</div>"
   ]
  },
  {
   "cell_type": "markdown",
   "metadata": {},
   "source": [
    "Let's look at the dtype of each variable after importing."
   ]
  },
  {
   "cell_type": "code",
   "execution_count": 116,
   "metadata": {},
   "outputs": [
    {
     "name": "stdout",
     "output_type": "stream",
     "text": [
      "<class 'pandas.core.frame.DataFrame'>\n",
      "RangeIndex: 23510 entries, 0 to 23509\n",
      "Data columns (total 10 columns):\n",
      " #   Column                  Non-Null Count  Dtype  \n",
      "---  ------                  --------------  -----  \n",
      " 0   ID Reference Number     23510 non-null  int64  \n",
      " 1   Subject's race          23510 non-null  object \n",
      " 2   Subject's gender        23510 non-null  object \n",
      " 3   Subject's age           23510 non-null  int64  \n",
      " 4   Ethnicity               23510 non-null  object \n",
      " 5   District of occurrence  23408 non-null  float64\n",
      " 6   Adjacent to School      23510 non-null  int64  \n",
      " 7   Assigned Division       23381 non-null  object \n",
      " 8   Assigned Bureau         18851 non-null  object \n",
      " 9   Event Date/Time         23510 non-null  object \n",
      "dtypes: float64(1), int64(3), object(6)\n",
      "memory usage: 1.8+ MB\n"
     ]
    }
   ],
   "source": [
    "arrests.info()"
   ]
  },
  {
   "cell_type": "markdown",
   "metadata": {},
   "source": [
    "Before going ahead with redefining our dtypes, let's rename the columns to the names on the <b>Field</b> column above, for simplicity's sake."
   ]
  },
  {
   "cell_type": "code",
   "execution_count": 117,
   "metadata": {},
   "outputs": [
    {
     "name": "stdout",
     "output_type": "stream",
     "text": [
      "{'ID Reference Number ': 'id', \"Subject's race\": 'race', \"Subject's gender\": 'gender', \"Subject's age\": 'age', 'Ethnicity': 'ethnicity', 'District of occurrence': 'district', 'Adjacent to School': 'adjacent_to_school', 'Assigned Division': 'division', 'Assigned Bureau': 'bureau', 'Event Date/Time': 'event_date_time'}\n"
     ]
    }
   ],
   "source": [
    "renames = {}\n",
    "for colname in arrests:\n",
    "    words = colname.lower().split(' ')\n",
    "    if words[0] == 'id' or words[0] == \"district\" or words[0] == \"ethnicity\":\n",
    "        renames[colname] = words[0]\n",
    "    elif words[0] == \"subject's\" or words[0] == \"assigned\":\n",
    "        renames[colname] = words[1]\n",
    "    elif words[0] == 'event':\n",
    "        words = [words[0]] + words[1].split(\"/\")\n",
    "        renames[colname] = \"_\".join(words)\n",
    "    else:\n",
    "        renames[colname] = \"_\".join(words)\n",
    "print(renames)"
   ]
  },
  {
   "cell_type": "code",
   "execution_count": 118,
   "metadata": {},
   "outputs": [],
   "source": [
    "arrests.rename(columns=renames, inplace=True)"
   ]
  },
  {
   "cell_type": "markdown",
   "metadata": {},
   "source": [
    "Now, let's look at al the <b>unique values</b> we have on our variables."
   ]
  },
  {
   "cell_type": "code",
   "execution_count": 119,
   "metadata": {},
   "outputs": [
    {
     "name": "stdout",
     "output_type": "stream",
     "text": [
      "\n",
      "The column id has 23510 unique values.\n",
      "\n",
      "[    1     2     3 ... 23508 23509 23510]\n",
      "\n",
      "The column race has 6 unique values.\n",
      "\n",
      "['Asian' 'Black/African American' 'White' 'Unknown'\n",
      " 'American Indian/ALSK Natv' 'Hawaiian/Pacific Islander']\n",
      "\n",
      "The column gender has 2 unique values.\n",
      "\n",
      "['Male' 'Female']\n",
      "\n",
      "The column age has 78 unique values.\n",
      "\n",
      "[43 23 18 21 38 31 37 40 34 49 27 32 28 25 30 29 35 26 24 39 41 20 19 16\n",
      " 33 60 62 55 45 36 52 56 53 17 22 48 15 51 57 47 44 42 50 64 46 54 58 13\n",
      " 14 59 66 79 80 63 61 69 71 12 72 65 67 73 10 68 83 76 99 75 11 70 77 78\n",
      "  1 74 84 85 86 82]\n",
      "\n",
      "The column ethnicity has 2 unique values.\n",
      "\n",
      "['NON-HISPANIC' 'HISPANIC']\n",
      "\n",
      "The column district has 8 unique values.\n",
      "\n",
      "[ 6.  1.  4.  3.  5.  2.  8. nan]\n",
      "\n",
      "The column adjacent_to_school has 2 unique values.\n",
      "\n",
      "[0 1]\n",
      "\n",
      "The column division has 25 unique values.\n",
      "\n",
      "['TOD' 'RCPD' 'TPPD' 'GPD' '4D' '3D' '5D' '6D' 'IMTD' '2D' '1D' 'SVID'\n",
      " 'CID' 'MCFM' 'SID' 'PSTA' nan 'MCSO' 'MCD' 'SOD' 'CED' 'PSCC' 'FSB'\n",
      " 'PERS' 'ISB']\n",
      "\n",
      "The column bureau has 5 unique values.\n",
      "\n",
      "['FSB' nan 'PSB' 'MSB' 'ISB']\n",
      "\n",
      "The column event_date_time has 20312 unique values.\n",
      "\n",
      "['1/1/2021 1:07' '1/1/2021 0:52' '1/1/2021 3:00' ... '7/1/2024 7:27'\n",
      " '6/29/2024 2:42' '7/1/2024 16:23']\n"
     ]
    }
   ],
   "source": [
    "for col in arrests:\n",
    "    uniques = arrests[col].unique()\n",
    "    print(f\"\\nThe column {col} has {len(uniques)} unique values.\\n\")\n",
    "    print(uniques)"
   ]
  },
  {
   "cell_type": "markdown",
   "metadata": {},
   "source": [
    "Based on this information, this is the types we'd think optimal to attribute to each of the columns:"
   ]
  },
  {
   "cell_type": "markdown",
   "metadata": {},
   "source": [
    "| Column Name            | Description                                      | Field Name         | Data Type                   |\n",
    "| ---------------------- | ------------------------------------------------ | ------------------ | --------------------------- | \n",
    "| ID Reference Number    | Row number/ID Reference Number                   | id                 | <b> int </b>                |\n",
    "| Subject's race         | Subject's race                                   | race               | <b> categorical </b>        |\n",
    "| Subject's gender       | Subject's gender                                 | gender             | <b> categorical </b>        |\n",
    "| Subject's age          | Subject's age                                    | age                | <b> int </b>                |\n",
    "| Ethnicity\tSubject's    | ethnicity                                        | ethnicity          | <b> categorical </b>        |\n",
    "| District of occurrence | District of occurrence <b> represented by an integer value </b>  | district           | <b> categorical </b>        |\n",
    "| Adjacent to School     | Arrest occurred within 500 ft. of a school (1/0) | adjacent_to_school | <b> bool </b>               |\n",
    "| Assigned Division      | District/division of officer's assignment        | division           | <b> categorical </b>        |\n",
    "| Assigned Bureau        | Bureau of officer's assignment                   | bureau             | <b> categorical </b>        |\n",
    "| Event Date/Time        | Event Date/Time                                  | event_date_time    | <b> datetime </b>           |"
   ]
  },
  {
   "cell_type": "markdown",
   "metadata": {},
   "source": [
    "Let's look at what dtypes our columns ended up with after importing the data and ajudst the column types that need adjusting."
   ]
  },
  {
   "cell_type": "code",
   "execution_count": 120,
   "metadata": {},
   "outputs": [
    {
     "name": "stdout",
     "output_type": "stream",
     "text": [
      "<class 'pandas.core.frame.DataFrame'>\n",
      "RangeIndex: 23510 entries, 0 to 23509\n",
      "Data columns (total 10 columns):\n",
      " #   Column              Non-Null Count  Dtype  \n",
      "---  ------              --------------  -----  \n",
      " 0   id                  23510 non-null  int64  \n",
      " 1   race                23510 non-null  object \n",
      " 2   gender              23510 non-null  object \n",
      " 3   age                 23510 non-null  int64  \n",
      " 4   ethnicity           23510 non-null  object \n",
      " 5   district            23408 non-null  float64\n",
      " 6   adjacent_to_school  23510 non-null  int64  \n",
      " 7   division            23381 non-null  object \n",
      " 8   bureau              18851 non-null  object \n",
      " 9   event_date_time     23510 non-null  object \n",
      "dtypes: float64(1), int64(3), object(6)\n",
      "memory usage: 1.8+ MB\n"
     ]
    }
   ],
   "source": [
    "arrests.info()"
   ]
  },
  {
   "cell_type": "code",
   "execution_count": 121,
   "metadata": {},
   "outputs": [
    {
     "name": "stdout",
     "output_type": "stream",
     "text": [
      "<class 'pandas.core.frame.DataFrame'>\n",
      "RangeIndex: 23510 entries, 0 to 23509\n",
      "Data columns (total 10 columns):\n",
      " #   Column              Non-Null Count  Dtype         \n",
      "---  ------              --------------  -----         \n",
      " 0   id                  23510 non-null  int64         \n",
      " 1   race                23510 non-null  category      \n",
      " 2   gender              23510 non-null  category      \n",
      " 3   age                 23510 non-null  int64         \n",
      " 4   ethnicity           23510 non-null  category      \n",
      " 5   district            23408 non-null  category      \n",
      " 6   adjacent_to_school  23510 non-null  bool          \n",
      " 7   division            23381 non-null  category      \n",
      " 8   bureau              18851 non-null  category      \n",
      " 9   event_date_time     23510 non-null  datetime64[ns]\n",
      "dtypes: bool(1), category(6), datetime64[ns](1), int64(2)\n",
      "memory usage: 713.6 KB\n"
     ]
    }
   ],
   "source": [
    "# Categorical variables\n",
    "arrests[['race', 'gender', 'ethnicity', 'district', 'division', 'bureau']] = arrests[['race', 'gender', 'ethnicity', 'district', 'division', 'bureau']].astype('category')\n",
    "\n",
    "# Boolean variable\n",
    "arrests['adjacent_to_school'] = arrests['adjacent_to_school'].astype(bool)\n",
    "\n",
    "# Date time variable\n",
    "arrests[\"event_date_time\"] = pd.to_datetime(arrests['event_date_time'])\n",
    "\n",
    "arrests.info()"
   ]
  },
  {
   "cell_type": "markdown",
   "metadata": {},
   "source": [
    "### Categorical variable study"
   ]
  },
  {
   "cell_type": "markdown",
   "metadata": {},
   "source": [
    "#### Districts"
   ]
  },
  {
   "cell_type": "code",
   "execution_count": 125,
   "metadata": {},
   "outputs": [
    {
     "data": {
      "text/plain": [
       "district\n",
       "3.0    4782\n",
       "6.0    4748\n",
       "4.0    4563\n",
       "5.0    3820\n",
       "1.0    2513\n",
       "2.0    2196\n",
       "8.0     786\n",
       "Name: count, dtype: int64"
      ]
     },
     "execution_count": 125,
     "metadata": {},
     "output_type": "execute_result"
    }
   ],
   "source": [
    "arrests['district'].value_counts()"
   ]
  },
  {
   "cell_type": "code",
   "execution_count": 126,
   "metadata": {},
   "outputs": [
    {
     "data": {
      "text/plain": [
       "[6.0, 1.0, 4.0, 3.0, 5.0, 2.0, 8.0, NaN]\n",
       "Categories (7, float64): [1.0, 2.0, 3.0, 4.0, 5.0, 6.0, 8.0]"
      ]
     },
     "execution_count": 126,
     "metadata": {},
     "output_type": "execute_result"
    }
   ],
   "source": [
    "arrests['district'].unique()"
   ]
  },
  {
   "cell_type": "markdown",
   "metadata": {},
   "source": [
    "We don't have any records for district 7, so we will assume district 8 corresponds to Montgomery County district 7.\n",
    "We are basing off of the political and administrative divisions for the districts."
   ]
  },
  {
   "cell_type": "markdown",
   "metadata": {},
   "source": [
    "#### Bureau"
   ]
  },
  {
   "cell_type": "code",
   "execution_count": 127,
   "metadata": {},
   "outputs": [
    {
     "data": {
      "text/plain": [
       "['FSB', NaN, 'PSB', 'MSB', 'ISB']\n",
       "Categories (4, object): ['FSB', 'ISB', 'MSB', 'PSB']"
      ]
     },
     "execution_count": 127,
     "metadata": {},
     "output_type": "execute_result"
    }
   ],
   "source": [
    "arrests['bureau'].unique()"
   ]
  },
  {
   "cell_type": "markdown",
   "metadata": {},
   "source": [
    "source: https://www.montgomerycountymd.gov/pol/bureaus/index.html <br>\n",
    "The Police Department is structured into the Office of the Chief and five major bureaus:\n",
    "- the Community Resources Bureau\n",
    "- the Field Services Bureau\n",
    "- the Investigative Services Bureau\n",
    "- the Management Services Bureau\n",
    "- the Patrol Services Bureau.<br>\n",
    "        The Patrol Services Bureau, the largest and most visible bureau in the Police Department, oversees most of the Department’s uniformed officers on patrol. The Patrol Services Bureau is divided into six police districts."
   ]
  },
  {
   "cell_type": "code",
   "execution_count": 128,
   "metadata": {},
   "outputs": [],
   "source": [
    "bureaus = {'FSB': 'Field Services Bureau',\n",
    "           'PSB': 'Patrol Services Bureau',\n",
    "           'MSB': 'Management Services Bureau',\n",
    "           'ISB': 'Investigative Services Bureau'}"
   ]
  },
  {
   "cell_type": "markdown",
   "metadata": {},
   "source": [
    "#### Division\n",
    "District/Division of officer's assignment"
   ]
  },
  {
   "cell_type": "markdown",
   "metadata": {},
   "source": [
    "Forensic Science Evidence Management Division\n",
    "​Internal Affairs Division"
   ]
  },
  {
   "cell_type": "code",
   "execution_count": 129,
   "metadata": {},
   "outputs": [],
   "source": [
    "arrests['division'].unique()\n",
    "\n",
    "divisions = {'TOD': 'Traffic Operations Division',\n",
    "             'IMTD': 'Information Management and Technology Division',\n",
    "             'SVID': 'Special Victims Investigations Division',\n",
    "             'CID': 'Criminal Investigations Division',\n",
    "             'SID': 'Special Investigations Division',\n",
    "             'MCD': 'Major Crimes Division',\n",
    "             'SOD': 'Special Operations Division',\n",
    "             'CED': 'Community Engagement Division',\n",
    "             'RCPD': 'Rockville City Police Department',\n",
    "             'TPPD': 'Takoma Park Police Department',\n",
    "             'GPD': 'Gaithersburg Police Department',\n",
    "             'IMTD': 'Information Management and Technology Division',\n",
    "             'PSTA': 'Public Safety Training Academy',\n",
    "             'MCSO': 'Montgomery County Sheriff\\'s Office',\n",
    "             'PSCC': 'Public Safety Communications Centre',\n",
    "             '1D': 'District 1',\n",
    "             '2D': 'District 2',\n",
    "             '3D': 'District 3',\n",
    "             '4D': 'District 5',\n",
    "             '5D': 'District 5',\n",
    "             '6D': 'District 6'}"
   ]
  },
  {
   "cell_type": "code",
   "execution_count": 130,
   "metadata": {},
   "outputs": [
    {
     "data": {
      "text/plain": [
       "division\n",
       "TOD     1033\n",
       "CED      361\n",
       "SOD        7\n",
       "FSB        4\n",
       "1D         0\n",
       "MCFM       0\n",
       "SVID       0\n",
       "SID        0\n",
       "RCPD       0\n",
       "PSTA       0\n",
       "PSCC       0\n",
       "PERS       0\n",
       "MCSO       0\n",
       "MCD        0\n",
       "2D         0\n",
       "ISB        0\n",
       "IMTD       0\n",
       "GPD        0\n",
       "CID        0\n",
       "6D         0\n",
       "5D         0\n",
       "4D         0\n",
       "3D         0\n",
       "TPPD       0\n",
       "Name: count, dtype: int64"
      ]
     },
     "execution_count": 130,
     "metadata": {},
     "output_type": "execute_result"
    }
   ],
   "source": [
    "arrests['division'][arrests['bureau'] == \"FSB\"].value_counts()"
   ]
  },
  {
   "cell_type": "code",
   "execution_count": 131,
   "metadata": {},
   "outputs": [
    {
     "data": {
      "text/plain": [
       "division\n",
       "IMTD    463\n",
       "PSTA     17\n",
       "PSCC      1\n",
       "PERS      1\n",
       "1D        0\n",
       "MCFM      0\n",
       "TOD       0\n",
       "SVID      0\n",
       "SOD       0\n",
       "SID       0\n",
       "RCPD      0\n",
       "MCSO      0\n",
       "MCD       0\n",
       "2D        0\n",
       "ISB       0\n",
       "GPD       0\n",
       "FSB       0\n",
       "CID       0\n",
       "CED       0\n",
       "6D        0\n",
       "5D        0\n",
       "4D        0\n",
       "3D        0\n",
       "TPPD      0\n",
       "Name: count, dtype: int64"
      ]
     },
     "execution_count": 131,
     "metadata": {},
     "output_type": "execute_result"
    }
   ],
   "source": [
    "arrests['division'][arrests['bureau'] == \"MSB\"].value_counts()"
   ]
  },
  {
   "cell_type": "code",
   "execution_count": 132,
   "metadata": {},
   "outputs": [
    {
     "data": {
      "text/plain": [
       "division\n",
       "SID     254\n",
       "SVID    249\n",
       "MCD      75\n",
       "CID      74\n",
       "ISB       3\n",
       "MCFM      0\n",
       "TOD       0\n",
       "SOD       0\n",
       "RCPD      0\n",
       "PSTA      0\n",
       "PSCC      0\n",
       "PERS      0\n",
       "MCSO      0\n",
       "1D        0\n",
       "2D        0\n",
       "IMTD      0\n",
       "GPD       0\n",
       "FSB       0\n",
       "CED       0\n",
       "6D        0\n",
       "5D        0\n",
       "4D        0\n",
       "3D        0\n",
       "TPPD      0\n",
       "Name: count, dtype: int64"
      ]
     },
     "execution_count": 132,
     "metadata": {},
     "output_type": "execute_result"
    }
   ],
   "source": [
    "arrests['division'][arrests['bureau'] == \"ISB\"].value_counts()"
   ]
  },
  {
   "cell_type": "code",
   "execution_count": 133,
   "metadata": {},
   "outputs": [
    {
     "data": {
      "text/plain": [
       "division\n",
       "3D      4331\n",
       "4D      3908\n",
       "5D      3502\n",
       "2D      1870\n",
       "6D      1766\n",
       "1D       926\n",
       "MCSO       6\n",
       "PERS       0\n",
       "TOD        0\n",
       "SVID       0\n",
       "SOD        0\n",
       "SID        0\n",
       "RCPD       0\n",
       "PSTA       0\n",
       "PSCC       0\n",
       "MCD        0\n",
       "MCFM       0\n",
       "ISB        0\n",
       "IMTD       0\n",
       "GPD        0\n",
       "FSB        0\n",
       "CID        0\n",
       "CED        0\n",
       "TPPD       0\n",
       "Name: count, dtype: int64"
      ]
     },
     "execution_count": 133,
     "metadata": {},
     "output_type": "execute_result"
    }
   ],
   "source": [
    "arrests['division'][arrests['bureau'] == \"PSB\"].value_counts()"
   ]
  }
 ],
 "metadata": {
  "kernelspec": {
   "display_name": "base",
   "language": "python",
   "name": "python3"
  },
  "language_info": {
   "codemirror_mode": {
    "name": "ipython",
    "version": 3
   },
   "file_extension": ".py",
   "mimetype": "text/x-python",
   "name": "python",
   "nbconvert_exporter": "python",
   "pygments_lexer": "ipython3",
   "version": "3.12.2"
  }
 },
 "nbformat": 4,
 "nbformat_minor": 2
}
