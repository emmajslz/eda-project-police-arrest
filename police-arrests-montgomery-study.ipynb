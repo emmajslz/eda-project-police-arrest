{
 "cells": [
  {
   "cell_type": "markdown",
   "metadata": {},
   "source": [
    "EDA & Visualization\n",
    "MSDS Summer 2024\n",
    "Final Group Project\n",
    "\n",
    "# Police arrests in Montgomery County from 2021 - July 1st 2024"
   ]
  },
  {
   "cell_type": "markdown",
   "metadata": {},
   "source": [
    "This dataset contains information about individuals who have been arrested by police officers in Montgomery County. The data includes demographic information about the individuals arrested, such as their race, gender, age, and ethnicity."
   ]
  },
  {
   "cell_type": "markdown",
   "metadata": {},
   "source": [
    "The data is available at https://www.kaggle.com/datasets/shayanshahid997/police-arrest-from-2021-2023/data"
   ]
  },
  {
   "cell_type": "code",
   "execution_count": 5657,
   "metadata": {},
   "outputs": [],
   "source": [
    "import pandas as pd\n",
    "import numpy as np\n",
    "import matplotlib.pyplot as plt\n",
    "from matplotlib import colors as clrs\n",
    "import datetime"
   ]
  },
  {
   "cell_type": "code",
   "execution_count": 5658,
   "metadata": {},
   "outputs": [],
   "source": [
    "# Supress warnings\n",
    "import warnings\n",
    "warnings.filterwarnings('ignore')"
   ]
  },
  {
   "cell_type": "markdown",
   "metadata": {},
   "source": [
    "# EDA"
   ]
  },
  {
   "cell_type": "code",
   "execution_count": 5659,
   "metadata": {},
   "outputs": [],
   "source": [
    "arrests = pd.read_csv(\"Police_Arrests_20240702.csv\")"
   ]
  },
  {
   "cell_type": "markdown",
   "metadata": {},
   "source": [
    "## A first look at the data"
   ]
  },
  {
   "cell_type": "code",
   "execution_count": 5660,
   "metadata": {},
   "outputs": [
    {
     "name": "stdout",
     "output_type": "stream",
     "text": [
      "(23510, 10)\n"
     ]
    },
    {
     "data": {
      "text/html": [
       "<div>\n",
       "<style scoped>\n",
       "    .dataframe tbody tr th:only-of-type {\n",
       "        vertical-align: middle;\n",
       "    }\n",
       "\n",
       "    .dataframe tbody tr th {\n",
       "        vertical-align: top;\n",
       "    }\n",
       "\n",
       "    .dataframe thead th {\n",
       "        text-align: right;\n",
       "    }\n",
       "</style>\n",
       "<table border=\"1\" class=\"dataframe\">\n",
       "  <thead>\n",
       "    <tr style=\"text-align: right;\">\n",
       "      <th></th>\n",
       "      <th>ID Reference Number</th>\n",
       "      <th>Subject's race</th>\n",
       "      <th>Subject's gender</th>\n",
       "      <th>Subject's age</th>\n",
       "      <th>Ethnicity</th>\n",
       "      <th>District of occurrence</th>\n",
       "      <th>Adjacent to School</th>\n",
       "      <th>Assigned Division</th>\n",
       "      <th>Assigned Bureau</th>\n",
       "      <th>Event Date/Time</th>\n",
       "    </tr>\n",
       "  </thead>\n",
       "  <tbody>\n",
       "    <tr>\n",
       "      <th>0</th>\n",
       "      <td>1</td>\n",
       "      <td>Asian</td>\n",
       "      <td>Male</td>\n",
       "      <td>43</td>\n",
       "      <td>NON-HISPANIC</td>\n",
       "      <td>6.0</td>\n",
       "      <td>0</td>\n",
       "      <td>TOD</td>\n",
       "      <td>FSB</td>\n",
       "      <td>1/1/2021 1:07</td>\n",
       "    </tr>\n",
       "    <tr>\n",
       "      <th>1</th>\n",
       "      <td>2</td>\n",
       "      <td>Black/African American</td>\n",
       "      <td>Male</td>\n",
       "      <td>23</td>\n",
       "      <td>NON-HISPANIC</td>\n",
       "      <td>1.0</td>\n",
       "      <td>0</td>\n",
       "      <td>RCPD</td>\n",
       "      <td>NaN</td>\n",
       "      <td>1/1/2021 0:52</td>\n",
       "    </tr>\n",
       "    <tr>\n",
       "      <th>2</th>\n",
       "      <td>3</td>\n",
       "      <td>Black/African American</td>\n",
       "      <td>Male</td>\n",
       "      <td>18</td>\n",
       "      <td>NON-HISPANIC</td>\n",
       "      <td>1.0</td>\n",
       "      <td>0</td>\n",
       "      <td>RCPD</td>\n",
       "      <td>NaN</td>\n",
       "      <td>1/1/2021 0:52</td>\n",
       "    </tr>\n",
       "    <tr>\n",
       "      <th>3</th>\n",
       "      <td>4</td>\n",
       "      <td>Black/African American</td>\n",
       "      <td>Male</td>\n",
       "      <td>21</td>\n",
       "      <td>NON-HISPANIC</td>\n",
       "      <td>1.0</td>\n",
       "      <td>0</td>\n",
       "      <td>RCPD</td>\n",
       "      <td>NaN</td>\n",
       "      <td>1/1/2021 0:52</td>\n",
       "    </tr>\n",
       "    <tr>\n",
       "      <th>4</th>\n",
       "      <td>5</td>\n",
       "      <td>White</td>\n",
       "      <td>Female</td>\n",
       "      <td>38</td>\n",
       "      <td>HISPANIC</td>\n",
       "      <td>4.0</td>\n",
       "      <td>0</td>\n",
       "      <td>TOD</td>\n",
       "      <td>FSB</td>\n",
       "      <td>1/1/2021 3:00</td>\n",
       "    </tr>\n",
       "  </tbody>\n",
       "</table>\n",
       "</div>"
      ],
      "text/plain": [
       "   ID Reference Number           Subject's race Subject's gender  \\\n",
       "0                     1                   Asian             Male   \n",
       "1                     2  Black/African American             Male   \n",
       "2                     3  Black/African American             Male   \n",
       "3                     4  Black/African American             Male   \n",
       "4                     5                   White           Female   \n",
       "\n",
       "   Subject's age     Ethnicity  District of occurrence  Adjacent to School  \\\n",
       "0             43  NON-HISPANIC                     6.0                   0   \n",
       "1             23  NON-HISPANIC                     1.0                   0   \n",
       "2             18  NON-HISPANIC                     1.0                   0   \n",
       "3             21  NON-HISPANIC                     1.0                   0   \n",
       "4             38      HISPANIC                     4.0                   0   \n",
       "\n",
       "  Assigned Division Assigned Bureau Event Date/Time  \n",
       "0               TOD             FSB   1/1/2021 1:07  \n",
       "1              RCPD             NaN   1/1/2021 0:52  \n",
       "2              RCPD             NaN   1/1/2021 0:52  \n",
       "3              RCPD             NaN   1/1/2021 0:52  \n",
       "4               TOD             FSB   1/1/2021 3:00  "
      ]
     },
     "execution_count": 5660,
     "metadata": {},
     "output_type": "execute_result"
    }
   ],
   "source": [
    "print(arrests.shape)\n",
    "arrests.head()"
   ]
  },
  {
   "cell_type": "code",
   "execution_count": 5661,
   "metadata": {},
   "outputs": [
    {
     "name": "stdout",
     "output_type": "stream",
     "text": [
      "<class 'pandas.core.frame.DataFrame'>\n",
      "RangeIndex: 23510 entries, 0 to 23509\n",
      "Data columns (total 10 columns):\n",
      " #   Column                  Non-Null Count  Dtype  \n",
      "---  ------                  --------------  -----  \n",
      " 0   ID Reference Number     23510 non-null  int64  \n",
      " 1   Subject's race          23510 non-null  object \n",
      " 2   Subject's gender        23510 non-null  object \n",
      " 3   Subject's age           23510 non-null  int64  \n",
      " 4   Ethnicity               23510 non-null  object \n",
      " 5   District of occurrence  23408 non-null  float64\n",
      " 6   Adjacent to School      23510 non-null  int64  \n",
      " 7   Assigned Division       23381 non-null  object \n",
      " 8   Assigned Bureau         18851 non-null  object \n",
      " 9   Event Date/Time         23510 non-null  object \n",
      "dtypes: float64(1), int64(3), object(6)\n",
      "memory usage: 1.8+ MB\n"
     ]
    }
   ],
   "source": [
    "arrests.info()"
   ]
  },
  {
   "cell_type": "code",
   "execution_count": 5662,
   "metadata": {},
   "outputs": [
    {
     "data": {
      "text/html": [
       "<div>\n",
       "<style scoped>\n",
       "    .dataframe tbody tr th:only-of-type {\n",
       "        vertical-align: middle;\n",
       "    }\n",
       "\n",
       "    .dataframe tbody tr th {\n",
       "        vertical-align: top;\n",
       "    }\n",
       "\n",
       "    .dataframe thead th {\n",
       "        text-align: right;\n",
       "    }\n",
       "</style>\n",
       "<table border=\"1\" class=\"dataframe\">\n",
       "  <thead>\n",
       "    <tr style=\"text-align: right;\">\n",
       "      <th></th>\n",
       "      <th>ID Reference Number</th>\n",
       "      <th>Subject's age</th>\n",
       "      <th>District of occurrence</th>\n",
       "      <th>Adjacent to School</th>\n",
       "    </tr>\n",
       "  </thead>\n",
       "  <tbody>\n",
       "    <tr>\n",
       "      <th>count</th>\n",
       "      <td>23510.00000</td>\n",
       "      <td>23510.000000</td>\n",
       "      <td>23408.000000</td>\n",
       "      <td>23510.000000</td>\n",
       "    </tr>\n",
       "    <tr>\n",
       "      <th>mean</th>\n",
       "      <td>11755.50000</td>\n",
       "      <td>31.813143</td>\n",
       "      <td>3.989192</td>\n",
       "      <td>0.085155</td>\n",
       "    </tr>\n",
       "    <tr>\n",
       "      <th>std</th>\n",
       "      <td>6786.89675</td>\n",
       "      <td>12.946909</td>\n",
       "      <td>1.748587</td>\n",
       "      <td>0.279119</td>\n",
       "    </tr>\n",
       "    <tr>\n",
       "      <th>min</th>\n",
       "      <td>1.00000</td>\n",
       "      <td>1.000000</td>\n",
       "      <td>1.000000</td>\n",
       "      <td>0.000000</td>\n",
       "    </tr>\n",
       "    <tr>\n",
       "      <th>25%</th>\n",
       "      <td>5878.25000</td>\n",
       "      <td>22.000000</td>\n",
       "      <td>3.000000</td>\n",
       "      <td>0.000000</td>\n",
       "    </tr>\n",
       "    <tr>\n",
       "      <th>50%</th>\n",
       "      <td>11755.50000</td>\n",
       "      <td>30.000000</td>\n",
       "      <td>4.000000</td>\n",
       "      <td>0.000000</td>\n",
       "    </tr>\n",
       "    <tr>\n",
       "      <th>75%</th>\n",
       "      <td>17632.75000</td>\n",
       "      <td>39.000000</td>\n",
       "      <td>5.000000</td>\n",
       "      <td>0.000000</td>\n",
       "    </tr>\n",
       "    <tr>\n",
       "      <th>max</th>\n",
       "      <td>23510.00000</td>\n",
       "      <td>99.000000</td>\n",
       "      <td>8.000000</td>\n",
       "      <td>1.000000</td>\n",
       "    </tr>\n",
       "  </tbody>\n",
       "</table>\n",
       "</div>"
      ],
      "text/plain": [
       "       ID Reference Number   Subject's age  District of occurrence  \\\n",
       "count           23510.00000   23510.000000            23408.000000   \n",
       "mean            11755.50000      31.813143                3.989192   \n",
       "std              6786.89675      12.946909                1.748587   \n",
       "min                 1.00000       1.000000                1.000000   \n",
       "25%              5878.25000      22.000000                3.000000   \n",
       "50%             11755.50000      30.000000                4.000000   \n",
       "75%             17632.75000      39.000000                5.000000   \n",
       "max             23510.00000      99.000000                8.000000   \n",
       "\n",
       "       Adjacent to School  \n",
       "count        23510.000000  \n",
       "mean             0.085155  \n",
       "std              0.279119  \n",
       "min              0.000000  \n",
       "25%              0.000000  \n",
       "50%              0.000000  \n",
       "75%              0.000000  \n",
       "max              1.000000  "
      ]
     },
     "execution_count": 5662,
     "metadata": {},
     "output_type": "execute_result"
    }
   ],
   "source": [
    "arrests.describe()"
   ]
  },
  {
   "cell_type": "markdown",
   "metadata": {},
   "source": [
    "## Types"
   ]
  },
  {
   "cell_type": "markdown",
   "metadata": {},
   "source": [
    "<b>The information provided about each variable and its information is the following:</b>"
   ]
  },
  {
   "cell_type": "markdown",
   "metadata": {},
   "source": [
    "<div class=\"alert alert-block alert-info\">\n",
    "\n",
    "This dataset contains information about individuals who have been arrested by police officers in Montgomery County. The data includes demographic information about the individuals arrested, such as their race, gender, age, and ethnicity.\n",
    "\n",
    "The `ID Reference Number` column likely serves as a unique identifier for each arrest record.\n",
    "\n",
    "The `Subject's race`, `Subject's gender`, `Subject's age`, and `Ethnicity` columns provide demographic information about the individuals who were arrested.\n",
    "\n",
    "The `District of occurrence` column likely indicates the district in which the arrest took place.\n",
    "\n",
    "The `Adjacent to School` column is particularly interesting. It appears to indicate whether the arrest took place within 500 feet of a school, with a 1 indicating that it did and a 0 indicating that it did not. This could be useful for analyzing patterns in where arrests occur.\n",
    "\n",
    "The `Assigned Division` and `Assigned Bureau` columns likely indicate the division and bureau of the police department that were assigned to the arrest.\n",
    "\n",
    "Finally, the `Event Date/Time` column provides the date and time of the arrest. This could be useful for analyzing patterns in when arrests occur.\n",
    "\n",
    "</div>"
   ]
  },
  {
   "cell_type": "markdown",
   "metadata": {},
   "source": [
    "<div class=\"alert alert-block alert-info\">\n",
    "\n",
    "| Column Name            | Description                                      | Field Name         | Data Type          |\n",
    "| ---------------------- | ------------------------------------------------ | ------------------ | ------------------ | \n",
    "| ID Reference Number    | Row number/ID Reference Number                   | id                 | Text               |\n",
    "| Subject's race         | Subject's race                                   | race               | Text               |\n",
    "| Subject's gender       | Subject's gender                                 | gender             | Text               |\n",
    "| Subject's age          | Subject's age                                    | age                | Text               |\n",
    "| Ethnicity\tSubject's    | ethnicity                                        | ethnicity          | Text               |\n",
    "| District of occurrence | District of occurrence                           | district           | Text               |\n",
    "| Adjacent to School     | Arrest occurred within 500 ft. of a school (1/0) | adjacent_to_school | Text               |\n",
    "| Assigned Division      | District/division of officer's assignment        | division           | Text               |\n",
    "| Assigned Bureau        | Bureau of officer's assignment                   | bureau             | Text               |\n",
    "| Event Date/Time        | Event Date/Time                                  | event_date_time    | Floating Timestamp |\n",
    "\n",
    "</div>"
   ]
  },
  {
   "cell_type": "markdown",
   "metadata": {},
   "source": [
    "Let's look at the dtype of each variable after importing."
   ]
  },
  {
   "cell_type": "code",
   "execution_count": 5663,
   "metadata": {},
   "outputs": [
    {
     "name": "stdout",
     "output_type": "stream",
     "text": [
      "<class 'pandas.core.frame.DataFrame'>\n",
      "RangeIndex: 23510 entries, 0 to 23509\n",
      "Data columns (total 10 columns):\n",
      " #   Column                  Non-Null Count  Dtype  \n",
      "---  ------                  --------------  -----  \n",
      " 0   ID Reference Number     23510 non-null  int64  \n",
      " 1   Subject's race          23510 non-null  object \n",
      " 2   Subject's gender        23510 non-null  object \n",
      " 3   Subject's age           23510 non-null  int64  \n",
      " 4   Ethnicity               23510 non-null  object \n",
      " 5   District of occurrence  23408 non-null  float64\n",
      " 6   Adjacent to School      23510 non-null  int64  \n",
      " 7   Assigned Division       23381 non-null  object \n",
      " 8   Assigned Bureau         18851 non-null  object \n",
      " 9   Event Date/Time         23510 non-null  object \n",
      "dtypes: float64(1), int64(3), object(6)\n",
      "memory usage: 1.8+ MB\n"
     ]
    }
   ],
   "source": [
    "arrests.info()"
   ]
  },
  {
   "cell_type": "markdown",
   "metadata": {},
   "source": [
    "Before going ahead with redefining our dtypes, let's rename the columns to the names on the <b>Field</b> column above, for simplicity's sake."
   ]
  },
  {
   "cell_type": "code",
   "execution_count": 5664,
   "metadata": {},
   "outputs": [
    {
     "name": "stdout",
     "output_type": "stream",
     "text": [
      "{'ID Reference Number ': 'id', \"Subject's race\": 'race', \"Subject's gender\": 'gender', \"Subject's age\": 'age', 'Ethnicity': 'ethnicity', 'District of occurrence': 'district', 'Adjacent to School': 'adjacent_to_school', 'Assigned Division': 'division', 'Assigned Bureau': 'bureau', 'Event Date/Time': 'event_date_time'}\n"
     ]
    }
   ],
   "source": [
    "renames = {}\n",
    "for colname in arrests:\n",
    "    words = colname.lower().split(' ')\n",
    "    if words[0] == 'id' or words[0] == \"district\" or words[0] == \"ethnicity\":\n",
    "        renames[colname] = words[0]\n",
    "    elif words[0] == \"subject's\" or words[0] == \"assigned\":\n",
    "        renames[colname] = words[1]\n",
    "    elif words[0] == 'event':\n",
    "        words = [words[0]] + words[1].split(\"/\")\n",
    "        renames[colname] = \"_\".join(words)\n",
    "    else:\n",
    "        renames[colname] = \"_\".join(words)\n",
    "print(renames)"
   ]
  },
  {
   "cell_type": "code",
   "execution_count": 5665,
   "metadata": {},
   "outputs": [],
   "source": [
    "arrests.rename(columns=renames, inplace=True)"
   ]
  },
  {
   "cell_type": "markdown",
   "metadata": {},
   "source": [
    "Now, let's look at al the <b>unique values</b> we have on our variables."
   ]
  },
  {
   "cell_type": "code",
   "execution_count": 5666,
   "metadata": {},
   "outputs": [
    {
     "name": "stdout",
     "output_type": "stream",
     "text": [
      "\n",
      "The column id has 23510 unique values.\n",
      "\n",
      "[    1     2     3 ... 23508 23509 23510]\n",
      "\n",
      "The column race has 6 unique values.\n",
      "\n",
      "['Asian' 'Black/African American' 'White' 'Unknown'\n",
      " 'American Indian/ALSK Natv' 'Hawaiian/Pacific Islander']\n",
      "\n",
      "The column gender has 2 unique values.\n",
      "\n",
      "['Male' 'Female']\n",
      "\n",
      "The column age has 78 unique values.\n",
      "\n",
      "[43 23 18 21 38 31 37 40 34 49 27 32 28 25 30 29 35 26 24 39 41 20 19 16\n",
      " 33 60 62 55 45 36 52 56 53 17 22 48 15 51 57 47 44 42 50 64 46 54 58 13\n",
      " 14 59 66 79 80 63 61 69 71 12 72 65 67 73 10 68 83 76 99 75 11 70 77 78\n",
      "  1 74 84 85 86 82]\n",
      "\n",
      "The column ethnicity has 2 unique values.\n",
      "\n",
      "['NON-HISPANIC' 'HISPANIC']\n",
      "\n",
      "The column district has 8 unique values.\n",
      "\n",
      "[ 6.  1.  4.  3.  5.  2.  8. nan]\n",
      "\n",
      "The column adjacent_to_school has 2 unique values.\n",
      "\n",
      "[0 1]\n",
      "\n",
      "The column division has 25 unique values.\n",
      "\n",
      "['TOD' 'RCPD' 'TPPD' 'GPD' '4D' '3D' '5D' '6D' 'IMTD' '2D' '1D' 'SVID'\n",
      " 'CID' 'MCFM' 'SID' 'PSTA' nan 'MCSO' 'MCD' 'SOD' 'CED' 'PSCC' 'FSB'\n",
      " 'PERS' 'ISB']\n",
      "\n",
      "The column bureau has 5 unique values.\n",
      "\n",
      "['FSB' nan 'PSB' 'MSB' 'ISB']\n",
      "\n",
      "The column event_date_time has 20312 unique values.\n",
      "\n",
      "['1/1/2021 1:07' '1/1/2021 0:52' '1/1/2021 3:00' ... '7/1/2024 7:27'\n",
      " '6/29/2024 2:42' '7/1/2024 16:23']\n"
     ]
    }
   ],
   "source": [
    "for col in arrests:\n",
    "    uniques = arrests[col].unique()\n",
    "    print(f\"\\nThe column {col} has {len(uniques)} unique values.\\n\")\n",
    "    print(uniques)"
   ]
  },
  {
   "cell_type": "markdown",
   "metadata": {},
   "source": [
    "Based on this information, this is the types we'd think optimal to attribute to each of the columns:"
   ]
  },
  {
   "cell_type": "markdown",
   "metadata": {},
   "source": [
    "| Column Name            | Description                                      | Field Name         | Data Type                   |\n",
    "| ---------------------- | ------------------------------------------------ | ------------------ | --------------------------- | \n",
    "| ID Reference Number    | Row number/ID Reference Number                   | id                 | <b> int </b>                |\n",
    "| Subject's race         | Subject's race                                   | race               | <b> categorical </b>        |\n",
    "| Subject's gender       | Subject's gender                                 | gender             | <b> categorical </b>        |\n",
    "| Subject's age          | Subject's age                                    | age                | <b> int </b>                |\n",
    "| Ethnicity\tSubject's    | ethnicity                                        | ethnicity          | <b> categorical </b>        |\n",
    "| District of occurrence | District of occurrence                           | district           | <b> categorical </b>        |\n",
    "| Adjacent to School     | Arrest occurred within 500 ft. of a school (1/0) | adjacent_to_school | <b> bool </b>               |\n",
    "| Assigned Division      | District/division of officer's assignment        | division           | <b> categorical </b>        |\n",
    "| Assigned Bureau        | Bureau of officer's assignment                   | bureau             | <b> categorical </b>        |\n",
    "| Event Date/Time        | Event Date/Time                                  | event_date_time    | <b> datetime </b>           |"
   ]
  },
  {
   "cell_type": "markdown",
   "metadata": {},
   "source": [
    "Let's look at what dtypes our columns ended up with after importing the data and ajudst the column types that need adjusting."
   ]
  },
  {
   "cell_type": "code",
   "execution_count": 5667,
   "metadata": {},
   "outputs": [
    {
     "name": "stdout",
     "output_type": "stream",
     "text": [
      "<class 'pandas.core.frame.DataFrame'>\n",
      "RangeIndex: 23510 entries, 0 to 23509\n",
      "Data columns (total 10 columns):\n",
      " #   Column              Non-Null Count  Dtype  \n",
      "---  ------              --------------  -----  \n",
      " 0   id                  23510 non-null  int64  \n",
      " 1   race                23510 non-null  object \n",
      " 2   gender              23510 non-null  object \n",
      " 3   age                 23510 non-null  int64  \n",
      " 4   ethnicity           23510 non-null  object \n",
      " 5   district            23408 non-null  float64\n",
      " 6   adjacent_to_school  23510 non-null  int64  \n",
      " 7   division            23381 non-null  object \n",
      " 8   bureau              18851 non-null  object \n",
      " 9   event_date_time     23510 non-null  object \n",
      "dtypes: float64(1), int64(3), object(6)\n",
      "memory usage: 1.8+ MB\n"
     ]
    }
   ],
   "source": [
    "arrests.info()"
   ]
  },
  {
   "cell_type": "code",
   "execution_count": 5668,
   "metadata": {},
   "outputs": [
    {
     "name": "stdout",
     "output_type": "stream",
     "text": [
      "<class 'pandas.core.frame.DataFrame'>\n",
      "RangeIndex: 23510 entries, 0 to 23509\n",
      "Data columns (total 10 columns):\n",
      " #   Column              Non-Null Count  Dtype         \n",
      "---  ------              --------------  -----         \n",
      " 0   id                  23510 non-null  int64         \n",
      " 1   race                23510 non-null  category      \n",
      " 2   gender              23510 non-null  category      \n",
      " 3   age                 23510 non-null  int64         \n",
      " 4   ethnicity           23510 non-null  category      \n",
      " 5   district            23408 non-null  category      \n",
      " 6   adjacent_to_school  23510 non-null  bool          \n",
      " 7   division            23381 non-null  category      \n",
      " 8   bureau              18851 non-null  category      \n",
      " 9   event_date_time     23510 non-null  datetime64[ns]\n",
      "dtypes: bool(1), category(6), datetime64[ns](1), int64(2)\n",
      "memory usage: 713.6 KB\n"
     ]
    }
   ],
   "source": [
    "# Categorical variables\n",
    "arrests[['race', 'gender', 'ethnicity', 'district', 'division', 'bureau']] = arrests[['race', 'gender', 'ethnicity', 'district', 'division', 'bureau']].astype('category')\n",
    "\n",
    "# Boolean variable\n",
    "arrests['adjacent_to_school'] = arrests['adjacent_to_school'].astype(bool)\n",
    "\n",
    "# Date time variable\n",
    "arrests[\"event_date_time\"] = pd.to_datetime(arrests['event_date_time'])\n",
    "\n",
    "arrests.info()"
   ]
  },
  {
   "cell_type": "markdown",
   "metadata": {},
   "source": [
    "## Missing values"
   ]
  },
  {
   "cell_type": "code",
   "execution_count": 5669,
   "metadata": {},
   "outputs": [
    {
     "data": {
      "text/plain": [
       "id                    False\n",
       "race                  False\n",
       "gender                False\n",
       "age                   False\n",
       "ethnicity             False\n",
       "district               True\n",
       "adjacent_to_school    False\n",
       "division               True\n",
       "bureau                 True\n",
       "event_date_time       False\n",
       "dtype: bool"
      ]
     },
     "execution_count": 5669,
     "metadata": {},
     "output_type": "execute_result"
    }
   ],
   "source": [
    "arrests.isnull().any()"
   ]
  },
  {
   "cell_type": "markdown",
   "metadata": {},
   "source": [
    "We have missing values in the `district`, `division` and `bureau` columns. After we've explored these variables, we will decide how to treat them."
   ]
  },
  {
   "cell_type": "markdown",
   "metadata": {},
   "source": [
    "Before that, let's get more information about our missing values:"
   ]
  },
  {
   "cell_type": "code",
   "execution_count": 5670,
   "metadata": {},
   "outputs": [
    {
     "name": "stdout",
     "output_type": "stream",
     "text": [
      "Number of records: 23510\n",
      "\n",
      "Number of rows with missing values for each column:\n",
      "id                       0\n",
      "race                     0\n",
      "gender                   0\n",
      "age                      0\n",
      "ethnicity                0\n",
      "district               102\n",
      "adjacent_to_school       0\n",
      "division               129\n",
      "bureau                4659\n",
      "event_date_time          0\n",
      "dtype: int64\n"
     ]
    }
   ],
   "source": [
    "nb_records = arrests.shape[0]\n",
    "print(f\"Number of records: {nb_records}\\n\")\n",
    "print(f\"Number of rows with missing values for each column:\\n{arrests.isnull().sum()}\")"
   ]
  },
  {
   "cell_type": "code",
   "execution_count": 5671,
   "metadata": {},
   "outputs": [
    {
     "name": "stdout",
     "output_type": "stream",
     "text": [
      "Percentage of missingnes for each column:\n",
      "id                     0.00\n",
      "race                   0.00\n",
      "gender                 0.00\n",
      "age                    0.00\n",
      "ethnicity              0.00\n",
      "district               0.43\n",
      "adjacent_to_school     0.00\n",
      "division               0.55\n",
      "bureau                19.82\n",
      "event_date_time        0.00\n",
      "dtype: float64\n"
     ]
    }
   ],
   "source": [
    "print(f\"Percentage of missingnes for each column:\\n{round((arrests.isnull().sum() / nb_records)*100, 2)}\")"
   ]
  },
  {
   "cell_type": "markdown",
   "metadata": {},
   "source": [
    "## Exploration of variables"
   ]
  },
  {
   "cell_type": "markdown",
   "metadata": {},
   "source": [
    "### Continuous variables"
   ]
  },
  {
   "cell_type": "markdown",
   "metadata": {},
   "source": [
    "#### ID Reference Number"
   ]
  },
  {
   "cell_type": "code",
   "execution_count": 5672,
   "metadata": {},
   "outputs": [
    {
     "name": "stdout",
     "output_type": "stream",
     "text": [
      "0    1\n",
      "1    2\n",
      "2    3\n",
      "3    4\n",
      "4    5\n",
      "Name: id, dtype: int64\n",
      "23505    23506\n",
      "23506    23507\n",
      "23507    23508\n",
      "23508    23509\n",
      "23509    23510\n",
      "Name: id, dtype: int64\n"
     ]
    }
   ],
   "source": [
    "print(arrests['id'].head())\n",
    "print(arrests['id'].tail())"
   ]
  },
  {
   "cell_type": "markdown",
   "metadata": {},
   "source": [
    "These IDs don't give us any information except for the row number, which we already have. We'll go ahead and ignore this column."
   ]
  },
  {
   "cell_type": "markdown",
   "metadata": {},
   "source": [
    "#### Age"
   ]
  },
  {
   "cell_type": "code",
   "execution_count": 5673,
   "metadata": {},
   "outputs": [
    {
     "name": "stdout",
     "output_type": "stream",
     "text": [
      "Statistical summary for the variable age:\n",
      "count    23510.000000\n",
      "mean        31.813143\n",
      "std         12.946909\n",
      "min          1.000000\n",
      "25%         22.000000\n",
      "50%         30.000000\n",
      "75%         39.000000\n",
      "max         99.000000\n",
      "Name: age, dtype: float64\n",
      "\n",
      "Quantiles for the variable age:\n",
      "0.000     1.0\n",
      "0.001    11.0\n",
      "0.250    22.0\n",
      "0.500    30.0\n",
      "0.750    39.0\n",
      "0.900    51.0\n",
      "0.990    67.0\n",
      "0.999    79.0\n",
      "1.000    99.0\n",
      "Name: age, dtype: float64\n",
      "\n"
     ]
    }
   ],
   "source": [
    "print(f\"Statistical summary for the variable age:\\n{arrests['age'].describe()}\\n\")\n",
    "\n",
    "age_quantiles = arrests[\"age\"].quantile([.0, 0.001, 0.25, .5, 0.75, .9, .99, 0.999, 1])\n",
    "print(f\"Quantiles for the variable age:\\n{age_quantiles}\\n\")"
   ]
  },
  {
   "cell_type": "markdown",
   "metadata": {},
   "source": [
    "Let's plot the distribution"
   ]
  },
  {
   "cell_type": "code",
   "execution_count": 5674,
   "metadata": {},
   "outputs": [
    {
     "data": {
      "image/png": "[encoded data removed]",
      "text/plain": [
       "<Figure size 1200x500 with 2 Axes>"
      ]
     },
     "metadata": {},
     "output_type": "display_data"
    }
   ],
   "source": [
    "fig, ax = plt.subplots(nrows=1, ncols=2, figsize = (12,5))\n",
    "ax = ax.flatten()\n",
    "\n",
    "ax[0].hist(arrests['age'])\n",
    "ax[0].set_xlabel(\"Subject's age\")\n",
    "ax[0].set_ylabel(\"Frequency\")\n",
    "ax[0].set_title(\"Age distribution\")\n",
    "\n",
    "ax[1].boxplot(arrests['age'])\n",
    "ax[1].set_ylabel(\"Subject's age\")\n",
    "ax[1].set_title(\"Age distribution\")\n",
    "\n",
    "plt.show()"
   ]
  },
  {
   "cell_type": "markdown",
   "metadata": {},
   "source": [
    "<div class=\"alert alert-block alert-danger\">\n",
    "\n",
    "Subjects of age 1?\n",
    "\n",
    "</div>"
   ]
  },
  {
   "cell_type": "code",
   "execution_count": 5675,
   "metadata": {},
   "outputs": [
    {
     "data": {
      "text/html": [
       "<div>\n",
       "<style scoped>\n",
       "    .dataframe tbody tr th:only-of-type {\n",
       "        vertical-align: middle;\n",
       "    }\n",
       "\n",
       "    .dataframe tbody tr th {\n",
       "        vertical-align: top;\n",
       "    }\n",
       "\n",
       "    .dataframe thead th {\n",
       "        text-align: right;\n",
       "    }\n",
       "</style>\n",
       "<table border=\"1\" class=\"dataframe\">\n",
       "  <thead>\n",
       "    <tr style=\"text-align: right;\">\n",
       "      <th></th>\n",
       "      <th>id</th>\n",
       "      <th>race</th>\n",
       "      <th>gender</th>\n",
       "      <th>age</th>\n",
       "      <th>ethnicity</th>\n",
       "      <th>district</th>\n",
       "      <th>adjacent_to_school</th>\n",
       "      <th>division</th>\n",
       "      <th>bureau</th>\n",
       "      <th>event_date_time</th>\n",
       "    </tr>\n",
       "  </thead>\n",
       "  <tbody>\n",
       "    <tr>\n",
       "      <th>5497</th>\n",
       "      <td>5498</td>\n",
       "      <td>Black/African American</td>\n",
       "      <td>Male</td>\n",
       "      <td>1</td>\n",
       "      <td>NON-HISPANIC</td>\n",
       "      <td>3.0</td>\n",
       "      <td>False</td>\n",
       "      <td>TOD</td>\n",
       "      <td>FSB</td>\n",
       "      <td>2021-12-17 01:11:00</td>\n",
       "    </tr>\n",
       "  </tbody>\n",
       "</table>\n",
       "</div>"
      ],
      "text/plain": [
       "        id                    race gender  age     ethnicity district  \\\n",
       "5497  5498  Black/African American   Male    1  NON-HISPANIC      3.0   \n",
       "\n",
       "      adjacent_to_school division bureau     event_date_time  \n",
       "5497               False      TOD    FSB 2021-12-17 01:11:00  "
      ]
     },
     "execution_count": 5675,
     "metadata": {},
     "output_type": "execute_result"
    }
   ],
   "source": [
    "arrests[arrests['age']==1]"
   ]
  },
  {
   "cell_type": "markdown",
   "metadata": {},
   "source": [
    "<div class=\"alert alert-block alert-warning\">\n",
    "\n",
    "Subjects of age 99?\n",
    "\n",
    "</div>"
   ]
  },
  {
   "cell_type": "code",
   "execution_count": 5676,
   "metadata": {},
   "outputs": [
    {
     "data": {
      "text/plain": [
       "21334    99\n",
       "15903    99\n",
       "2966     99\n",
       "13022    99\n",
       "2023     99\n",
       "20261    99\n",
       "6579     99\n",
       "23334    99\n",
       "20450    86\n",
       "18119    85\n",
       "Name: age, dtype: int64"
      ]
     },
     "execution_count": 5676,
     "metadata": {},
     "output_type": "execute_result"
    }
   ],
   "source": [
    "arrests[\"age\"].sort_values(ascending=False).head(10)"
   ]
  },
  {
   "cell_type": "code",
   "execution_count": 5677,
   "metadata": {},
   "outputs": [
    {
     "name": "stdout",
     "output_type": "stream",
     "text": [
      "Records over the 0.999th quantile: age 79\n"
     ]
    },
    {
     "data": {
      "text/html": [
       "<div>\n",
       "<style scoped>\n",
       "    .dataframe tbody tr th:only-of-type {\n",
       "        vertical-align: middle;\n",
       "    }\n",
       "\n",
       "    .dataframe tbody tr th {\n",
       "        vertical-align: top;\n",
       "    }\n",
       "\n",
       "    .dataframe thead th {\n",
       "        text-align: right;\n",
       "    }\n",
       "</style>\n",
       "<table border=\"1\" class=\"dataframe\">\n",
       "  <thead>\n",
       "    <tr style=\"text-align: right;\">\n",
       "      <th></th>\n",
       "      <th>id</th>\n",
       "      <th>race</th>\n",
       "      <th>gender</th>\n",
       "      <th>age</th>\n",
       "      <th>ethnicity</th>\n",
       "      <th>district</th>\n",
       "      <th>adjacent_to_school</th>\n",
       "      <th>division</th>\n",
       "      <th>bureau</th>\n",
       "      <th>event_date_time</th>\n",
       "    </tr>\n",
       "  </thead>\n",
       "  <tbody>\n",
       "    <tr>\n",
       "      <th>13022</th>\n",
       "      <td>13023</td>\n",
       "      <td>Black/African American</td>\n",
       "      <td>Male</td>\n",
       "      <td>99</td>\n",
       "      <td>NON-HISPANIC</td>\n",
       "      <td>5.0</td>\n",
       "      <td>False</td>\n",
       "      <td>5D</td>\n",
       "      <td>PSB</td>\n",
       "      <td>2023-01-26 16:24:00</td>\n",
       "    </tr>\n",
       "    <tr>\n",
       "      <th>6579</th>\n",
       "      <td>6580</td>\n",
       "      <td>White</td>\n",
       "      <td>Male</td>\n",
       "      <td>99</td>\n",
       "      <td>HISPANIC</td>\n",
       "      <td>6.0</td>\n",
       "      <td>False</td>\n",
       "      <td>GPD</td>\n",
       "      <td>NaN</td>\n",
       "      <td>2022-02-17 00:40:00</td>\n",
       "    </tr>\n",
       "    <tr>\n",
       "      <th>21334</th>\n",
       "      <td>21335</td>\n",
       "      <td>Asian</td>\n",
       "      <td>Female</td>\n",
       "      <td>99</td>\n",
       "      <td>NON-HISPANIC</td>\n",
       "      <td>4.0</td>\n",
       "      <td>True</td>\n",
       "      <td>CED</td>\n",
       "      <td>FSB</td>\n",
       "      <td>2024-03-11 10:15:00</td>\n",
       "    </tr>\n",
       "    <tr>\n",
       "      <th>20261</th>\n",
       "      <td>20262</td>\n",
       "      <td>White</td>\n",
       "      <td>Female</td>\n",
       "      <td>99</td>\n",
       "      <td>HISPANIC</td>\n",
       "      <td>3.0</td>\n",
       "      <td>False</td>\n",
       "      <td>3D</td>\n",
       "      <td>PSB</td>\n",
       "      <td>2024-01-22 19:33:00</td>\n",
       "    </tr>\n",
       "    <tr>\n",
       "      <th>15903</th>\n",
       "      <td>15904</td>\n",
       "      <td>White</td>\n",
       "      <td>Male</td>\n",
       "      <td>99</td>\n",
       "      <td>NON-HISPANIC</td>\n",
       "      <td>1.0</td>\n",
       "      <td>False</td>\n",
       "      <td>RCPD</td>\n",
       "      <td>NaN</td>\n",
       "      <td>2023-06-17 12:45:00</td>\n",
       "    </tr>\n",
       "    <tr>\n",
       "      <th>23334</th>\n",
       "      <td>23335</td>\n",
       "      <td>Black/African American</td>\n",
       "      <td>Male</td>\n",
       "      <td>99</td>\n",
       "      <td>NON-HISPANIC</td>\n",
       "      <td>5.0</td>\n",
       "      <td>False</td>\n",
       "      <td>5D</td>\n",
       "      <td>PSB</td>\n",
       "      <td>2024-02-24 00:00:00</td>\n",
       "    </tr>\n",
       "    <tr>\n",
       "      <th>2966</th>\n",
       "      <td>2967</td>\n",
       "      <td>White</td>\n",
       "      <td>Female</td>\n",
       "      <td>99</td>\n",
       "      <td>NON-HISPANIC</td>\n",
       "      <td>6.0</td>\n",
       "      <td>False</td>\n",
       "      <td>6D</td>\n",
       "      <td>PSB</td>\n",
       "      <td>2021-07-26 15:32:00</td>\n",
       "    </tr>\n",
       "    <tr>\n",
       "      <th>2023</th>\n",
       "      <td>2024</td>\n",
       "      <td>White</td>\n",
       "      <td>Female</td>\n",
       "      <td>99</td>\n",
       "      <td>NON-HISPANIC</td>\n",
       "      <td>1.0</td>\n",
       "      <td>False</td>\n",
       "      <td>RCPD</td>\n",
       "      <td>NaN</td>\n",
       "      <td>2021-05-21 21:32:00</td>\n",
       "    </tr>\n",
       "    <tr>\n",
       "      <th>20450</th>\n",
       "      <td>20451</td>\n",
       "      <td>White</td>\n",
       "      <td>Male</td>\n",
       "      <td>86</td>\n",
       "      <td>NON-HISPANIC</td>\n",
       "      <td>3.0</td>\n",
       "      <td>False</td>\n",
       "      <td>3D</td>\n",
       "      <td>PSB</td>\n",
       "      <td>2024-02-01 09:59:00</td>\n",
       "    </tr>\n",
       "    <tr>\n",
       "      <th>18119</th>\n",
       "      <td>18120</td>\n",
       "      <td>American Indian/ALSK Natv</td>\n",
       "      <td>Male</td>\n",
       "      <td>85</td>\n",
       "      <td>NON-HISPANIC</td>\n",
       "      <td>5.0</td>\n",
       "      <td>False</td>\n",
       "      <td>5D</td>\n",
       "      <td>PSB</td>\n",
       "      <td>2023-10-08 17:02:00</td>\n",
       "    </tr>\n",
       "    <tr>\n",
       "      <th>7859</th>\n",
       "      <td>7860</td>\n",
       "      <td>Asian</td>\n",
       "      <td>Male</td>\n",
       "      <td>84</td>\n",
       "      <td>NON-HISPANIC</td>\n",
       "      <td>4.0</td>\n",
       "      <td>True</td>\n",
       "      <td>4D</td>\n",
       "      <td>PSB</td>\n",
       "      <td>2022-04-15 13:25:00</td>\n",
       "    </tr>\n",
       "    <tr>\n",
       "      <th>7214</th>\n",
       "      <td>7215</td>\n",
       "      <td>White</td>\n",
       "      <td>Male</td>\n",
       "      <td>83</td>\n",
       "      <td>NON-HISPANIC</td>\n",
       "      <td>2.0</td>\n",
       "      <td>False</td>\n",
       "      <td>2D</td>\n",
       "      <td>PSB</td>\n",
       "      <td>2022-03-19 16:57:00</td>\n",
       "    </tr>\n",
       "    <tr>\n",
       "      <th>1751</th>\n",
       "      <td>1752</td>\n",
       "      <td>White</td>\n",
       "      <td>Female</td>\n",
       "      <td>83</td>\n",
       "      <td>NON-HISPANIC</td>\n",
       "      <td>4.0</td>\n",
       "      <td>False</td>\n",
       "      <td>4D</td>\n",
       "      <td>PSB</td>\n",
       "      <td>2021-05-03 10:00:00</td>\n",
       "    </tr>\n",
       "    <tr>\n",
       "      <th>19735</th>\n",
       "      <td>19736</td>\n",
       "      <td>White</td>\n",
       "      <td>Female</td>\n",
       "      <td>83</td>\n",
       "      <td>NON-HISPANIC</td>\n",
       "      <td>1.0</td>\n",
       "      <td>False</td>\n",
       "      <td>1D</td>\n",
       "      <td>PSB</td>\n",
       "      <td>2023-09-12 00:00:00</td>\n",
       "    </tr>\n",
       "    <tr>\n",
       "      <th>22012</th>\n",
       "      <td>22013</td>\n",
       "      <td>White</td>\n",
       "      <td>Male</td>\n",
       "      <td>82</td>\n",
       "      <td>NON-HISPANIC</td>\n",
       "      <td>1.0</td>\n",
       "      <td>False</td>\n",
       "      <td>1D</td>\n",
       "      <td>PSB</td>\n",
       "      <td>2024-04-13 00:43:00</td>\n",
       "    </tr>\n",
       "    <tr>\n",
       "      <th>3028</th>\n",
       "      <td>3029</td>\n",
       "      <td>White</td>\n",
       "      <td>Male</td>\n",
       "      <td>80</td>\n",
       "      <td>NON-HISPANIC</td>\n",
       "      <td>8.0</td>\n",
       "      <td>False</td>\n",
       "      <td>TPPD</td>\n",
       "      <td>NaN</td>\n",
       "      <td>2021-07-14 16:15:00</td>\n",
       "    </tr>\n",
       "    <tr>\n",
       "      <th>9957</th>\n",
       "      <td>9958</td>\n",
       "      <td>White</td>\n",
       "      <td>Male</td>\n",
       "      <td>80</td>\n",
       "      <td>NON-HISPANIC</td>\n",
       "      <td>4.0</td>\n",
       "      <td>False</td>\n",
       "      <td>4D</td>\n",
       "      <td>PSB</td>\n",
       "      <td>2022-08-18 18:24:00</td>\n",
       "    </tr>\n",
       "    <tr>\n",
       "      <th>2306</th>\n",
       "      <td>2307</td>\n",
       "      <td>White</td>\n",
       "      <td>Male</td>\n",
       "      <td>80</td>\n",
       "      <td>NON-HISPANIC</td>\n",
       "      <td>5.0</td>\n",
       "      <td>False</td>\n",
       "      <td>5D</td>\n",
       "      <td>PSB</td>\n",
       "      <td>2021-06-10 12:30:00</td>\n",
       "    </tr>\n",
       "    <tr>\n",
       "      <th>21262</th>\n",
       "      <td>21263</td>\n",
       "      <td>White</td>\n",
       "      <td>Male</td>\n",
       "      <td>80</td>\n",
       "      <td>HISPANIC</td>\n",
       "      <td>4.0</td>\n",
       "      <td>False</td>\n",
       "      <td>4D</td>\n",
       "      <td>PSB</td>\n",
       "      <td>2024-03-03 11:21:00</td>\n",
       "    </tr>\n",
       "    <tr>\n",
       "      <th>501</th>\n",
       "      <td>502</td>\n",
       "      <td>White</td>\n",
       "      <td>Male</td>\n",
       "      <td>80</td>\n",
       "      <td>NON-HISPANIC</td>\n",
       "      <td>1.0</td>\n",
       "      <td>False</td>\n",
       "      <td>1D</td>\n",
       "      <td>PSB</td>\n",
       "      <td>2021-02-05 18:42:00</td>\n",
       "    </tr>\n",
       "  </tbody>\n",
       "</table>\n",
       "</div>"
      ],
      "text/plain": [
       "          id                       race  gender  age     ethnicity district  \\\n",
       "13022  13023     Black/African American    Male   99  NON-HISPANIC      5.0   \n",
       "6579    6580                      White    Male   99      HISPANIC      6.0   \n",
       "21334  21335                      Asian  Female   99  NON-HISPANIC      4.0   \n",
       "20261  20262                      White  Female   99      HISPANIC      3.0   \n",
       "15903  15904                      White    Male   99  NON-HISPANIC      1.0   \n",
       "23334  23335     Black/African American    Male   99  NON-HISPANIC      5.0   \n",
       "2966    2967                      White  Female   99  NON-HISPANIC      6.0   \n",
       "2023    2024                      White  Female   99  NON-HISPANIC      1.0   \n",
       "20450  20451                      White    Male   86  NON-HISPANIC      3.0   \n",
       "18119  18120  American Indian/ALSK Natv    Male   85  NON-HISPANIC      5.0   \n",
       "7859    7860                      Asian    Male   84  NON-HISPANIC      4.0   \n",
       "7214    7215                      White    Male   83  NON-HISPANIC      2.0   \n",
       "1751    1752                      White  Female   83  NON-HISPANIC      4.0   \n",
       "19735  19736                      White  Female   83  NON-HISPANIC      1.0   \n",
       "22012  22013                      White    Male   82  NON-HISPANIC      1.0   \n",
       "3028    3029                      White    Male   80  NON-HISPANIC      8.0   \n",
       "9957    9958                      White    Male   80  NON-HISPANIC      4.0   \n",
       "2306    2307                      White    Male   80  NON-HISPANIC      5.0   \n",
       "21262  21263                      White    Male   80      HISPANIC      4.0   \n",
       "501      502                      White    Male   80  NON-HISPANIC      1.0   \n",
       "\n",
       "       adjacent_to_school division bureau     event_date_time  \n",
       "13022               False       5D    PSB 2023-01-26 16:24:00  \n",
       "6579                False      GPD    NaN 2022-02-17 00:40:00  \n",
       "21334                True      CED    FSB 2024-03-11 10:15:00  \n",
       "20261               False       3D    PSB 2024-01-22 19:33:00  \n",
       "15903               False     RCPD    NaN 2023-06-17 12:45:00  \n",
       "23334               False       5D    PSB 2024-02-24 00:00:00  \n",
       "2966                False       6D    PSB 2021-07-26 15:32:00  \n",
       "2023                False     RCPD    NaN 2021-05-21 21:32:00  \n",
       "20450               False       3D    PSB 2024-02-01 09:59:00  \n",
       "18119               False       5D    PSB 2023-10-08 17:02:00  \n",
       "7859                 True       4D    PSB 2022-04-15 13:25:00  \n",
       "7214                False       2D    PSB 2022-03-19 16:57:00  \n",
       "1751                False       4D    PSB 2021-05-03 10:00:00  \n",
       "19735               False       1D    PSB 2023-09-12 00:00:00  \n",
       "22012               False       1D    PSB 2024-04-13 00:43:00  \n",
       "3028                False     TPPD    NaN 2021-07-14 16:15:00  \n",
       "9957                False       4D    PSB 2022-08-18 18:24:00  \n",
       "2306                False       5D    PSB 2021-06-10 12:30:00  \n",
       "21262               False       4D    PSB 2024-03-03 11:21:00  \n",
       "501                 False       1D    PSB 2021-02-05 18:42:00  "
      ]
     },
     "execution_count": 5677,
     "metadata": {},
     "output_type": "execute_result"
    }
   ],
   "source": [
    "print(f\"Records over the 0.999th quantile: age {age_quantiles[.999]:0.0f}\")\n",
    "arrests[arrests[\"age\"] > age_quantiles[.999]].sort_values(by='age', ascending=False)"
   ]
  },
  {
   "cell_type": "markdown",
   "metadata": {},
   "source": [
    "#### Date and time"
   ]
  },
  {
   "cell_type": "markdown",
   "metadata": {},
   "source": [
    "This column can prove very interesting, so we're going to go ahead and extract interesting information from it, that will help us with our analysis."
   ]
  },
  {
   "cell_type": "code",
   "execution_count": 5678,
   "metadata": {},
   "outputs": [],
   "source": [
    "arrests[\"year\"] = arrests[\"event_date_time\"].dt.year\n",
    "arrests[\"month\"] = arrests[\"event_date_time\"].dt.month\n",
    "arrests[\"weekday\"] = arrests[\"event_date_time\"].dt.dayofweek\n",
    "arrests['hour']= arrests[\"event_date_time\"].dt.hour"
   ]
  },
  {
   "cell_type": "code",
   "execution_count": 5679,
   "metadata": {},
   "outputs": [
    {
     "data": {
      "text/plain": [
       "year\n",
       "2023    7353\n",
       "2022    6735\n",
       "2021    5885\n",
       "2024    3537\n",
       "Name: count, dtype: int64"
      ]
     },
     "execution_count": 5679,
     "metadata": {},
     "output_type": "execute_result"
    }
   ],
   "source": [
    "arrests['year'].value_counts()"
   ]
  },
  {
   "cell_type": "markdown",
   "metadata": {},
   "source": [
    "<div class=\"alert alert-block alert-warning\">\n",
    "\n",
    "Even though on [Kaggle](https://www.kaggle.com/datasets/shayanshahid997/police-arrest-from-2021-2023/data) described this dataset as <b>Police Arrest from 2021-2023</b> we can clearly see there are records for the year 2024.\n",
    "\n",
    "</div>"
   ]
  },
  {
   "cell_type": "markdown",
   "metadata": {},
   "source": [
    "Let's actually check the range of dates for our records:"
   ]
  },
  {
   "cell_type": "code",
   "execution_count": 5680,
   "metadata": {},
   "outputs": [
    {
     "name": "stdout",
     "output_type": "stream",
     "text": [
      "Oldest record: 2021-01-01 00:00:00\n",
      "Newest record: 2024-07-01 16:23:00\n"
     ]
    }
   ],
   "source": [
    "print(\"Oldest record:\", arrests['event_date_time'].min())\n",
    "print(\"Newest record:\", arrests['event_date_time'].max())"
   ]
  },
  {
   "cell_type": "code",
   "execution_count": 5681,
   "metadata": {},
   "outputs": [],
   "source": [
    "month_names = {1: 'January',\n",
    "               2: 'February',\n",
    "               3: 'March',\n",
    "               4: 'April',\n",
    "               5: 'May',\n",
    "               6: 'June',\n",
    "               7: 'July',\n",
    "               8: 'August',\n",
    "               9: 'September',\n",
    "               10: 'October',\n",
    "               11: 'November',\n",
    "               12: 'December'}\n",
    "\n",
    "weekday_names = {0: 'Monday',\n",
    "                 1: 'Tuesday',\n",
    "                 2: 'Wednesday',\n",
    "                 3: 'Thursday',\n",
    "                 4: 'Friday',\n",
    "                 5: 'Saturday',\n",
    "                 6: 'Sunday'}"
   ]
  },
  {
   "cell_type": "markdown",
   "metadata": {},
   "source": [
    "Let's plot a few histograms and barplots to get a sense of the information event_date_time can provide:"
   ]
  },
  {
   "cell_type": "code",
   "execution_count": 5682,
   "metadata": {},
   "outputs": [
    {
     "data": {
      "image/png": "[encoded data removed]",
      "text/plain": [
       "<Figure size 2000x400 with 3 Axes>"
      ]
     },
     "metadata": {},
     "output_type": "display_data"
    }
   ],
   "source": [
    "fig, ax = plt.subplots(nrows=1, ncols=3, figsize = (20,4))\n",
    "ax = ax.flatten()\n",
    "\n",
    "plots = ['month', 'weekday', 'hour']\n",
    "for i, colname in enumerate(plots):\n",
    "\n",
    "    unique_values = arrests[colname].unique()\n",
    "\n",
    "    ax[i].hist(arrests[colname], bins = len(unique_values))\n",
    "\n",
    "    ax[i].set_xticks(unique_values)\n",
    "\n",
    "    ax[i].set_xlabel(colname)\n",
    "    ax[i].set_ylabel('Frequency')\n",
    "    ax[i].set_title(f\"Arrest frequency each {colname}\")\n",
    "\n",
    "plt.show()"
   ]
  },
  {
   "cell_type": "markdown",
   "metadata": {},
   "source": [
    "### Categorical variables"
   ]
  },
  {
   "cell_type": "markdown",
   "metadata": {},
   "source": [
    "Our dataset is mainly made out of information about the arrested person and the arresting officer. Except for age and datetime, all of our variables are categorical. Let's look info what information these give us."
   ]
  },
  {
   "cell_type": "markdown",
   "metadata": {},
   "source": [
    "A summary of the provided information for our categorical variables:"
   ]
  },
  {
   "cell_type": "markdown",
   "metadata": {},
   "source": [
    "| Column Name            | Description                                      | Field Name         | Data Type                   | Information |\n",
    "| ---------------------- | ------------------------------------------------ | ------------------ | --------------------------- | ----------- |\n",
    "| Subject's race | Subject's race | race | <b> categorical </b> | demographic information about the individual who was arrested. |\n",
    "| Subject's gender | Subject's gender | gender | <b> categorical </b> | demographic information about the individual who was arrested. |\n",
    "| Ethnicity\tSubject's | ethnicity | ethnicity | <b> categorical </b> | demographic information about the individual who was arrested. |\n",
    "| District of occurrence | District of occurrence | district | <b> categorical </b> | likely indicates the district in which the arrest took place. |\n",
    "| Adjacent to School | Arrest occurred within 500 ft. of a school (1/0) | adjacent_to_school | <b> bool </b> | particularly interesting. It appears to indicate whether the arrest took place within 500 feet of a school, with a 1 indicating that it did and a 0 indicating that it did not. This could be useful for analyzing patterns in where arrests occur. |\n",
    "| Assigned Division | District/division of officer's assignment | division  | <b> categorical </b>   | likely indicate the division of the police department that were assigned to the arrest. |\n",
    "| Assigned Bureau | Bureau of officer's assignment  | bureau | <b> categorical </b>  | likely indicate the bureau of the police department that were assigned to the arrest. |"
   ]
  },
  {
   "cell_type": "markdown",
   "metadata": {},
   "source": [
    "#### Subject's gender, race, and ethnicity"
   ]
  },
  {
   "cell_type": "code",
   "execution_count": 5683,
   "metadata": {},
   "outputs": [
    {
     "name": "stdout",
     "output_type": "stream",
     "text": [
      "\n",
      "race column:\n",
      "['Asian', 'Black/African American', 'White', 'Unknown', 'American Indian/ALSK Natv', 'Hawaiian/Pacific Islander']\n",
      "Categories (6, object): ['American Indian/ALSK Natv', 'Asian', 'Black/African American', 'Hawaiian/Pacific Islander', 'Unknown', 'White']\n",
      "\n",
      "gender column:\n",
      "['Male', 'Female']\n",
      "Categories (2, object): ['Female', 'Male']\n",
      "\n",
      "ethnicity column:\n",
      "['NON-HISPANIC', 'HISPANIC']\n",
      "Categories (2, object): ['HISPANIC', 'NON-HISPANIC']\n"
     ]
    }
   ],
   "source": [
    "for colname in ['race', 'gender', 'ethnicity']:\n",
    "    print(f\"\\n{colname} column:\")\n",
    "    print(arrests[colname].unique())"
   ]
  },
  {
   "cell_type": "markdown",
   "metadata": {},
   "source": [
    "We can see one of the values in `race` is <b> Unknown </b> <br>\n",
    "\n",
    "For the most part, these categories seem pretty straight forward."
   ]
  },
  {
   "cell_type": "markdown",
   "metadata": {},
   "source": [
    "Let's draw a few Bar plots to get a first sense of the incidence of arrests by each of these classifications."
   ]
  },
  {
   "cell_type": "code",
   "execution_count": 5684,
   "metadata": {},
   "outputs": [
    {
     "data": {
      "image/png": "[encoded data removed]",
      "text/plain": [
       "<Figure size 1800x400 with 3 Axes>"
      ]
     },
     "metadata": {},
     "output_type": "display_data"
    }
   ],
   "source": [
    "plots = ['gender', 'race', 'ethnicity']\n",
    "\n",
    "fig, ax = plt.subplots(nrows=1, ncols=3, figsize=(18,4))\n",
    "ax = ax.flatten()\n",
    "\n",
    "for i, colname in enumerate(plots):\n",
    "\n",
    "    group = arrests.groupby(colname).size()\n",
    "\n",
    "    ax[i].bar(group.index, group)\n",
    "\n",
    "    ax[i].set_xlabel(colname)\n",
    "    ax[i].set_ylabel('Frequency')\n",
    "    ax[i].set_title(f\"Arrest frequency each {colname} group\")\n",
    "\n",
    "ax[1].tick_params(axis='x', labelrotation=90)\n",
    "\n",
    "plt.show()\n"
   ]
  },
  {
   "cell_type": "markdown",
   "metadata": {},
   "source": [
    "<div class=\"alert alert-block alert-warning\">\n",
    "\n",
    "After seeing these plots, we think it may be a good idea to get information about the race/ethnicity/gender of all the population of Montgomery County. That way we can see rates of arrests for each group, instead of just the number of arrests (if there are more White and Black/African American people than the other races, it's not very significative to show these two groups have had more arrests).\n",
    "\n",
    "</div>"
   ]
  },
  {
   "cell_type": "markdown",
   "metadata": {},
   "source": [
    "#### District of occurence"
   ]
  },
  {
   "cell_type": "code",
   "execution_count": 5685,
   "metadata": {},
   "outputs": [
    {
     "data": {
      "text/plain": [
       "[6.0, 1.0, 4.0, 3.0, 5.0, 2.0, 8.0, NaN]\n",
       "Categories (7, float64): [1.0, 2.0, 3.0, 4.0, 5.0, 6.0, 8.0]"
      ]
     },
     "execution_count": 5685,
     "metadata": {},
     "output_type": "execute_result"
    }
   ],
   "source": [
    "arrests['district'].unique()"
   ]
  },
  {
   "cell_type": "markdown",
   "metadata": {},
   "source": [
    "We have 7 categories, numbered from 1 to 8 (skipping 7).\n",
    "Let's do some research into Montgomery County's districts to see if we can gain more insight into this variable."
   ]
  },
  {
   "cell_type": "markdown",
   "metadata": {},
   "source": [
    "The [Montgomery County Council](https://www.montgomerycountymd.gov/council/district_map.html) gives a map of the district divisions in Montgomery County."
   ]
  },
  {
   "cell_type": "markdown",
   "metadata": {},
   "source": [
    "<img src=\"political-districts.jpg\" width=\"500\">"
   ]
  },
  {
   "cell_type": "markdown",
   "metadata": {},
   "source": [
    "The [US Census](https://data.census.gov/map/050XX00US24031/ACSST1Y2022/S0101?layer=VT_2022_050_00_PY_D1&loc=39.1543,-77.2692,z9.7775) gives us a different map with different district subdivisions."
   ]
  },
  {
   "cell_type": "markdown",
   "metadata": {},
   "source": [
    "<img src=\"us-census-districts.jpg\" width=\"500\">"
   ]
  },
  {
   "cell_type": "markdown",
   "metadata": {},
   "source": [
    "These maps don't seem to coincide with our dataset's district categories."
   ]
  },
  {
   "cell_type": "markdown",
   "metadata": {},
   "source": [
    "Upon further research, we have found this map that shows the [districts according to the Police Department](https://www.arcgis.com/apps/Viewer/index.html?appid=4317830a05654b8f907e65515970a5ba)."
   ]
  },
  {
   "cell_type": "markdown",
   "metadata": {},
   "source": [
    "<img src=\"police-districts.jpg\" width=\"1000\">"
   ]
  },
  {
   "cell_type": "markdown",
   "metadata": {},
   "source": [
    "These district do seem to coincide with our dataset. We contrasted this map with information on the [Montgomery County Police Department's website](https://www.montgomerycountymd.gov/pol/districts.html) confirming this map to be accurate. <br>\n",
    "The [interactive map](https://www.montgomerycountymd.gov/pol/districts/find-my-district.html) on their website also illustrates the boundaries for each district."
   ]
  },
  {
   "cell_type": "markdown",
   "metadata": {},
   "source": [
    "<div class=\"alert alert-block alert-warning\">\n",
    "\n",
    "Important to note some arrests were made in the 8D District as per our dataset, but there is no MCPD Division for the 8D, possibly why their [website](https://www.montgomerycountymd.gov/pol/districts.html) doesn't list it as a district directly. <br><br>\n",
    "According to the interactive map:<br>\n",
    "<i>NOTE: This address is also located within the City of Takoma Park. [Click here to visit the Takoma Park Police Department webpage](https://takomaparkmd.gov/government/police/).</i>\n",
    "\n",
    "</div>"
   ]
  },
  {
   "cell_type": "code",
   "execution_count": 5686,
   "metadata": {},
   "outputs": [
    {
     "data": {
      "text/plain": [
       "district\n",
       "3.0    4782\n",
       "6.0    4748\n",
       "4.0    4563\n",
       "5.0    3820\n",
       "1.0    2513\n",
       "2.0    2196\n",
       "8.0     786\n",
       "Name: count, dtype: int64"
      ]
     },
     "execution_count": 5686,
     "metadata": {},
     "output_type": "execute_result"
    }
   ],
   "source": [
    "arrests['district'].value_counts()"
   ]
  },
  {
   "cell_type": "markdown",
   "metadata": {},
   "source": [
    "#### Information about the police: Bureau and Division"
   ]
  },
  {
   "cell_type": "markdown",
   "metadata": {},
   "source": [
    "The description for these two columns is: <br>\n",
    "\n",
    "<i>The Assigned Division and Assigned Bureau columns likely indicate the division and bureau of the police department that were assigned to the arrest.</i>"
   ]
  },
  {
   "cell_type": "markdown",
   "metadata": {},
   "source": [
    "The values in these two columns consist of codes, which means further research is needed to understand the information about the police department assigned to the arrest."
   ]
  },
  {
   "cell_type": "markdown",
   "metadata": {},
   "source": [
    "#### Bureau"
   ]
  },
  {
   "cell_type": "code",
   "execution_count": 5687,
   "metadata": {},
   "outputs": [
    {
     "data": {
      "text/plain": [
       "['FSB', NaN, 'PSB', 'MSB', 'ISB']\n",
       "Categories (4, object): ['FSB', 'ISB', 'MSB', 'PSB']"
      ]
     },
     "execution_count": 5687,
     "metadata": {},
     "output_type": "execute_result"
    }
   ],
   "source": [
    "arrests['bureau'].unique()"
   ]
  },
  {
   "cell_type": "markdown",
   "metadata": {},
   "source": [
    "<div class=\"alert alert-block alert-info\">\n",
    "\n",
    "The Police Department is structured into the Office of the Chief and five major bureaus:\n",
    "- the Community Resources Bureau\n",
    "- the Field Services Bureau\n",
    "- the Investigative Services Bureau\n",
    "- the Management Services Bureau\n",
    "- the Patrol Services Bureau.<br>\n",
    "        The Patrol Services Bureau, the largest and most visible bureau in the Police Department, oversees most of the Department’s uniformed officers on patrol. The Patrol Services Bureau is divided into six police districts.\n",
    "\n",
    "source: [Montgomery County Police Department](https://www.montgomerycountymd.gov/pol/bureaus/index.html)\n",
    "\n",
    "</div>"
   ]
  },
  {
   "cell_type": "code",
   "execution_count": 5688,
   "metadata": {},
   "outputs": [],
   "source": [
    "bureaus = {'FSB': 'Field Services Bureau',\n",
    "           'PSB': 'Patrol Services Bureau',\n",
    "           'MSB': 'Management Services Bureau',\n",
    "           'ISB': 'Investigative Services Bureau'}"
   ]
  },
  {
   "cell_type": "markdown",
   "metadata": {},
   "source": [
    "#### Division"
   ]
  },
  {
   "cell_type": "code",
   "execution_count": 5689,
   "metadata": {},
   "outputs": [
    {
     "name": "stdout",
     "output_type": "stream",
     "text": [
      "['TOD', 'RCPD', 'TPPD', 'GPD', '4D', ..., 'CED', 'PSCC', 'FSB', 'PERS', 'ISB']\n",
      "Length: 25\n",
      "Categories (24, object): ['1D', '2D', '3D', '4D', ..., 'SOD', 'SVID', 'TOD', 'TPPD']\n"
     ]
    }
   ],
   "source": [
    "print(arrests['division'].unique())"
   ]
  },
  {
   "cell_type": "code",
   "execution_count": 5690,
   "metadata": {},
   "outputs": [
    {
     "data": {
      "text/plain": [
       "division\n",
       "3D      4331\n",
       "4D      3908\n",
       "5D      3502\n",
       "GPD     2404\n",
       "2D      1870\n",
       "6D      1766\n",
       "RCPD    1282\n",
       "TOD     1033\n",
       "1D       926\n",
       "TPPD     782\n",
       "IMTD     463\n",
       "CED      361\n",
       "SID      254\n",
       "SVID     249\n",
       "MCD       75\n",
       "CID       74\n",
       "MCFM      49\n",
       "MCSO      19\n",
       "PSTA      17\n",
       "SOD        7\n",
       "FSB        4\n",
       "ISB        3\n",
       "PERS       1\n",
       "PSCC       1\n",
       "Name: count, dtype: int64"
      ]
     },
     "execution_count": 5690,
     "metadata": {},
     "output_type": "execute_result"
    }
   ],
   "source": [
    "arrests['division'].value_counts()"
   ]
  },
  {
   "cell_type": "markdown",
   "metadata": {},
   "source": [
    "We have 24 Divisions recorded in our dataset."
   ]
  },
  {
   "cell_type": "markdown",
   "metadata": {},
   "source": [
    "Each Division belongs to a specific Bureau. The information provided by the [Montgomery County Police Department](https://www.montgomerycountymd.gov/pol/bureaus/index.html) lists the following Divisions in each Bureau:\n",
    "\n",
    "- Community Resources\n",
    "    - Policy and Planning Division\n",
    "- Field Services\n",
    "    - Special Operations Division\n",
    "    - Traffic Division\n",
    "    - Security Services Division​\n",
    "    - Community Engagement Division\n",
    "- Investigative Services\n",
    "    - Criminal Investigations Division (CID)\n",
    "    - Major Crimes Division\n",
    "    - Special Investigations Division (SID)\n",
    "    - Special Victims Investigations Division (SVID)\n",
    "    - Forensic Science Evidence Management Division (FSEMD)\n",
    "    - Internal Affairs Division (IAD)\n",
    "- Management Services\n",
    "    - Media & Public Information Office\n",
    "    - Management and Budget Division\n",
    "    - Communications Division/Emergency (911) Call Center\n",
    "    - Information Management Technology Division\n",
    "    - Personnel Division\n",
    "    - ​Training and Education Division\n",
    "    - Legal and Labor Relations Division\n",
    "    - Capital Projects and Facilities Division\n",
    "    - Professional Accountability Division\n",
    "- Patrol Services\n",
    "    - District Station Units (<i>The Patrol Services Bureau is divided into [six police districts](https://www.montgomerycountymd.gov/pol/districts.html)</i>):\n",
    "        - 1st District - Rockville\n",
    "        - 2nd District - Bethesda\n",
    "        - 3rd District - Silver Spring\n",
    "        - 4th District - Wheaton\n",
    "        - 5th District - Germantown\n",
    "        - 6th District - Montgomery Village\n"
   ]
  },
  {
   "cell_type": "markdown",
   "metadata": {},
   "source": [
    "By the Acronyms in this information, the names of the divisions, and further research, let's name each of our divisions:"
   ]
  },
  {
   "cell_type": "code",
   "execution_count": 5691,
   "metadata": {},
   "outputs": [],
   "source": [
    "fsb_divisions = {'SOD': 'Special Operations Division',\n",
    "                 'TOD': 'Traffic Operations Division',\n",
    "                 'CED': 'Community Engagement Division'\n",
    "                 }\n",
    "\n",
    "isb_divisions = {'CID': 'Criminal Investigations Division',\n",
    "                 'MCD': 'Major Crimes Division',\n",
    "                 'SID': 'Special Investigations Division',\n",
    "                 'SVID': 'Special Victims Investigations Division'\n",
    "                 }\n",
    "\n",
    "msb_divisions = {'IMTD': 'Information Management and Technology Division',\n",
    "                 'PSCC': 'Public Safety Communications Centre',\n",
    "                 'PERS': 'Personnel Division',\n",
    "                 'PSTA': 'Public Safety Training Academy'\n",
    "                 }\n",
    "\n",
    "psb_divisions = {'1D': 'District 1',\n",
    "                 '2D': 'District 2',\n",
    "                 '3D': 'District 3',\n",
    "                 '4D': 'District 5',\n",
    "                 '5D': 'District 5',\n",
    "                 '6D': 'District 6'}\n",
    "\n",
    "nobureau_divisions = {'RCPD': 'Rockville City Police Department',\n",
    "                      'TPPD': 'Takoma Park Police Department',\n",
    "                      'GPD': 'Gaithersburg Police Department',\n",
    "                      'MCSO': 'Montgomery County Sheriff\\'s Office',\n",
    "                      'MCFM': 'Montgomery County Fire Marshal'}\n",
    "\n",
    "\n",
    "division_names = {**fsb_divisions, **isb_divisions, **msb_divisions, **psb_divisions, **nobureau_divisions}\n",
    "             "
   ]
  },
  {
   "cell_type": "code",
   "execution_count": 5692,
   "metadata": {},
   "outputs": [
    {
     "name": "stdout",
     "output_type": "stream",
     "text": [
      "Division TOD - Traffic Operations Division\n",
      "Division RCPD - Rockville City Police Department\n",
      "Division TPPD - Takoma Park Police Department\n",
      "Division GPD - Gaithersburg Police Department\n",
      "Division 4D - District 5\n",
      "Division 3D - District 3\n",
      "Division 5D - District 5\n",
      "Division 6D - District 6\n",
      "Division IMTD - Information Management and Technology Division\n",
      "Division 2D - District 2\n",
      "Division 1D - District 1\n",
      "Division SVID - Special Victims Investigations Division\n",
      "Division CID - Criminal Investigations Division\n",
      "Division MCFM - Montgomery County Fire Marshal\n",
      "Division SID - Special Investigations Division\n",
      "Division PSTA - Public Safety Training Academy\n",
      "Division nan - UNNAMED\n",
      "Division MCSO - Montgomery County Sheriff's Office\n",
      "Division MCD - Major Crimes Division\n",
      "Division SOD - Special Operations Division\n",
      "Division CED - Community Engagement Division\n",
      "Division PSCC - Public Safety Communications Centre\n",
      "Division FSB - UNNAMED\n",
      "Division PERS - Personnel Division\n",
      "Division ISB - UNNAMED\n"
     ]
    }
   ],
   "source": [
    "for division in arrests['division'].unique():\n",
    "    try:\n",
    "        name = division_names[division]\n",
    "    except:\n",
    "        name = 'UNNAMED'\n",
    "    print(f\"Division {division} - {name}\")"
   ]
  },
  {
   "cell_type": "markdown",
   "metadata": {},
   "source": [
    "Out of the divisions that remain unnamed, we have `FSB` and `ISB`, but we know these are just bureau codes. Let's check what bureus these rows have assigned:"
   ]
  },
  {
   "cell_type": "code",
   "execution_count": 5693,
   "metadata": {},
   "outputs": [
    {
     "data": {
      "text/html": [
       "<div>\n",
       "<style scoped>\n",
       "    .dataframe tbody tr th:only-of-type {\n",
       "        vertical-align: middle;\n",
       "    }\n",
       "\n",
       "    .dataframe tbody tr th {\n",
       "        vertical-align: top;\n",
       "    }\n",
       "\n",
       "    .dataframe thead th {\n",
       "        text-align: right;\n",
       "    }\n",
       "</style>\n",
       "<table border=\"1\" class=\"dataframe\">\n",
       "  <thead>\n",
       "    <tr style=\"text-align: right;\">\n",
       "      <th></th>\n",
       "      <th>id</th>\n",
       "      <th>race</th>\n",
       "      <th>gender</th>\n",
       "      <th>age</th>\n",
       "      <th>ethnicity</th>\n",
       "      <th>district</th>\n",
       "      <th>adjacent_to_school</th>\n",
       "      <th>division</th>\n",
       "      <th>bureau</th>\n",
       "      <th>event_date_time</th>\n",
       "      <th>year</th>\n",
       "      <th>month</th>\n",
       "      <th>weekday</th>\n",
       "      <th>hour</th>\n",
       "    </tr>\n",
       "  </thead>\n",
       "  <tbody>\n",
       "    <tr>\n",
       "      <th>8996</th>\n",
       "      <td>8997</td>\n",
       "      <td>Black/African American</td>\n",
       "      <td>Male</td>\n",
       "      <td>61</td>\n",
       "      <td>NON-HISPANIC</td>\n",
       "      <td>1.0</td>\n",
       "      <td>False</td>\n",
       "      <td>FSB</td>\n",
       "      <td>FSB</td>\n",
       "      <td>2022-06-21 13:24:00</td>\n",
       "      <td>2022</td>\n",
       "      <td>6</td>\n",
       "      <td>1</td>\n",
       "      <td>13</td>\n",
       "    </tr>\n",
       "    <tr>\n",
       "      <th>8997</th>\n",
       "      <td>8998</td>\n",
       "      <td>Black/African American</td>\n",
       "      <td>Male</td>\n",
       "      <td>61</td>\n",
       "      <td>NON-HISPANIC</td>\n",
       "      <td>1.0</td>\n",
       "      <td>False</td>\n",
       "      <td>FSB</td>\n",
       "      <td>FSB</td>\n",
       "      <td>2022-06-21 13:44:00</td>\n",
       "      <td>2022</td>\n",
       "      <td>6</td>\n",
       "      <td>1</td>\n",
       "      <td>13</td>\n",
       "    </tr>\n",
       "    <tr>\n",
       "      <th>11952</th>\n",
       "      <td>11953</td>\n",
       "      <td>Black/African American</td>\n",
       "      <td>Male</td>\n",
       "      <td>32</td>\n",
       "      <td>NON-HISPANIC</td>\n",
       "      <td>6.0</td>\n",
       "      <td>False</td>\n",
       "      <td>ISB</td>\n",
       "      <td>ISB</td>\n",
       "      <td>2021-03-01 00:00:00</td>\n",
       "      <td>2021</td>\n",
       "      <td>3</td>\n",
       "      <td>0</td>\n",
       "      <td>0</td>\n",
       "    </tr>\n",
       "    <tr>\n",
       "      <th>20256</th>\n",
       "      <td>20257</td>\n",
       "      <td>Black/African American</td>\n",
       "      <td>Male</td>\n",
       "      <td>24</td>\n",
       "      <td>NON-HISPANIC</td>\n",
       "      <td>3.0</td>\n",
       "      <td>False</td>\n",
       "      <td>FSB</td>\n",
       "      <td>FSB</td>\n",
       "      <td>2024-01-03 12:00:00</td>\n",
       "      <td>2024</td>\n",
       "      <td>1</td>\n",
       "      <td>2</td>\n",
       "      <td>12</td>\n",
       "    </tr>\n",
       "    <tr>\n",
       "      <th>20723</th>\n",
       "      <td>20724</td>\n",
       "      <td>Black/African American</td>\n",
       "      <td>Female</td>\n",
       "      <td>35</td>\n",
       "      <td>NON-HISPANIC</td>\n",
       "      <td>1.0</td>\n",
       "      <td>False</td>\n",
       "      <td>FSB</td>\n",
       "      <td>FSB</td>\n",
       "      <td>2024-02-13 13:30:00</td>\n",
       "      <td>2024</td>\n",
       "      <td>2</td>\n",
       "      <td>1</td>\n",
       "      <td>13</td>\n",
       "    </tr>\n",
       "    <tr>\n",
       "      <th>21636</th>\n",
       "      <td>21637</td>\n",
       "      <td>Black/African American</td>\n",
       "      <td>Female</td>\n",
       "      <td>36</td>\n",
       "      <td>NON-HISPANIC</td>\n",
       "      <td>3.0</td>\n",
       "      <td>False</td>\n",
       "      <td>ISB</td>\n",
       "      <td>ISB</td>\n",
       "      <td>2023-05-26 00:00:00</td>\n",
       "      <td>2023</td>\n",
       "      <td>5</td>\n",
       "      <td>4</td>\n",
       "      <td>0</td>\n",
       "    </tr>\n",
       "    <tr>\n",
       "      <th>21642</th>\n",
       "      <td>21643</td>\n",
       "      <td>White</td>\n",
       "      <td>Male</td>\n",
       "      <td>31</td>\n",
       "      <td>NON-HISPANIC</td>\n",
       "      <td>1.0</td>\n",
       "      <td>False</td>\n",
       "      <td>ISB</td>\n",
       "      <td>ISB</td>\n",
       "      <td>2023-09-12 00:00:00</td>\n",
       "      <td>2023</td>\n",
       "      <td>9</td>\n",
       "      <td>1</td>\n",
       "      <td>0</td>\n",
       "    </tr>\n",
       "  </tbody>\n",
       "</table>\n",
       "</div>"
      ],
      "text/plain": [
       "          id                    race  gender  age     ethnicity district  \\\n",
       "8996    8997  Black/African American    Male   61  NON-HISPANIC      1.0   \n",
       "8997    8998  Black/African American    Male   61  NON-HISPANIC      1.0   \n",
       "11952  11953  Black/African American    Male   32  NON-HISPANIC      6.0   \n",
       "20256  20257  Black/African American    Male   24  NON-HISPANIC      3.0   \n",
       "20723  20724  Black/African American  Female   35  NON-HISPANIC      1.0   \n",
       "21636  21637  Black/African American  Female   36  NON-HISPANIC      3.0   \n",
       "21642  21643                   White    Male   31  NON-HISPANIC      1.0   \n",
       "\n",
       "       adjacent_to_school division bureau     event_date_time  year  month  \\\n",
       "8996                False      FSB    FSB 2022-06-21 13:24:00  2022      6   \n",
       "8997                False      FSB    FSB 2022-06-21 13:44:00  2022      6   \n",
       "11952               False      ISB    ISB 2021-03-01 00:00:00  2021      3   \n",
       "20256               False      FSB    FSB 2024-01-03 12:00:00  2024      1   \n",
       "20723               False      FSB    FSB 2024-02-13 13:30:00  2024      2   \n",
       "21636               False      ISB    ISB 2023-05-26 00:00:00  2023      5   \n",
       "21642               False      ISB    ISB 2023-09-12 00:00:00  2023      9   \n",
       "\n",
       "       weekday  hour  \n",
       "8996         1    13  \n",
       "8997         1    13  \n",
       "11952        0     0  \n",
       "20256        2    12  \n",
       "20723        1    13  \n",
       "21636        4     0  \n",
       "21642        1     0  "
      ]
     },
     "execution_count": 5693,
     "metadata": {},
     "output_type": "execute_result"
    }
   ],
   "source": [
    "arrests[(arrests['division'] == \"FSB\") | (arrests['division'] == \"ISB\")]"
   ]
  },
  {
   "cell_type": "markdown",
   "metadata": {},
   "source": [
    "Indeed, the bureau corresponds to the division code. Let's change these values to something that signals there is no division assigned:"
   ]
  },
  {
   "cell_type": "code",
   "execution_count": 5694,
   "metadata": {},
   "outputs": [],
   "source": [
    "arrests['division'] = arrests['division'].cat.add_categories('NoDiv')\n",
    "division_names['NoDiv'] = \"No Specific Division Assigned\"\n",
    "\n",
    "arrests.loc[(arrests['division'] == \"FSB\") | (arrests['division'] == \"ISB\"), 'division'] = \"NoDiv\""
   ]
  },
  {
   "cell_type": "markdown",
   "metadata": {},
   "source": [
    "Let's take a look at how our Bureau and Divisions variables are grouped:"
   ]
  },
  {
   "cell_type": "code",
   "execution_count": 5695,
   "metadata": {},
   "outputs": [
    {
     "data": {
      "text/plain": [
       "bureau  division\n",
       "FSB     CED          361\n",
       "        SOD            7\n",
       "        TOD         1033\n",
       "        NoDiv          4\n",
       "ISB     CID           74\n",
       "        MCD           75\n",
       "        SID          254\n",
       "        SVID         249\n",
       "        NoDiv          3\n",
       "MSB     IMTD         463\n",
       "        PERS           1\n",
       "        PSCC           1\n",
       "        PSTA          17\n",
       "PSB     1D           926\n",
       "        2D          1870\n",
       "        3D          4331\n",
       "        4D          3908\n",
       "        5D          3502\n",
       "        6D          1766\n",
       "        MCSO           6\n",
       "nan     GPD         2404\n",
       "        MCFM          49\n",
       "        MCSO          13\n",
       "        RCPD        1282\n",
       "        TPPD         782\n",
       "        nan          129\n",
       "dtype: int64"
      ]
     },
     "execution_count": 5695,
     "metadata": {},
     "output_type": "execute_result"
    }
   ],
   "source": [
    "police_departments = arrests.groupby(['bureau', 'division'], dropna=False).size()\n",
    "police_departments = police_departments[police_departments > 0]\n",
    "police_departments"
   ]
  },
  {
   "cell_type": "markdown",
   "metadata": {},
   "source": [
    "It looks like all the divisions correspond to the correct Bureau (as researched), except for the MCSO (Maryland County Sheriff's Office).<br>\n",
    "We also have records that show the division MCSO but have no Bureau assigned.<br>\n",
    "According to our research, MCSO is not a division in any of the bureaus in the Police Department, but a separate Agency altogether.<br>\n",
    "Let's make all the records with division MCSO reflect no Bureau.<br>"
   ]
  },
  {
   "cell_type": "code",
   "execution_count": 5696,
   "metadata": {},
   "outputs": [],
   "source": [
    "arrests.loc[arrests['division'] == 'MCSO', 'bureau'] = np.nan"
   ]
  },
  {
   "cell_type": "code",
   "execution_count": 5697,
   "metadata": {},
   "outputs": [
    {
     "data": {
      "text/plain": [
       "bureau  division\n",
       "FSB     CED          361\n",
       "        SOD            7\n",
       "        TOD         1033\n",
       "        NoDiv          4\n",
       "ISB     CID           74\n",
       "        MCD           75\n",
       "        SID          254\n",
       "        SVID         249\n",
       "        NoDiv          3\n",
       "MSB     IMTD         463\n",
       "        PERS           1\n",
       "        PSCC           1\n",
       "        PSTA          17\n",
       "PSB     1D           926\n",
       "        2D          1870\n",
       "        3D          4331\n",
       "        4D          3908\n",
       "        5D          3502\n",
       "        6D          1766\n",
       "nan     GPD         2404\n",
       "        MCFM          49\n",
       "        MCSO          19\n",
       "        RCPD        1282\n",
       "        TPPD         782\n",
       "        nan          129\n",
       "dtype: int64"
      ]
     },
     "execution_count": 5697,
     "metadata": {},
     "output_type": "execute_result"
    }
   ],
   "source": [
    "police_departments = arrests.groupby(['bureau', 'division'], dropna=False).size()\n",
    "police_departments = police_departments[police_departments > 0]\n",
    "police_departments"
   ]
  },
  {
   "cell_type": "markdown",
   "metadata": {},
   "source": [
    "Our missing values in `Bureau` obviously correspond to Divisions that are outside the Maryland County Police Department and their bureaus. Let's create a new category in that column to idenitfy these divisions."
   ]
  },
  {
   "cell_type": "code",
   "execution_count": 5698,
   "metadata": {},
   "outputs": [],
   "source": [
    "arrests['bureau'] = arrests['bureau'].cat.add_categories('notMCPD')\n",
    "bureaus['notMCPD'] = \"Agency Outside the Maryland County Police Department\"\n",
    "\n",
    "arrests.loc[(arrests['bureau'].isnull()) & (arrests['division'].isnull() == False), 'bureau'] = \"notMCPD\""
   ]
  },
  {
   "cell_type": "code",
   "execution_count": 5699,
   "metadata": {},
   "outputs": [
    {
     "data": {
      "text/plain": [
       "bureau   division\n",
       "FSB      CED          361\n",
       "         SOD            7\n",
       "         TOD         1033\n",
       "         NoDiv          4\n",
       "ISB      CID           74\n",
       "         MCD           75\n",
       "         SID          254\n",
       "         SVID         249\n",
       "         NoDiv          3\n",
       "MSB      IMTD         463\n",
       "         PERS           1\n",
       "         PSCC           1\n",
       "         PSTA          17\n",
       "PSB      1D           926\n",
       "         2D          1870\n",
       "         3D          4331\n",
       "         4D          3908\n",
       "         5D          3502\n",
       "         6D          1766\n",
       "notMCPD  GPD         2404\n",
       "         MCFM          49\n",
       "         MCSO          19\n",
       "         RCPD        1282\n",
       "         TPPD         782\n",
       "nan      nan          129\n",
       "dtype: int64"
      ]
     },
     "execution_count": 5699,
     "metadata": {},
     "output_type": "execute_result"
    }
   ],
   "source": [
    "police_departments = arrests.groupby(['bureau', 'division'], dropna=False).size()\n",
    "police_departments = police_departments[police_departments > 0]\n",
    "police_departments"
   ]
  },
  {
   "cell_type": "markdown",
   "metadata": {},
   "source": [
    "It looks like all the divisions correspond to the correct Bureau."
   ]
  },
  {
   "cell_type": "markdown",
   "metadata": {},
   "source": [
    "We can also see, all of the missing values in division also have no assigned bureau, and all of the records that do have assigned bureau also have assigned division.<br>\n",
    "This means all of the missing values we have now, after studying these variables, are because the record does not have information regarding bureau or division."
   ]
  },
  {
   "cell_type": "markdown",
   "metadata": {},
   "source": [
    "##### District of occurance vs. PSB Division"
   ]
  },
  {
   "cell_type": "markdown",
   "metadata": {},
   "source": [
    "After learning about the Patrol Services Bureau and its six divisions according to districts, we wonder what the relation is between the `District of occurance` and the division if the arrest as assigned to the Patrol Services Bureau:"
   ]
  },
  {
   "cell_type": "code",
   "execution_count": 5700,
   "metadata": {},
   "outputs": [
    {
     "data": {
      "text/plain": [
       "district  division\n",
       "1.0       1D           720\n",
       "          2D            23\n",
       "          3D             7\n",
       "          4D            22\n",
       "          5D            19\n",
       "          6D            30\n",
       "2.0       1D            30\n",
       "          2D          1787\n",
       "          3D            28\n",
       "          4D            26\n",
       "          5D            10\n",
       "          6D            18\n",
       "3.0       1D            38\n",
       "          2D            11\n",
       "          3D          4177\n",
       "          4D            43\n",
       "          5D            15\n",
       "          6D            15\n",
       "4.0       1D            41\n",
       "          2D            13\n",
       "          3D            67\n",
       "          4D          3776\n",
       "          5D            22\n",
       "          6D            14\n",
       "5.0       1D            16\n",
       "          2D             5\n",
       "          3D            13\n",
       "          4D             8\n",
       "          5D          3363\n",
       "          6D            58\n",
       "6.0       1D            80\n",
       "          2D             9\n",
       "          3D             9\n",
       "          4D            16\n",
       "          5D            62\n",
       "          6D          1625\n",
       "8.0       3D             8\n",
       "          4D             3\n",
       "nan       1D             1\n",
       "          2D            22\n",
       "          3D            22\n",
       "          4D            14\n",
       "          5D            11\n",
       "          6D             6\n",
       "dtype: int64"
      ]
     },
     "execution_count": 5700,
     "metadata": {},
     "output_type": "execute_result"
    }
   ],
   "source": [
    "district_vs_psbdivision = arrests[arrests['bureau'] == 'PSB'].groupby(['district', 'division'], dropna=False).size()\n",
    "district_vs_psbdivision = district_vs_psbdivision[district_vs_psbdivision > 0]\n",
    "district_vs_psbdivision"
   ]
  },
  {
   "cell_type": "markdown",
   "metadata": {},
   "source": [
    "It seems regardless of the District of occurance, there's arrests made by all of the divisions in the Patrol Services Bureau"
   ]
  },
  {
   "cell_type": "markdown",
   "metadata": {},
   "source": [
    "## Revisiting the missing values"
   ]
  },
  {
   "cell_type": "markdown",
   "metadata": {},
   "source": [
    "After having found some of the causes for missing values, and corrected them, let's revisit our Missing value count and see what we have right now:"
   ]
  },
  {
   "cell_type": "code",
   "execution_count": 5701,
   "metadata": {},
   "outputs": [
    {
     "data": {
      "text/plain": [
       "id                      0\n",
       "race                    0\n",
       "gender                  0\n",
       "age                     0\n",
       "ethnicity               0\n",
       "district              102\n",
       "adjacent_to_school      0\n",
       "division              129\n",
       "bureau                129\n",
       "event_date_time         0\n",
       "year                    0\n",
       "month                   0\n",
       "weekday                 0\n",
       "hour                    0\n",
       "dtype: int64"
      ]
     },
     "execution_count": 5701,
     "metadata": {},
     "output_type": "execute_result"
    }
   ],
   "source": [
    "arrests.isnull().sum()"
   ]
  },
  {
   "cell_type": "markdown",
   "metadata": {},
   "source": [
    "We still have some missing values in our division and district columns."
   ]
  },
  {
   "cell_type": "code",
   "execution_count": 5702,
   "metadata": {},
   "outputs": [
    {
     "name": "stdout",
     "output_type": "stream",
     "text": [
      "Percentage of missingnes for each column:\n",
      "id                    0.00\n",
      "race                  0.00\n",
      "gender                0.00\n",
      "age                   0.00\n",
      "ethnicity             0.00\n",
      "district              0.43\n",
      "adjacent_to_school    0.00\n",
      "division              0.55\n",
      "bureau                0.55\n",
      "event_date_time       0.00\n",
      "year                  0.00\n",
      "month                 0.00\n",
      "weekday               0.00\n",
      "hour                  0.00\n",
      "dtype: float64\n"
     ]
    }
   ],
   "source": [
    "print(f\"Percentage of missingnes for each column:\\n{round((arrests.isnull().sum() / nb_records)*100, 2)}\")"
   ]
  },
  {
   "cell_type": "markdown",
   "metadata": {},
   "source": [
    "<b> Missing values in Division and Bureau</b><br>\n",
    "As explained before, these are records with no information in regards to assigned bureau or assigned division.<br>\n",
    "We have confirmed that all of the records with missing values for division are also the records with missing values for bureau.<br>"
   ]
  },
  {
   "cell_type": "markdown",
   "metadata": {},
   "source": [
    "Seeing as the percentage of missingness is very small (less than 1%), we can ignore these missing values and leave them in our dataset.<br>\n",
    "When plotting by Bureau, Division, or District of occurance, we will ignore these records."
   ]
  },
  {
   "cell_type": "markdown",
   "metadata": {},
   "source": [
    "# Additional data: Demographic information (Age, Gender, Race and Ethnicity)"
   ]
  },
  {
   "cell_type": "markdown",
   "metadata": {},
   "source": [
    "We thought it'd be useful to look at some census data for the county of Maryland, to be able to analyse comparatively and correctly assess wether or not there is bias in regards to people's demographics.\n",
    "- [Decennial Census from 2020](https://data.census.gov/table/DECENNIALDP2020.DP1?g=050XX00US24031&d=DEC%20Demographic%20Profile)\n",
    "- [American Community Survey - 1-Year Estimates (2022)](https://data.census.gov/table/ACSDP1Y2022.DP05?g=050XX00US24031)\n",
    "- [American Community Survey - 1-Year Estimates (2021)](https://data.census.gov/table/ACSDP1Y2021.DP05?g=050XX00US24031)"
   ]
  },
  {
   "cell_type": "markdown",
   "metadata": {},
   "source": [
    "### The Decennial Census from 2020"
   ]
  },
  {
   "cell_type": "code",
   "execution_count": 5703,
   "metadata": {},
   "outputs": [],
   "source": [
    "decennial = pd.read_csv(\"us-census-data/decennial-census-2020/DECENNIALDP2020.DP1-2024-08-02T232057.csv\")"
   ]
  },
  {
   "cell_type": "code",
   "execution_count": 5704,
   "metadata": {},
   "outputs": [
    {
     "name": "stdout",
     "output_type": "stream",
     "text": [
      "(174, 3)\n"
     ]
    },
    {
     "data": {
      "text/html": [
       "<div>\n",
       "<style scoped>\n",
       "    .dataframe tbody tr th:only-of-type {\n",
       "        vertical-align: middle;\n",
       "    }\n",
       "\n",
       "    .dataframe tbody tr th {\n",
       "        vertical-align: top;\n",
       "    }\n",
       "\n",
       "    .dataframe thead th {\n",
       "        text-align: right;\n",
       "    }\n",
       "</style>\n",
       "<table border=\"1\" class=\"dataframe\">\n",
       "  <thead>\n",
       "    <tr style=\"text-align: right;\">\n",
       "      <th></th>\n",
       "      <th>Label (Grouping)</th>\n",
       "      <th>Montgomery County, Maryland!!Count</th>\n",
       "      <th>Montgomery County, Maryland!!Percent</th>\n",
       "    </tr>\n",
       "  </thead>\n",
       "  <tbody>\n",
       "    <tr>\n",
       "      <th>0</th>\n",
       "      <td>SEX AND AGE</td>\n",
       "      <td>NaN</td>\n",
       "      <td>NaN</td>\n",
       "    </tr>\n",
       "    <tr>\n",
       "      <th>1</th>\n",
       "      <td>Total population</td>\n",
       "      <td>1,062,061</td>\n",
       "      <td>100.0%</td>\n",
       "    </tr>\n",
       "    <tr>\n",
       "      <th>2</th>\n",
       "      <td>Under 5 years</td>\n",
       "      <td>59,726</td>\n",
       "      <td>5.6%</td>\n",
       "    </tr>\n",
       "    <tr>\n",
       "      <th>3</th>\n",
       "      <td>5 to 9 years</td>\n",
       "      <td>66,704</td>\n",
       "      <td>6.3%</td>\n",
       "    </tr>\n",
       "    <tr>\n",
       "      <th>4</th>\n",
       "      <td>10 to 14 years</td>\n",
       "      <td>72,492</td>\n",
       "      <td>6.8%</td>\n",
       "    </tr>\n",
       "    <tr>\n",
       "      <th>5</th>\n",
       "      <td>15 to 19 years</td>\n",
       "      <td>67,985</td>\n",
       "      <td>6.4%</td>\n",
       "    </tr>\n",
       "    <tr>\n",
       "      <th>6</th>\n",
       "      <td>20 to 24 years</td>\n",
       "      <td>61,027</td>\n",
       "      <td>5.7%</td>\n",
       "    </tr>\n",
       "    <tr>\n",
       "      <th>7</th>\n",
       "      <td>25 to 29 years</td>\n",
       "      <td>64,492</td>\n",
       "      <td>6.1%</td>\n",
       "    </tr>\n",
       "    <tr>\n",
       "      <th>8</th>\n",
       "      <td>30 to 34 years</td>\n",
       "      <td>71,010</td>\n",
       "      <td>6.7%</td>\n",
       "    </tr>\n",
       "    <tr>\n",
       "      <th>9</th>\n",
       "      <td>35 to 39 years</td>\n",
       "      <td>74,903</td>\n",
       "      <td>7.1%</td>\n",
       "    </tr>\n",
       "    <tr>\n",
       "      <th>10</th>\n",
       "      <td>40 to 44 years</td>\n",
       "      <td>71,909</td>\n",
       "      <td>6.8%</td>\n",
       "    </tr>\n",
       "    <tr>\n",
       "      <th>11</th>\n",
       "      <td>45 to 49 years</td>\n",
       "      <td>70,756</td>\n",
       "      <td>6.7%</td>\n",
       "    </tr>\n",
       "    <tr>\n",
       "      <th>12</th>\n",
       "      <td>50 to 54 years</td>\n",
       "      <td>71,443</td>\n",
       "      <td>6.7%</td>\n",
       "    </tr>\n",
       "    <tr>\n",
       "      <th>13</th>\n",
       "      <td>55 to 59 years</td>\n",
       "      <td>72,873</td>\n",
       "      <td>6.9%</td>\n",
       "    </tr>\n",
       "    <tr>\n",
       "      <th>14</th>\n",
       "      <td>60 to 64 years</td>\n",
       "      <td>66,895</td>\n",
       "      <td>6.3%</td>\n",
       "    </tr>\n",
       "    <tr>\n",
       "      <th>15</th>\n",
       "      <td>65 to 69 years</td>\n",
       "      <td>55,773</td>\n",
       "      <td>5.3%</td>\n",
       "    </tr>\n",
       "    <tr>\n",
       "      <th>16</th>\n",
       "      <td>70 to 74 years</td>\n",
       "      <td>43,384</td>\n",
       "      <td>4.1%</td>\n",
       "    </tr>\n",
       "    <tr>\n",
       "      <th>17</th>\n",
       "      <td>75 to 79 years</td>\n",
       "      <td>29,756</td>\n",
       "      <td>2.8%</td>\n",
       "    </tr>\n",
       "    <tr>\n",
       "      <th>18</th>\n",
       "      <td>80 to 84 years</td>\n",
       "      <td>19,279</td>\n",
       "      <td>1.8%</td>\n",
       "    </tr>\n",
       "    <tr>\n",
       "      <th>19</th>\n",
       "      <td>85 years and over</td>\n",
       "      <td>21,654</td>\n",
       "      <td>2.0%</td>\n",
       "    </tr>\n",
       "  </tbody>\n",
       "</table>\n",
       "</div>"
      ],
      "text/plain": [
       "             Label (Grouping) Montgomery County, Maryland!!Count  \\\n",
       "0                 SEX AND AGE                                NaN   \n",
       "1            Total population                          1,062,061   \n",
       "2               Under 5 years                             59,726   \n",
       "3                5 to 9 years                             66,704   \n",
       "4              10 to 14 years                             72,492   \n",
       "5              15 to 19 years                             67,985   \n",
       "6              20 to 24 years                             61,027   \n",
       "7              25 to 29 years                             64,492   \n",
       "8              30 to 34 years                             71,010   \n",
       "9              35 to 39 years                             74,903   \n",
       "10             40 to 44 years                             71,909   \n",
       "11             45 to 49 years                             70,756   \n",
       "12             50 to 54 years                             71,443   \n",
       "13             55 to 59 years                             72,873   \n",
       "14             60 to 64 years                             66,895   \n",
       "15             65 to 69 years                             55,773   \n",
       "16             70 to 74 years                             43,384   \n",
       "17             75 to 79 years                             29,756   \n",
       "18             80 to 84 years                             19,279   \n",
       "19          85 years and over                             21,654   \n",
       "\n",
       "   Montgomery County, Maryland!!Percent  \n",
       "0                                   NaN  \n",
       "1                                100.0%  \n",
       "2                                  5.6%  \n",
       "3                                  6.3%  \n",
       "4                                  6.8%  \n",
       "5                                  6.4%  \n",
       "6                                  5.7%  \n",
       "7                                  6.1%  \n",
       "8                                  6.7%  \n",
       "9                                  7.1%  \n",
       "10                                 6.8%  \n",
       "11                                 6.7%  \n",
       "12                                 6.7%  \n",
       "13                                 6.9%  \n",
       "14                                 6.3%  \n",
       "15                                 5.3%  \n",
       "16                                 4.1%  \n",
       "17                                 2.8%  \n",
       "18                                 1.8%  \n",
       "19                                 2.0%  "
      ]
     },
     "execution_count": 5704,
     "metadata": {},
     "output_type": "execute_result"
    }
   ],
   "source": [
    "print(decennial.shape)\n",
    "decennial.head(20)"
   ]
  },
  {
   "cell_type": "markdown",
   "metadata": {},
   "source": [
    "<div class=\"alert alert-block alert-danger\">\n",
    "\n",
    "<b>We have to be careful with these datasets.</b><br>\n",
    "After exploring the website for the US census (where this data was pulled from) we can see there are <b>rows with totals</b> for certain groups that <b>have subgroups</b>, and they're in rows immediately after.<br><br> This means <i>not every row is one record</i>, some of them are totals for a certain slice of other rows.\n",
    "\n",
    "</div>"
   ]
  },
  {
   "cell_type": "code",
   "execution_count": 5705,
   "metadata": {},
   "outputs": [
    {
     "name": "stdout",
     "output_type": "stream",
     "text": [
      "['SEX AND AGE' '\\xa0\\xa0\\xa0\\xa0Total population'\n",
      " '\\xa0\\xa0\\xa0\\xa0\\xa0\\xa0\\xa0\\xa0Under 5 years'\n",
      " '\\xa0\\xa0\\xa0\\xa0\\xa0\\xa0\\xa0\\xa05 to 9 years'\n",
      " '\\xa0\\xa0\\xa0\\xa0\\xa0\\xa0\\xa0\\xa010 to 14 years'\n",
      " '\\xa0\\xa0\\xa0\\xa0\\xa0\\xa0\\xa0\\xa015 to 19 years'\n",
      " '\\xa0\\xa0\\xa0\\xa0\\xa0\\xa0\\xa0\\xa020 to 24 years'\n",
      " '\\xa0\\xa0\\xa0\\xa0\\xa0\\xa0\\xa0\\xa025 to 29 years'\n",
      " '\\xa0\\xa0\\xa0\\xa0\\xa0\\xa0\\xa0\\xa030 to 34 years'\n",
      " '\\xa0\\xa0\\xa0\\xa0\\xa0\\xa0\\xa0\\xa035 to 39 years'\n",
      " '\\xa0\\xa0\\xa0\\xa0\\xa0\\xa0\\xa0\\xa040 to 44 years'\n",
      " '\\xa0\\xa0\\xa0\\xa0\\xa0\\xa0\\xa0\\xa045 to 49 years'\n",
      " '\\xa0\\xa0\\xa0\\xa0\\xa0\\xa0\\xa0\\xa050 to 54 years'\n",
      " '\\xa0\\xa0\\xa0\\xa0\\xa0\\xa0\\xa0\\xa055 to 59 years'\n",
      " '\\xa0\\xa0\\xa0\\xa0\\xa0\\xa0\\xa0\\xa060 to 64 years'\n",
      " '\\xa0\\xa0\\xa0\\xa0\\xa0\\xa0\\xa0\\xa065 to 69 years'\n",
      " '\\xa0\\xa0\\xa0\\xa0\\xa0\\xa0\\xa0\\xa070 to 74 years'\n",
      " '\\xa0\\xa0\\xa0\\xa0\\xa0\\xa0\\xa0\\xa075 to 79 years'\n",
      " '\\xa0\\xa0\\xa0\\xa0\\xa0\\xa0\\xa0\\xa080 to 84 years'\n",
      " '\\xa0\\xa0\\xa0\\xa0\\xa0\\xa0\\xa0\\xa085 years and over'\n",
      " '\\xa0\\xa0\\xa0\\xa0\\xa0\\xa0\\xa0\\xa0Selected Age Categories'\n",
      " '\\xa0\\xa0\\xa0\\xa0\\xa0\\xa0\\xa0\\xa0\\xa0\\xa0\\xa0\\xa016 years and over'\n",
      " '\\xa0\\xa0\\xa0\\xa0\\xa0\\xa0\\xa0\\xa0\\xa0\\xa0\\xa0\\xa018 years and over'\n",
      " '\\xa0\\xa0\\xa0\\xa0\\xa0\\xa0\\xa0\\xa0\\xa0\\xa0\\xa0\\xa021 years and over'\n",
      " '\\xa0\\xa0\\xa0\\xa0\\xa0\\xa0\\xa0\\xa0\\xa0\\xa0\\xa0\\xa062 years and over'\n",
      " '\\xa0\\xa0\\xa0\\xa0\\xa0\\xa0\\xa0\\xa0\\xa0\\xa0\\xa0\\xa065 years and over'\n",
      " '\\xa0\\xa0\\xa0\\xa0Male population' '\\xa0\\xa0\\xa0\\xa0Female population'\n",
      " 'MEDIAN AGE BY SEX' '\\xa0\\xa0\\xa0\\xa0Both sexes' '\\xa0\\xa0\\xa0\\xa0Male'\n",
      " '\\xa0\\xa0\\xa0\\xa0Female' 'RACE'\n",
      " '\\xa0\\xa0\\xa0\\xa0\\xa0\\xa0\\xa0\\xa0One Race'\n",
      " '\\xa0\\xa0\\xa0\\xa0\\xa0\\xa0\\xa0\\xa0\\xa0\\xa0\\xa0\\xa0White'\n",
      " '\\xa0\\xa0\\xa0\\xa0\\xa0\\xa0\\xa0\\xa0\\xa0\\xa0\\xa0\\xa0Black or African American'\n",
      " '\\xa0\\xa0\\xa0\\xa0\\xa0\\xa0\\xa0\\xa0\\xa0\\xa0\\xa0\\xa0American Indian and Alaska Native'\n",
      " '\\xa0\\xa0\\xa0\\xa0\\xa0\\xa0\\xa0\\xa0\\xa0\\xa0\\xa0\\xa0Asian'\n",
      " '\\xa0\\xa0\\xa0\\xa0\\xa0\\xa0\\xa0\\xa0\\xa0\\xa0\\xa0\\xa0Native Hawaiian and Other Pacific Islander'\n",
      " '\\xa0\\xa0\\xa0\\xa0\\xa0\\xa0\\xa0\\xa0\\xa0\\xa0\\xa0\\xa0Some Other Race'\n",
      " '\\xa0\\xa0\\xa0\\xa0\\xa0\\xa0\\xa0\\xa0Two or More Races'\n",
      " 'TOTAL RACES TALLIED [1]' '\\xa0\\xa0\\xa0\\xa0Total races tallied'\n",
      " '\\xa0\\xa0\\xa0\\xa0\\xa0\\xa0\\xa0\\xa0White alone or in combination with one or more other races'\n",
      " '\\xa0\\xa0\\xa0\\xa0\\xa0\\xa0\\xa0\\xa0Black or African American alone or in combination with one or more other races'\n",
      " '\\xa0\\xa0\\xa0\\xa0\\xa0\\xa0\\xa0\\xa0American Indian and Alaska Native alone or in combination with one or more other races'\n",
      " '\\xa0\\xa0\\xa0\\xa0\\xa0\\xa0\\xa0\\xa0Asian alone or in combination with one or more other races'\n",
      " '\\xa0\\xa0\\xa0\\xa0\\xa0\\xa0\\xa0\\xa0Native Hawaiian and Other Pacific Islander alone or in combination with one or more other races'\n",
      " '\\xa0\\xa0\\xa0\\xa0\\xa0\\xa0\\xa0\\xa0Some Other Race alone or in combination with one or more other races'\n",
      " 'HISPANIC OR LATINO'\n",
      " '\\xa0\\xa0\\xa0\\xa0\\xa0\\xa0\\xa0\\xa0Hispanic or Latino (of any race)'\n",
      " '\\xa0\\xa0\\xa0\\xa0\\xa0\\xa0\\xa0\\xa0Not Hispanic or Latino'\n",
      " 'HISPANIC OR LATINO BY RACE'\n",
      " '\\xa0\\xa0\\xa0\\xa0\\xa0\\xa0\\xa0\\xa0Hispanic or Latino'\n",
      " '\\xa0\\xa0\\xa0\\xa0\\xa0\\xa0\\xa0\\xa0\\xa0\\xa0\\xa0\\xa0White alone'\n",
      " '\\xa0\\xa0\\xa0\\xa0\\xa0\\xa0\\xa0\\xa0\\xa0\\xa0\\xa0\\xa0Black or African American alone'\n",
      " '\\xa0\\xa0\\xa0\\xa0\\xa0\\xa0\\xa0\\xa0\\xa0\\xa0\\xa0\\xa0American Indian and Alaska Native alone'\n",
      " '\\xa0\\xa0\\xa0\\xa0\\xa0\\xa0\\xa0\\xa0\\xa0\\xa0\\xa0\\xa0Asian alone'\n",
      " '\\xa0\\xa0\\xa0\\xa0\\xa0\\xa0\\xa0\\xa0\\xa0\\xa0\\xa0\\xa0Native Hawaiian and Other Pacific Islander alone'\n",
      " '\\xa0\\xa0\\xa0\\xa0\\xa0\\xa0\\xa0\\xa0\\xa0\\xa0\\xa0\\xa0Some Other Race alone'\n",
      " '\\xa0\\xa0\\xa0\\xa0\\xa0\\xa0\\xa0\\xa0\\xa0\\xa0\\xa0\\xa0Two or More Races'\n",
      " 'RELATIONSHIP' '\\xa0\\xa0\\xa0\\xa0\\xa0\\xa0\\xa0\\xa0In households'\n",
      " '\\xa0\\xa0\\xa0\\xa0\\xa0\\xa0\\xa0\\xa0\\xa0\\xa0\\xa0\\xa0Householder'\n",
      " '\\xa0\\xa0\\xa0\\xa0\\xa0\\xa0\\xa0\\xa0\\xa0\\xa0\\xa0\\xa0Opposite-sex spouse'\n",
      " '\\xa0\\xa0\\xa0\\xa0\\xa0\\xa0\\xa0\\xa0\\xa0\\xa0\\xa0\\xa0Same-sex spouse'\n",
      " '\\xa0\\xa0\\xa0\\xa0\\xa0\\xa0\\xa0\\xa0\\xa0\\xa0\\xa0\\xa0Opposite-sex unmarried partner'\n",
      " '\\xa0\\xa0\\xa0\\xa0\\xa0\\xa0\\xa0\\xa0\\xa0\\xa0\\xa0\\xa0Same-sex unmarried partner'\n",
      " '\\xa0\\xa0\\xa0\\xa0\\xa0\\xa0\\xa0\\xa0\\xa0\\xa0\\xa0\\xa0Child [2]'\n",
      " '\\xa0\\xa0\\xa0\\xa0\\xa0\\xa0\\xa0\\xa0\\xa0\\xa0\\xa0\\xa0\\xa0\\xa0\\xa0\\xa0Under 18 years'\n",
      " '\\xa0\\xa0\\xa0\\xa0\\xa0\\xa0\\xa0\\xa0\\xa0\\xa0\\xa0\\xa0Grandchild'\n",
      " '\\xa0\\xa0\\xa0\\xa0\\xa0\\xa0\\xa0\\xa0\\xa0\\xa0\\xa0\\xa0Other relatives'\n",
      " '\\xa0\\xa0\\xa0\\xa0\\xa0\\xa0\\xa0\\xa0\\xa0\\xa0\\xa0\\xa0Nonrelatives'\n",
      " '\\xa0\\xa0\\xa0\\xa0\\xa0\\xa0\\xa0\\xa0In group quarters'\n",
      " '\\xa0\\xa0\\xa0\\xa0\\xa0\\xa0\\xa0\\xa0\\xa0\\xa0\\xa0\\xa0Institutionalized population:'\n",
      " '\\xa0\\xa0\\xa0\\xa0\\xa0\\xa0\\xa0\\xa0\\xa0\\xa0\\xa0\\xa0\\xa0\\xa0\\xa0\\xa0Male'\n",
      " '\\xa0\\xa0\\xa0\\xa0\\xa0\\xa0\\xa0\\xa0\\xa0\\xa0\\xa0\\xa0\\xa0\\xa0\\xa0\\xa0Female'\n",
      " '\\xa0\\xa0\\xa0\\xa0\\xa0\\xa0\\xa0\\xa0\\xa0\\xa0\\xa0\\xa0Noninstitutionalized population:'\n",
      " 'HOUSEHOLDS BY TYPE' '\\xa0\\xa0\\xa0\\xa0Total households'\n",
      " '\\xa0\\xa0\\xa0\\xa0\\xa0\\xa0\\xa0\\xa0Married couple household'\n",
      " '\\xa0\\xa0\\xa0\\xa0\\xa0\\xa0\\xa0\\xa0\\xa0\\xa0\\xa0\\xa0With own children under 18 [3]'\n",
      " '\\xa0\\xa0\\xa0\\xa0\\xa0\\xa0\\xa0\\xa0Cohabiting couple household'\n",
      " '\\xa0\\xa0\\xa0\\xa0\\xa0\\xa0\\xa0\\xa0Male householder, no spouse or partner present:'\n",
      " '\\xa0\\xa0\\xa0\\xa0\\xa0\\xa0\\xa0\\xa0\\xa0\\xa0\\xa0\\xa0Living alone'\n",
      " '\\xa0\\xa0\\xa0\\xa0\\xa0\\xa0\\xa0\\xa0\\xa0\\xa0\\xa0\\xa0\\xa0\\xa0\\xa0\\xa065 years and over'\n",
      " '\\xa0\\xa0\\xa0\\xa0\\xa0\\xa0\\xa0\\xa0Female householder, no spouse or partner present:'\n",
      " '\\xa0\\xa0\\xa0\\xa0\\xa0\\xa0\\xa0\\xa0Households with individuals under 18 years'\n",
      " '\\xa0\\xa0\\xa0\\xa0\\xa0\\xa0\\xa0\\xa0Households with individuals 65 years and over'\n",
      " 'HOUSING OCCUPANCY' '\\xa0\\xa0\\xa0\\xa0Total housing units'\n",
      " '\\xa0\\xa0\\xa0\\xa0\\xa0\\xa0\\xa0\\xa0Occupied housing units'\n",
      " '\\xa0\\xa0\\xa0\\xa0\\xa0\\xa0\\xa0\\xa0Vacant housing units'\n",
      " '\\xa0\\xa0\\xa0\\xa0\\xa0\\xa0\\xa0\\xa0\\xa0\\xa0\\xa0\\xa0For rent'\n",
      " '\\xa0\\xa0\\xa0\\xa0\\xa0\\xa0\\xa0\\xa0\\xa0\\xa0\\xa0\\xa0Rented, not occupied'\n",
      " '\\xa0\\xa0\\xa0\\xa0\\xa0\\xa0\\xa0\\xa0\\xa0\\xa0\\xa0\\xa0For sale only'\n",
      " '\\xa0\\xa0\\xa0\\xa0\\xa0\\xa0\\xa0\\xa0\\xa0\\xa0\\xa0\\xa0Sold, not occupied'\n",
      " '\\xa0\\xa0\\xa0\\xa0\\xa0\\xa0\\xa0\\xa0\\xa0\\xa0\\xa0\\xa0For seasonal, recreational, or occasional use'\n",
      " '\\xa0\\xa0\\xa0\\xa0\\xa0\\xa0\\xa0\\xa0\\xa0\\xa0\\xa0\\xa0All other vacants'\n",
      " 'VACANCY RATES' '\\xa0\\xa0\\xa0\\xa0Homeowner vacancy rate (percent) [4]'\n",
      " '\\xa0\\xa0\\xa0\\xa0Rental vacancy rate (percent) [5]' 'HOUSING TENURE'\n",
      " '\\xa0\\xa0\\xa0\\xa0Occupied housing units'\n",
      " '\\xa0\\xa0\\xa0\\xa0\\xa0\\xa0\\xa0\\xa0Owner-occupied housing units'\n",
      " '\\xa0\\xa0\\xa0\\xa0\\xa0\\xa0\\xa0\\xa0Renter-occupied housing units']\n"
     ]
    }
   ],
   "source": [
    "print(decennial['Label (Grouping)'].unique())"
   ]
  },
  {
   "cell_type": "markdown",
   "metadata": {},
   "source": [
    "From taking a look at the `Label (Grouping)` column, we can see there are special characters before each string, most likely indicating the level on the hierarchy of the dataset. Let's try to discriminate based on this."
   ]
  },
  {
   "cell_type": "code",
   "execution_count": 5706,
   "metadata": {},
   "outputs": [
    {
     "data": {
      "text/plain": [
       "array([ 0,  4,  8, 12, 16])"
      ]
     },
     "execution_count": 5706,
     "metadata": {},
     "output_type": "execute_result"
    }
   ],
   "source": [
    "decennial['hierarchy'] = decennial['Label (Grouping)'].str.count('\\xa0')\n",
    "decennial['hierarchy'].unique()"
   ]
  },
  {
   "cell_type": "markdown",
   "metadata": {},
   "source": [
    "Let's look at each of the list of values for the top hierarchy:"
   ]
  },
  {
   "cell_type": "code",
   "execution_count": 5707,
   "metadata": {},
   "outputs": [
    {
     "data": {
      "text/plain": [
       "0                     SEX AND AGE\n",
       "76              MEDIAN AGE BY SEX\n",
       "80                           RACE\n",
       "90        TOTAL RACES TALLIED [1]\n",
       "98             HISPANIC OR LATINO\n",
       "102    HISPANIC OR LATINO BY RACE\n",
       "120                  RELATIONSHIP\n",
       "141            HOUSEHOLDS BY TYPE\n",
       "157             HOUSING OCCUPANCY\n",
       "167                 VACANCY RATES\n",
       "170                HOUSING TENURE\n",
       "Name: Label (Grouping), dtype: object"
      ]
     },
     "execution_count": 5707,
     "metadata": {},
     "output_type": "execute_result"
    }
   ],
   "source": [
    "decennial.loc[decennial['hierarchy'] == 0, 'Label (Grouping)']"
   ]
  },
  {
   "cell_type": "markdown",
   "metadata": {},
   "source": [
    "These are the main groupings in the dataset. We're only interested in the categories that relate to our dataset: `SEX AND AGE`, `RACE` and `HISPANIC OR LATINO`<br>\n",
    "\n",
    "Let's extract this information from `decennial`."
   ]
  },
  {
   "cell_type": "markdown",
   "metadata": {},
   "source": [
    "### Extracting information from the US Census datasets"
   ]
  },
  {
   "cell_type": "markdown",
   "metadata": {},
   "source": [
    "<i><b>Since we will need to extract information from two other datasets (estimates for 2021 and 2022), we'll try to define all of our steps as functions that we can extrapolate to the other two datasets.</i></b>"
   ]
  },
  {
   "cell_type": "markdown",
   "metadata": {},
   "source": [
    "##### Column types"
   ]
  },
  {
   "cell_type": "markdown",
   "metadata": {},
   "source": [
    "<div class=\"alert alert-block alert-warning\">\n",
    "\n",
    "Before we can go ahead with that, we need to check wether or not we have the correct data types to work with:\n",
    "\n",
    "</div>"
   ]
  },
  {
   "cell_type": "code",
   "execution_count": 5708,
   "metadata": {},
   "outputs": [
    {
     "name": "stdout",
     "output_type": "stream",
     "text": [
      "<class 'pandas.core.frame.DataFrame'>\n",
      "RangeIndex: 174 entries, 0 to 173\n",
      "Data columns (total 4 columns):\n",
      " #   Column                                Non-Null Count  Dtype \n",
      "---  ------                                --------------  ----- \n",
      " 0   Label (Grouping)                      174 non-null    object\n",
      " 1   Montgomery County, Maryland!!Count    160 non-null    object\n",
      " 2   Montgomery County, Maryland!!Percent  160 non-null    object\n",
      " 3   hierarchy                             174 non-null    int64 \n",
      "dtypes: int64(1), object(3)\n",
      "memory usage: 5.6+ KB\n"
     ]
    }
   ],
   "source": [
    "decennial.info()"
   ]
  },
  {
   "cell_type": "code",
   "execution_count": 5709,
   "metadata": {},
   "outputs": [
    {
     "data": {
      "text/html": [
       "<div>\n",
       "<style scoped>\n",
       "    .dataframe tbody tr th:only-of-type {\n",
       "        vertical-align: middle;\n",
       "    }\n",
       "\n",
       "    .dataframe tbody tr th {\n",
       "        vertical-align: top;\n",
       "    }\n",
       "\n",
       "    .dataframe thead th {\n",
       "        text-align: right;\n",
       "    }\n",
       "</style>\n",
       "<table border=\"1\" class=\"dataframe\">\n",
       "  <thead>\n",
       "    <tr style=\"text-align: right;\">\n",
       "      <th></th>\n",
       "      <th>Label (Grouping)</th>\n",
       "      <th>Montgomery County, Maryland!!Count</th>\n",
       "      <th>Montgomery County, Maryland!!Percent</th>\n",
       "      <th>hierarchy</th>\n",
       "    </tr>\n",
       "  </thead>\n",
       "  <tbody>\n",
       "    <tr>\n",
       "      <th>0</th>\n",
       "      <td>SEX AND AGE</td>\n",
       "      <td>NaN</td>\n",
       "      <td>NaN</td>\n",
       "      <td>0</td>\n",
       "    </tr>\n",
       "    <tr>\n",
       "      <th>1</th>\n",
       "      <td>Total population</td>\n",
       "      <td>1,062,061</td>\n",
       "      <td>100.0%</td>\n",
       "      <td>4</td>\n",
       "    </tr>\n",
       "    <tr>\n",
       "      <th>2</th>\n",
       "      <td>Under 5 years</td>\n",
       "      <td>59,726</td>\n",
       "      <td>5.6%</td>\n",
       "      <td>8</td>\n",
       "    </tr>\n",
       "    <tr>\n",
       "      <th>3</th>\n",
       "      <td>5 to 9 years</td>\n",
       "      <td>66,704</td>\n",
       "      <td>6.3%</td>\n",
       "      <td>8</td>\n",
       "    </tr>\n",
       "    <tr>\n",
       "      <th>4</th>\n",
       "      <td>10 to 14 years</td>\n",
       "      <td>72,492</td>\n",
       "      <td>6.8%</td>\n",
       "      <td>8</td>\n",
       "    </tr>\n",
       "  </tbody>\n",
       "</table>\n",
       "</div>"
      ],
      "text/plain": [
       "         Label (Grouping) Montgomery County, Maryland!!Count  \\\n",
       "0             SEX AND AGE                                NaN   \n",
       "1        Total population                          1,062,061   \n",
       "2           Under 5 years                             59,726   \n",
       "3            5 to 9 years                             66,704   \n",
       "4          10 to 14 years                             72,492   \n",
       "\n",
       "  Montgomery County, Maryland!!Percent  hierarchy  \n",
       "0                                  NaN          0  \n",
       "1                               100.0%          4  \n",
       "2                                 5.6%          8  \n",
       "3                                 6.3%          8  \n",
       "4                                 6.8%          8  "
      ]
     },
     "execution_count": 5709,
     "metadata": {},
     "output_type": "execute_result"
    }
   ],
   "source": [
    "decennial.head()"
   ]
  },
  {
   "cell_type": "markdown",
   "metadata": {},
   "source": [
    "In the Count column (number of people) we have missing values and numbers stored as strings, with thousands separators. Let's fix that so we have a column of type `int`"
   ]
  },
  {
   "cell_type": "code",
   "execution_count": 5710,
   "metadata": {},
   "outputs": [],
   "source": [
    "def fix_population_count_column(column):\n",
    "    new_col = column.fillna(\"-1\")\n",
    "    new_col.loc[new_col.str.contains('X')] = '-1'\n",
    "    new_col.loc[new_col.str.contains('N')] = '-1'\n",
    "\n",
    "    new_col = new_col.str.split(',')\n",
    "    new_col = new_col.apply(lambda l: \"\".join(l))\n",
    "    new_col.loc[new_col == '-1'] = np.nan\n",
    "    return new_col.astype('float')"
   ]
  },
  {
   "cell_type": "code",
   "execution_count": 5711,
   "metadata": {},
   "outputs": [
    {
     "data": {
      "text/html": [
       "<div>\n",
       "<style scoped>\n",
       "    .dataframe tbody tr th:only-of-type {\n",
       "        vertical-align: middle;\n",
       "    }\n",
       "\n",
       "    .dataframe tbody tr th {\n",
       "        vertical-align: top;\n",
       "    }\n",
       "\n",
       "    .dataframe thead th {\n",
       "        text-align: right;\n",
       "    }\n",
       "</style>\n",
       "<table border=\"1\" class=\"dataframe\">\n",
       "  <thead>\n",
       "    <tr style=\"text-align: right;\">\n",
       "      <th></th>\n",
       "      <th>Montgomery County, Maryland!!Count</th>\n",
       "      <th>population_count</th>\n",
       "    </tr>\n",
       "  </thead>\n",
       "  <tbody>\n",
       "    <tr>\n",
       "      <th>0</th>\n",
       "      <td>NaN</td>\n",
       "      <td>NaN</td>\n",
       "    </tr>\n",
       "    <tr>\n",
       "      <th>1</th>\n",
       "      <td>1,062,061</td>\n",
       "      <td>1062061.0</td>\n",
       "    </tr>\n",
       "    <tr>\n",
       "      <th>2</th>\n",
       "      <td>59,726</td>\n",
       "      <td>59726.0</td>\n",
       "    </tr>\n",
       "    <tr>\n",
       "      <th>3</th>\n",
       "      <td>66,704</td>\n",
       "      <td>66704.0</td>\n",
       "    </tr>\n",
       "    <tr>\n",
       "      <th>4</th>\n",
       "      <td>72,492</td>\n",
       "      <td>72492.0</td>\n",
       "    </tr>\n",
       "    <tr>\n",
       "      <th>...</th>\n",
       "      <td>...</td>\n",
       "      <td>...</td>\n",
       "    </tr>\n",
       "    <tr>\n",
       "      <th>169</th>\n",
       "      <td>5.5</td>\n",
       "      <td>5.5</td>\n",
       "    </tr>\n",
       "    <tr>\n",
       "      <th>170</th>\n",
       "      <td>NaN</td>\n",
       "      <td>NaN</td>\n",
       "    </tr>\n",
       "    <tr>\n",
       "      <th>171</th>\n",
       "      <td>386,931</td>\n",
       "      <td>386931.0</td>\n",
       "    </tr>\n",
       "    <tr>\n",
       "      <th>172</th>\n",
       "      <td>246,421</td>\n",
       "      <td>246421.0</td>\n",
       "    </tr>\n",
       "    <tr>\n",
       "      <th>173</th>\n",
       "      <td>140,510</td>\n",
       "      <td>140510.0</td>\n",
       "    </tr>\n",
       "  </tbody>\n",
       "</table>\n",
       "<p>174 rows × 2 columns</p>\n",
       "</div>"
      ],
      "text/plain": [
       "    Montgomery County, Maryland!!Count  population_count\n",
       "0                                  NaN               NaN\n",
       "1                            1,062,061         1062061.0\n",
       "2                               59,726           59726.0\n",
       "3                               66,704           66704.0\n",
       "4                               72,492           72492.0\n",
       "..                                 ...               ...\n",
       "169                                5.5               5.5\n",
       "170                                NaN               NaN\n",
       "171                            386,931          386931.0\n",
       "172                            246,421          246421.0\n",
       "173                            140,510          140510.0\n",
       "\n",
       "[174 rows x 2 columns]"
      ]
     },
     "execution_count": 5711,
     "metadata": {},
     "output_type": "execute_result"
    }
   ],
   "source": [
    "decennial['population_count'] = fix_population_count_column(decennial['Montgomery County, Maryland!!Count'])\n",
    "decennial[['Montgomery County, Maryland!!Count', 'population_count']]"
   ]
  },
  {
   "cell_type": "markdown",
   "metadata": {},
   "source": [
    "Now let's do something similar with the percentages column."
   ]
  },
  {
   "cell_type": "code",
   "execution_count": 5712,
   "metadata": {},
   "outputs": [],
   "source": [
    "def fix_population_percentage_column(column):\n",
    "    \n",
    "    new_col = column.fillna(\"-1\")\n",
    "    new_col.loc[new_col.str.contains('X')] = '-1'\n",
    "    new_col.loc[new_col.str.contains('N')] = '-1'\n",
    "    new_col.loc[new_col.str.contains(',')] = '-1'\n",
    "    \n",
    "    new_col.loc[new_col.str.contains('%')] = new_col.loc[new_col.str.contains('%')].apply(lambda x: x[:-1])\n",
    "    new_col.loc[new_col == '-1'] = np.nan\n",
    "    return new_col.astype('float')"
   ]
  },
  {
   "cell_type": "code",
   "execution_count": 5713,
   "metadata": {},
   "outputs": [],
   "source": [
    "#decennial['population_percentage'] = fix_population_percentage_column(decennial['Montgomery County, Maryland!!Percent'])\n",
    "#decennial[['Montgomery County, Maryland!!Percent', 'population_percentage']]"
   ]
  },
  {
   "cell_type": "code",
   "execution_count": 5714,
   "metadata": {},
   "outputs": [
    {
     "name": "stdout",
     "output_type": "stream",
     "text": [
      "<class 'pandas.core.frame.DataFrame'>\n",
      "RangeIndex: 174 entries, 0 to 173\n",
      "Data columns (total 5 columns):\n",
      " #   Column                                Non-Null Count  Dtype  \n",
      "---  ------                                --------------  -----  \n",
      " 0   Label (Grouping)                      174 non-null    object \n",
      " 1   Montgomery County, Maryland!!Count    160 non-null    object \n",
      " 2   Montgomery County, Maryland!!Percent  160 non-null    object \n",
      " 3   hierarchy                             174 non-null    int64  \n",
      " 4   population_count                      160 non-null    float64\n",
      "dtypes: float64(1), int64(1), object(3)\n",
      "memory usage: 6.9+ KB\n"
     ]
    }
   ],
   "source": [
    "decennial.info()"
   ]
  },
  {
   "cell_type": "code",
   "execution_count": 5715,
   "metadata": {},
   "outputs": [],
   "source": [
    "decennial['Label (Grouping)'] = decennial['Label (Grouping)'].apply(lambda string: string.replace(u'\\xa0', u''))"
   ]
  },
  {
   "cell_type": "markdown",
   "metadata": {},
   "source": [
    "#### Total population"
   ]
  },
  {
   "cell_type": "markdown",
   "metadata": {},
   "source": [
    "First, we'll save the total population in a variable so as to not have to include it in our new dataset."
   ]
  },
  {
   "cell_type": "code",
   "execution_count": 5716,
   "metadata": {},
   "outputs": [
    {
     "data": {
      "text/html": [
       "<div>\n",
       "<style scoped>\n",
       "    .dataframe tbody tr th:only-of-type {\n",
       "        vertical-align: middle;\n",
       "    }\n",
       "\n",
       "    .dataframe tbody tr th {\n",
       "        vertical-align: top;\n",
       "    }\n",
       "\n",
       "    .dataframe thead th {\n",
       "        text-align: right;\n",
       "    }\n",
       "</style>\n",
       "<table border=\"1\" class=\"dataframe\">\n",
       "  <thead>\n",
       "    <tr style=\"text-align: right;\">\n",
       "      <th></th>\n",
       "      <th>Label (Grouping)</th>\n",
       "      <th>population_count</th>\n",
       "    </tr>\n",
       "  </thead>\n",
       "  <tbody>\n",
       "    <tr>\n",
       "      <th>1</th>\n",
       "      <td>Total population</td>\n",
       "      <td>1062061.0</td>\n",
       "    </tr>\n",
       "    <tr>\n",
       "      <th>81</th>\n",
       "      <td>Total population</td>\n",
       "      <td>1062061.0</td>\n",
       "    </tr>\n",
       "    <tr>\n",
       "      <th>99</th>\n",
       "      <td>Total population</td>\n",
       "      <td>1062061.0</td>\n",
       "    </tr>\n",
       "    <tr>\n",
       "      <th>103</th>\n",
       "      <td>Total population</td>\n",
       "      <td>1062061.0</td>\n",
       "    </tr>\n",
       "    <tr>\n",
       "      <th>121</th>\n",
       "      <td>Total population</td>\n",
       "      <td>1062061.0</td>\n",
       "    </tr>\n",
       "  </tbody>\n",
       "</table>\n",
       "</div>"
      ],
      "text/plain": [
       "     Label (Grouping)  population_count\n",
       "1    Total population         1062061.0\n",
       "81   Total population         1062061.0\n",
       "99   Total population         1062061.0\n",
       "103  Total population         1062061.0\n",
       "121  Total population         1062061.0"
      ]
     },
     "execution_count": 5716,
     "metadata": {},
     "output_type": "execute_result"
    }
   ],
   "source": [
    "decennial.loc[decennial['Label (Grouping)'].str.contains('Total population'), ['Label (Grouping)', 'population_count']]"
   ]
  },
  {
   "cell_type": "code",
   "execution_count": 5717,
   "metadata": {},
   "outputs": [],
   "source": [
    "def extract_total_population(dataset, labels_column):\n",
    "    index_record_with_total = dataset.loc[dataset[labels_column].str.contains('Total population'), labels_column].index[0]\n",
    "    return dataset.loc[index_record_with_total, 'population_count']"
   ]
  },
  {
   "cell_type": "code",
   "execution_count": 5718,
   "metadata": {},
   "outputs": [
    {
     "data": {
      "text/plain": [
       "1062061.0"
      ]
     },
     "execution_count": 5718,
     "metadata": {},
     "output_type": "execute_result"
    }
   ],
   "source": [
    "decennial_total = extract_total_population(decennial, 'Label (Grouping)')\n",
    "decennial_total"
   ]
  },
  {
   "cell_type": "markdown",
   "metadata": {},
   "source": [
    "#### Extracting the population counts for each demographic category"
   ]
  },
  {
   "cell_type": "code",
   "execution_count": 5719,
   "metadata": {},
   "outputs": [
    {
     "data": {
      "text/plain": [
       "0                     SEX AND AGE\n",
       "76              MEDIAN AGE BY SEX\n",
       "80                           RACE\n",
       "90        TOTAL RACES TALLIED [1]\n",
       "98             HISPANIC OR LATINO\n",
       "102    HISPANIC OR LATINO BY RACE\n",
       "120                  RELATIONSHIP\n",
       "141            HOUSEHOLDS BY TYPE\n",
       "157             HOUSING OCCUPANCY\n",
       "167                 VACANCY RATES\n",
       "170                HOUSING TENURE\n",
       "Name: Label (Grouping), dtype: object"
      ]
     },
     "execution_count": 5719,
     "metadata": {},
     "output_type": "execute_result"
    }
   ],
   "source": [
    "decennial.loc[decennial['hierarchy'] == 0, 'Label (Grouping)']"
   ]
  },
  {
   "cell_type": "markdown",
   "metadata": {},
   "source": [
    "We're only interested in the categories that relate to our dataset: `SEX AND AGE`, `RACE` and `HISPANIC OR LATINO`<br>\n",
    "Let's define new dataframes with this information."
   ]
  },
  {
   "cell_type": "code",
   "execution_count": 5720,
   "metadata": {},
   "outputs": [],
   "source": [
    "def extract_to_new_dfs(dataset, labels_column, groups_of_interest):\n",
    "\n",
    "    groups_of_interest_indices = []\n",
    "    groups_first_rows = dataset.loc[dataset['hierarchy'] == 0, labels_column]\n",
    "    groups_first_rows = groups_first_rows.reset_index()\n",
    "    \n",
    "    k = 0\n",
    "    i = 0\n",
    "    while i < len(groups_first_rows) and k<len(groups_of_interest):\n",
    "        if groups_of_interest[k] in groups_first_rows.loc[i, labels_column]:\n",
    "\n",
    "            # we sum 2 to avoid the row with the group name and to avoid the row with the total population (since it appears every time)\n",
    "            groups_of_interest_indices.append([groups_first_rows.loc[i, 'index'], groups_first_rows.loc[i+1, 'index']])\n",
    "\n",
    "            k += 1\n",
    "        i += 1\n",
    "\n",
    "    \n",
    "    return groups_of_interest_indices\n",
    "    "
   ]
  },
  {
   "cell_type": "code",
   "execution_count": 5721,
   "metadata": {},
   "outputs": [],
   "source": [
    "groups_of_interest = ['SEX AND AGE', 'RACE', 'HISPANIC OR LATINO']\n",
    "\n",
    "sex_age_indices, race_indices, ethnicity_indices = extract_to_new_dfs(decennial, 'Label (Grouping)', groups_of_interest)"
   ]
  },
  {
   "cell_type": "code",
   "execution_count": 5722,
   "metadata": {},
   "outputs": [],
   "source": [
    "#decennial = decennial[['Label (Grouping)', 'hierarchy', 'population_count', 'population_percentage']]\n",
    "decennial = decennial[['Label (Grouping)', 'hierarchy', 'population_count']]\n",
    "\n",
    "# we sum 2 to the start indexto avoid the row with the group name and to avoid the row with the total population (since it appears every time)\n",
    "decennial_sex_age = decennial.loc[sex_age_indices[0]+2:sex_age_indices[1], :]\n",
    "decennial_race = decennial.loc[race_indices[0]+2:race_indices[1], :]\n",
    "decennial_ethnicity = decennial.loc[ethnicity_indices[0]+2:ethnicity_indices[1], :]"
   ]
  },
  {
   "cell_type": "markdown",
   "metadata": {},
   "source": [
    "Now we have three new dataframes with only the data we are interested in. Let's check wether or not that data is exactly what we need."
   ]
  },
  {
   "cell_type": "markdown",
   "metadata": {},
   "source": [
    "##### Sex"
   ]
  },
  {
   "cell_type": "code",
   "execution_count": 5723,
   "metadata": {},
   "outputs": [
    {
     "data": {
      "text/html": [
       "<div>\n",
       "<style scoped>\n",
       "    .dataframe tbody tr th:only-of-type {\n",
       "        vertical-align: middle;\n",
       "    }\n",
       "\n",
       "    .dataframe tbody tr th {\n",
       "        vertical-align: top;\n",
       "    }\n",
       "\n",
       "    .dataframe thead th {\n",
       "        text-align: right;\n",
       "    }\n",
       "</style>\n",
       "<table border=\"1\" class=\"dataframe\">\n",
       "  <thead>\n",
       "    <tr style=\"text-align: right;\">\n",
       "      <th></th>\n",
       "      <th>Label (Grouping)</th>\n",
       "      <th>hierarchy</th>\n",
       "      <th>population_count</th>\n",
       "    </tr>\n",
       "  </thead>\n",
       "  <tbody>\n",
       "    <tr>\n",
       "      <th>26</th>\n",
       "      <td>Male population</td>\n",
       "      <td>4</td>\n",
       "      <td>509117.0</td>\n",
       "    </tr>\n",
       "    <tr>\n",
       "      <th>51</th>\n",
       "      <td>Female population</td>\n",
       "      <td>4</td>\n",
       "      <td>552944.0</td>\n",
       "    </tr>\n",
       "  </tbody>\n",
       "</table>\n",
       "</div>"
      ],
      "text/plain": [
       "     Label (Grouping)  hierarchy  population_count\n",
       "26    Male population          4          509117.0\n",
       "51  Female population          4          552944.0"
      ]
     },
     "execution_count": 5723,
     "metadata": {},
     "output_type": "execute_result"
    }
   ],
   "source": [
    "decennial_sex_age.loc[(decennial_sex_age['Label (Grouping)'].str.contains('Male')) | (decennial_sex_age['Label (Grouping)'].str.contains('Female')), :]"
   ]
  },
  {
   "cell_type": "markdown",
   "metadata": {},
   "source": [
    "Let's create a function to obtain just the sex data from the decennial_age_sex dataset:"
   ]
  },
  {
   "cell_type": "code",
   "execution_count": 5724,
   "metadata": {},
   "outputs": [],
   "source": [
    "def sex_df(dataset):\n",
    "    return dataset[dataset['hierarchy'] == 4]"
   ]
  },
  {
   "cell_type": "code",
   "execution_count": 5725,
   "metadata": {},
   "outputs": [],
   "source": [
    "decennial_sex = sex_df(decennial_sex_age)"
   ]
  },
  {
   "cell_type": "markdown",
   "metadata": {},
   "source": [
    "##### Age"
   ]
  },
  {
   "cell_type": "markdown",
   "metadata": {},
   "source": [
    "Let's take a peek at the dataset to try and locate our data:"
   ]
  },
  {
   "cell_type": "code",
   "execution_count": 5726,
   "metadata": {},
   "outputs": [
    {
     "data": {
      "text/html": [
       "<div>\n",
       "<style scoped>\n",
       "    .dataframe tbody tr th:only-of-type {\n",
       "        vertical-align: middle;\n",
       "    }\n",
       "\n",
       "    .dataframe tbody tr th {\n",
       "        vertical-align: top;\n",
       "    }\n",
       "\n",
       "    .dataframe thead th {\n",
       "        text-align: right;\n",
       "    }\n",
       "</style>\n",
       "<table border=\"1\" class=\"dataframe\">\n",
       "  <thead>\n",
       "    <tr style=\"text-align: right;\">\n",
       "      <th></th>\n",
       "      <th>Label (Grouping)</th>\n",
       "      <th>hierarchy</th>\n",
       "      <th>population_count</th>\n",
       "    </tr>\n",
       "  </thead>\n",
       "  <tbody>\n",
       "    <tr>\n",
       "      <th>2</th>\n",
       "      <td>Under 5 years</td>\n",
       "      <td>8</td>\n",
       "      <td>59726.0</td>\n",
       "    </tr>\n",
       "    <tr>\n",
       "      <th>3</th>\n",
       "      <td>5 to 9 years</td>\n",
       "      <td>8</td>\n",
       "      <td>66704.0</td>\n",
       "    </tr>\n",
       "    <tr>\n",
       "      <th>4</th>\n",
       "      <td>10 to 14 years</td>\n",
       "      <td>8</td>\n",
       "      <td>72492.0</td>\n",
       "    </tr>\n",
       "    <tr>\n",
       "      <th>5</th>\n",
       "      <td>15 to 19 years</td>\n",
       "      <td>8</td>\n",
       "      <td>67985.0</td>\n",
       "    </tr>\n",
       "    <tr>\n",
       "      <th>6</th>\n",
       "      <td>20 to 24 years</td>\n",
       "      <td>8</td>\n",
       "      <td>61027.0</td>\n",
       "    </tr>\n",
       "    <tr>\n",
       "      <th>7</th>\n",
       "      <td>25 to 29 years</td>\n",
       "      <td>8</td>\n",
       "      <td>64492.0</td>\n",
       "    </tr>\n",
       "    <tr>\n",
       "      <th>8</th>\n",
       "      <td>30 to 34 years</td>\n",
       "      <td>8</td>\n",
       "      <td>71010.0</td>\n",
       "    </tr>\n",
       "    <tr>\n",
       "      <th>9</th>\n",
       "      <td>35 to 39 years</td>\n",
       "      <td>8</td>\n",
       "      <td>74903.0</td>\n",
       "    </tr>\n",
       "    <tr>\n",
       "      <th>10</th>\n",
       "      <td>40 to 44 years</td>\n",
       "      <td>8</td>\n",
       "      <td>71909.0</td>\n",
       "    </tr>\n",
       "    <tr>\n",
       "      <th>11</th>\n",
       "      <td>45 to 49 years</td>\n",
       "      <td>8</td>\n",
       "      <td>70756.0</td>\n",
       "    </tr>\n",
       "    <tr>\n",
       "      <th>12</th>\n",
       "      <td>50 to 54 years</td>\n",
       "      <td>8</td>\n",
       "      <td>71443.0</td>\n",
       "    </tr>\n",
       "    <tr>\n",
       "      <th>13</th>\n",
       "      <td>55 to 59 years</td>\n",
       "      <td>8</td>\n",
       "      <td>72873.0</td>\n",
       "    </tr>\n",
       "    <tr>\n",
       "      <th>14</th>\n",
       "      <td>60 to 64 years</td>\n",
       "      <td>8</td>\n",
       "      <td>66895.0</td>\n",
       "    </tr>\n",
       "    <tr>\n",
       "      <th>15</th>\n",
       "      <td>65 to 69 years</td>\n",
       "      <td>8</td>\n",
       "      <td>55773.0</td>\n",
       "    </tr>\n",
       "    <tr>\n",
       "      <th>16</th>\n",
       "      <td>70 to 74 years</td>\n",
       "      <td>8</td>\n",
       "      <td>43384.0</td>\n",
       "    </tr>\n",
       "    <tr>\n",
       "      <th>17</th>\n",
       "      <td>75 to 79 years</td>\n",
       "      <td>8</td>\n",
       "      <td>29756.0</td>\n",
       "    </tr>\n",
       "    <tr>\n",
       "      <th>18</th>\n",
       "      <td>80 to 84 years</td>\n",
       "      <td>8</td>\n",
       "      <td>19279.0</td>\n",
       "    </tr>\n",
       "    <tr>\n",
       "      <th>19</th>\n",
       "      <td>85 years and over</td>\n",
       "      <td>8</td>\n",
       "      <td>21654.0</td>\n",
       "    </tr>\n",
       "    <tr>\n",
       "      <th>20</th>\n",
       "      <td>Selected Age Categories</td>\n",
       "      <td>8</td>\n",
       "      <td>NaN</td>\n",
       "    </tr>\n",
       "    <tr>\n",
       "      <th>21</th>\n",
       "      <td>16 years and over</td>\n",
       "      <td>12</td>\n",
       "      <td>848493.0</td>\n",
       "    </tr>\n",
       "  </tbody>\n",
       "</table>\n",
       "</div>"
      ],
      "text/plain": [
       "           Label (Grouping)  hierarchy  population_count\n",
       "2             Under 5 years          8           59726.0\n",
       "3              5 to 9 years          8           66704.0\n",
       "4            10 to 14 years          8           72492.0\n",
       "5            15 to 19 years          8           67985.0\n",
       "6            20 to 24 years          8           61027.0\n",
       "7            25 to 29 years          8           64492.0\n",
       "8            30 to 34 years          8           71010.0\n",
       "9            35 to 39 years          8           74903.0\n",
       "10           40 to 44 years          8           71909.0\n",
       "11           45 to 49 years          8           70756.0\n",
       "12           50 to 54 years          8           71443.0\n",
       "13           55 to 59 years          8           72873.0\n",
       "14           60 to 64 years          8           66895.0\n",
       "15           65 to 69 years          8           55773.0\n",
       "16           70 to 74 years          8           43384.0\n",
       "17           75 to 79 years          8           29756.0\n",
       "18           80 to 84 years          8           19279.0\n",
       "19        85 years and over          8           21654.0\n",
       "20  Selected Age Categories          8               NaN\n",
       "21        16 years and over         12          848493.0"
      ]
     },
     "execution_count": 5726,
     "metadata": {},
     "output_type": "execute_result"
    }
   ],
   "source": [
    "decennial_sex_age.head(20)"
   ]
  },
  {
   "cell_type": "markdown",
   "metadata": {},
   "source": [
    "We're only interested in the basic categories from Under 5 years to 85 years and over."
   ]
  },
  {
   "cell_type": "code",
   "execution_count": 5727,
   "metadata": {},
   "outputs": [],
   "source": [
    "def age_df(dataset, labels_column):\n",
    "    start = dataset.loc[dataset[labels_column].str.contains('Under 5 years'), labels_column].index\n",
    "    if len(start)>1:\n",
    "        start = start[0]\n",
    "\n",
    "    end = dataset.loc[dataset[labels_column].str.contains('85 years and over'), labels_column].index\n",
    "    if len(end)>1:\n",
    "        end = end[0]\n",
    "\n",
    "    return dataset[start: end+1]"
   ]
  },
  {
   "cell_type": "code",
   "execution_count": 5728,
   "metadata": {},
   "outputs": [],
   "source": [
    "decennial_age = age_df(decennial, 'Label (Grouping)')"
   ]
  },
  {
   "cell_type": "markdown",
   "metadata": {},
   "source": [
    "##### Race"
   ]
  },
  {
   "cell_type": "code",
   "execution_count": 5729,
   "metadata": {},
   "outputs": [
    {
     "data": {
      "text/html": [
       "<div>\n",
       "<style scoped>\n",
       "    .dataframe tbody tr th:only-of-type {\n",
       "        vertical-align: middle;\n",
       "    }\n",
       "\n",
       "    .dataframe tbody tr th {\n",
       "        vertical-align: top;\n",
       "    }\n",
       "\n",
       "    .dataframe thead th {\n",
       "        text-align: right;\n",
       "    }\n",
       "</style>\n",
       "<table border=\"1\" class=\"dataframe\">\n",
       "  <thead>\n",
       "    <tr style=\"text-align: right;\">\n",
       "      <th></th>\n",
       "      <th>Label (Grouping)</th>\n",
       "      <th>hierarchy</th>\n",
       "      <th>population_count</th>\n",
       "    </tr>\n",
       "  </thead>\n",
       "  <tbody>\n",
       "    <tr>\n",
       "      <th>82</th>\n",
       "      <td>One Race</td>\n",
       "      <td>8</td>\n",
       "      <td>942799.0</td>\n",
       "    </tr>\n",
       "    <tr>\n",
       "      <th>83</th>\n",
       "      <td>White</td>\n",
       "      <td>12</td>\n",
       "      <td>457783.0</td>\n",
       "    </tr>\n",
       "    <tr>\n",
       "      <th>84</th>\n",
       "      <td>Black or African American</td>\n",
       "      <td>12</td>\n",
       "      <td>197077.0</td>\n",
       "    </tr>\n",
       "    <tr>\n",
       "      <th>85</th>\n",
       "      <td>American Indian and Alaska Native</td>\n",
       "      <td>12</td>\n",
       "      <td>7036.0</td>\n",
       "    </tr>\n",
       "    <tr>\n",
       "      <th>86</th>\n",
       "      <td>Asian</td>\n",
       "      <td>12</td>\n",
       "      <td>163507.0</td>\n",
       "    </tr>\n",
       "    <tr>\n",
       "      <th>87</th>\n",
       "      <td>Native Hawaiian and Other Pacific Islander</td>\n",
       "      <td>12</td>\n",
       "      <td>610.0</td>\n",
       "    </tr>\n",
       "    <tr>\n",
       "      <th>88</th>\n",
       "      <td>Some Other Race</td>\n",
       "      <td>12</td>\n",
       "      <td>116786.0</td>\n",
       "    </tr>\n",
       "    <tr>\n",
       "      <th>89</th>\n",
       "      <td>Two or More Races</td>\n",
       "      <td>8</td>\n",
       "      <td>119262.0</td>\n",
       "    </tr>\n",
       "    <tr>\n",
       "      <th>90</th>\n",
       "      <td>TOTAL RACES TALLIED [1]</td>\n",
       "      <td>0</td>\n",
       "      <td>NaN</td>\n",
       "    </tr>\n",
       "  </tbody>\n",
       "</table>\n",
       "</div>"
      ],
      "text/plain": [
       "                              Label (Grouping)  hierarchy  population_count\n",
       "82                                    One Race          8          942799.0\n",
       "83                                       White         12          457783.0\n",
       "84                   Black or African American         12          197077.0\n",
       "85           American Indian and Alaska Native         12            7036.0\n",
       "86                                       Asian         12          163507.0\n",
       "87  Native Hawaiian and Other Pacific Islander         12             610.0\n",
       "88                             Some Other Race         12          116786.0\n",
       "89                           Two or More Races          8          119262.0\n",
       "90                     TOTAL RACES TALLIED [1]          0               NaN"
      ]
     },
     "execution_count": 5729,
     "metadata": {},
     "output_type": "execute_result"
    }
   ],
   "source": [
    "decennial_race"
   ]
  },
  {
   "cell_type": "markdown",
   "metadata": {},
   "source": [
    "We're only interested in the values under the grouping `One Race` since that is what our arrests dataset records. (1 single race per person).<br>\n",
    "There records are all the records with hierarchy 12."
   ]
  },
  {
   "cell_type": "code",
   "execution_count": 5730,
   "metadata": {},
   "outputs": [],
   "source": [
    "def race_df(dataset):\n",
    "    return dataset[dataset['hierarchy'] == 12]"
   ]
  },
  {
   "cell_type": "code",
   "execution_count": 5731,
   "metadata": {},
   "outputs": [],
   "source": [
    "decennial_race = race_df(decennial_race)"
   ]
  },
  {
   "cell_type": "markdown",
   "metadata": {},
   "source": [
    "##### Ethnicity"
   ]
  },
  {
   "cell_type": "code",
   "execution_count": 5732,
   "metadata": {},
   "outputs": [
    {
     "data": {
      "text/html": [
       "<div>\n",
       "<style scoped>\n",
       "    .dataframe tbody tr th:only-of-type {\n",
       "        vertical-align: middle;\n",
       "    }\n",
       "\n",
       "    .dataframe tbody tr th {\n",
       "        vertical-align: top;\n",
       "    }\n",
       "\n",
       "    .dataframe thead th {\n",
       "        text-align: right;\n",
       "    }\n",
       "</style>\n",
       "<table border=\"1\" class=\"dataframe\">\n",
       "  <thead>\n",
       "    <tr style=\"text-align: right;\">\n",
       "      <th></th>\n",
       "      <th>Label (Grouping)</th>\n",
       "      <th>hierarchy</th>\n",
       "      <th>population_count</th>\n",
       "    </tr>\n",
       "  </thead>\n",
       "  <tbody>\n",
       "    <tr>\n",
       "      <th>100</th>\n",
       "      <td>Hispanic or Latino (of any race)</td>\n",
       "      <td>8</td>\n",
       "      <td>217409.0</td>\n",
       "    </tr>\n",
       "    <tr>\n",
       "      <th>101</th>\n",
       "      <td>Not Hispanic or Latino</td>\n",
       "      <td>8</td>\n",
       "      <td>844652.0</td>\n",
       "    </tr>\n",
       "    <tr>\n",
       "      <th>102</th>\n",
       "      <td>HISPANIC OR LATINO BY RACE</td>\n",
       "      <td>0</td>\n",
       "      <td>NaN</td>\n",
       "    </tr>\n",
       "  </tbody>\n",
       "</table>\n",
       "</div>"
      ],
      "text/plain": [
       "                     Label (Grouping)  hierarchy  population_count\n",
       "100  Hispanic or Latino (of any race)          8          217409.0\n",
       "101            Not Hispanic or Latino          8          844652.0\n",
       "102        HISPANIC OR LATINO BY RACE          0               NaN"
      ]
     },
     "execution_count": 5732,
     "metadata": {},
     "output_type": "execute_result"
    }
   ],
   "source": [
    "decennial_ethnicity"
   ]
  },
  {
   "cell_type": "markdown",
   "metadata": {},
   "source": [
    "Same as before, let's just keep records with hierarchy 8."
   ]
  },
  {
   "cell_type": "code",
   "execution_count": 5733,
   "metadata": {},
   "outputs": [],
   "source": [
    "def ethnicity_df(dataset):\n",
    "    return dataset[dataset['hierarchy'] == 8]"
   ]
  },
  {
   "cell_type": "code",
   "execution_count": 5734,
   "metadata": {},
   "outputs": [],
   "source": [
    "decennial_ethnicity = ethnicity_df(decennial_ethnicity)"
   ]
  },
  {
   "cell_type": "markdown",
   "metadata": {},
   "source": [
    "## The estimates"
   ]
  },
  {
   "cell_type": "code",
   "execution_count": 5735,
   "metadata": {},
   "outputs": [],
   "source": [
    "estimate_21 = pd.read_csv(\"us-census-data/estimates-21-22/ACSDP1Y2021.DP05-2024-08-02T230200.csv\")\n",
    "estimate_22 = pd.read_csv(\"us-census-data/estimates-21-22/ACSDP1Y2022.DP05-2024-08-02T230152.csv\")"
   ]
  },
  {
   "cell_type": "code",
   "execution_count": 5736,
   "metadata": {},
   "outputs": [
    {
     "name": "stdout",
     "output_type": "stream",
     "text": [
      "(94, 5)\n"
     ]
    },
    {
     "data": {
      "text/html": [
       "<div>\n",
       "<style scoped>\n",
       "    .dataframe tbody tr th:only-of-type {\n",
       "        vertical-align: middle;\n",
       "    }\n",
       "\n",
       "    .dataframe tbody tr th {\n",
       "        vertical-align: top;\n",
       "    }\n",
       "\n",
       "    .dataframe thead th {\n",
       "        text-align: right;\n",
       "    }\n",
       "</style>\n",
       "<table border=\"1\" class=\"dataframe\">\n",
       "  <thead>\n",
       "    <tr style=\"text-align: right;\">\n",
       "      <th></th>\n",
       "      <th>Label (Grouping)</th>\n",
       "      <th>Montgomery County, Maryland!!Estimate</th>\n",
       "      <th>Montgomery County, Maryland!!Margin of Error</th>\n",
       "      <th>Montgomery County, Maryland!!Percent</th>\n",
       "      <th>Montgomery County, Maryland!!Percent Margin of Error</th>\n",
       "    </tr>\n",
       "  </thead>\n",
       "  <tbody>\n",
       "    <tr>\n",
       "      <th>0</th>\n",
       "      <td>SEX AND AGE</td>\n",
       "      <td>NaN</td>\n",
       "      <td>NaN</td>\n",
       "      <td>NaN</td>\n",
       "      <td>NaN</td>\n",
       "    </tr>\n",
       "    <tr>\n",
       "      <th>1</th>\n",
       "      <td>Total population</td>\n",
       "      <td>1,054,827</td>\n",
       "      <td>*****</td>\n",
       "      <td>1,054,827</td>\n",
       "      <td>(X)</td>\n",
       "    </tr>\n",
       "    <tr>\n",
       "      <th>2</th>\n",
       "      <td>Male</td>\n",
       "      <td>513,427</td>\n",
       "      <td>±241</td>\n",
       "      <td>48.7%</td>\n",
       "      <td>±0.1</td>\n",
       "    </tr>\n",
       "    <tr>\n",
       "      <th>3</th>\n",
       "      <td>Female</td>\n",
       "      <td>541,400</td>\n",
       "      <td>±241</td>\n",
       "      <td>51.3%</td>\n",
       "      <td>±0.1</td>\n",
       "    </tr>\n",
       "    <tr>\n",
       "      <th>4</th>\n",
       "      <td>Sex ratio (males per 100 females)</td>\n",
       "      <td>94.8</td>\n",
       "      <td>±0.1</td>\n",
       "      <td>(X)</td>\n",
       "      <td>(X)</td>\n",
       "    </tr>\n",
       "  </tbody>\n",
       "</table>\n",
       "</div>"
      ],
      "text/plain": [
       "                            Label (Grouping)  \\\n",
       "0                                SEX AND AGE   \n",
       "1                           Total population   \n",
       "2                                       Male   \n",
       "3                                     Female   \n",
       "4          Sex ratio (males per 100 females)   \n",
       "\n",
       "  Montgomery County, Maryland!!Estimate  \\\n",
       "0                                   NaN   \n",
       "1                             1,054,827   \n",
       "2                               513,427   \n",
       "3                               541,400   \n",
       "4                                  94.8   \n",
       "\n",
       "  Montgomery County, Maryland!!Margin of Error  \\\n",
       "0                                          NaN   \n",
       "1                                        *****   \n",
       "2                                         ±241   \n",
       "3                                         ±241   \n",
       "4                                         ±0.1   \n",
       "\n",
       "  Montgomery County, Maryland!!Percent  \\\n",
       "0                                  NaN   \n",
       "1                            1,054,827   \n",
       "2                                48.7%   \n",
       "3                                51.3%   \n",
       "4                                  (X)   \n",
       "\n",
       "  Montgomery County, Maryland!!Percent Margin of Error  \n",
       "0                                                NaN    \n",
       "1                                                (X)    \n",
       "2                                               ±0.1    \n",
       "3                                               ±0.1    \n",
       "4                                                (X)    "
      ]
     },
     "execution_count": 5736,
     "metadata": {},
     "output_type": "execute_result"
    }
   ],
   "source": [
    "print(estimate_21.shape)\n",
    "estimate_21.head()"
   ]
  },
  {
   "cell_type": "code",
   "execution_count": 5737,
   "metadata": {},
   "outputs": [
    {
     "name": "stdout",
     "output_type": "stream",
     "text": [
      "(96, 5)\n"
     ]
    },
    {
     "data": {
      "text/html": [
       "<div>\n",
       "<style scoped>\n",
       "    .dataframe tbody tr th:only-of-type {\n",
       "        vertical-align: middle;\n",
       "    }\n",
       "\n",
       "    .dataframe tbody tr th {\n",
       "        vertical-align: top;\n",
       "    }\n",
       "\n",
       "    .dataframe thead th {\n",
       "        text-align: right;\n",
       "    }\n",
       "</style>\n",
       "<table border=\"1\" class=\"dataframe\">\n",
       "  <thead>\n",
       "    <tr style=\"text-align: right;\">\n",
       "      <th></th>\n",
       "      <th>Label (Grouping)</th>\n",
       "      <th>Montgomery County, Maryland!!Estimate</th>\n",
       "      <th>Montgomery County, Maryland!!Margin of Error</th>\n",
       "      <th>Montgomery County, Maryland!!Percent</th>\n",
       "      <th>Montgomery County, Maryland!!Percent Margin of Error</th>\n",
       "    </tr>\n",
       "  </thead>\n",
       "  <tbody>\n",
       "    <tr>\n",
       "      <th>0</th>\n",
       "      <td>SEX AND AGE</td>\n",
       "      <td>NaN</td>\n",
       "      <td>NaN</td>\n",
       "      <td>NaN</td>\n",
       "      <td>NaN</td>\n",
       "    </tr>\n",
       "    <tr>\n",
       "      <th>1</th>\n",
       "      <td>Total population</td>\n",
       "      <td>1,052,521</td>\n",
       "      <td>*****</td>\n",
       "      <td>1,052,521</td>\n",
       "      <td>(X)</td>\n",
       "    </tr>\n",
       "    <tr>\n",
       "      <th>2</th>\n",
       "      <td>Male</td>\n",
       "      <td>513,200</td>\n",
       "      <td>±335</td>\n",
       "      <td>48.8%</td>\n",
       "      <td>±0.1</td>\n",
       "    </tr>\n",
       "    <tr>\n",
       "      <th>3</th>\n",
       "      <td>Female</td>\n",
       "      <td>539,321</td>\n",
       "      <td>±335</td>\n",
       "      <td>51.2%</td>\n",
       "      <td>±0.1</td>\n",
       "    </tr>\n",
       "    <tr>\n",
       "      <th>4</th>\n",
       "      <td>Sex ratio (males per 100 females)</td>\n",
       "      <td>95.2</td>\n",
       "      <td>±0.1</td>\n",
       "      <td>(X)</td>\n",
       "      <td>(X)</td>\n",
       "    </tr>\n",
       "  </tbody>\n",
       "</table>\n",
       "</div>"
      ],
      "text/plain": [
       "                            Label (Grouping)  \\\n",
       "0                                SEX AND AGE   \n",
       "1                           Total population   \n",
       "2                                       Male   \n",
       "3                                     Female   \n",
       "4          Sex ratio (males per 100 females)   \n",
       "\n",
       "  Montgomery County, Maryland!!Estimate  \\\n",
       "0                                   NaN   \n",
       "1                             1,052,521   \n",
       "2                               513,200   \n",
       "3                               539,321   \n",
       "4                                  95.2   \n",
       "\n",
       "  Montgomery County, Maryland!!Margin of Error  \\\n",
       "0                                          NaN   \n",
       "1                                        *****   \n",
       "2                                         ±335   \n",
       "3                                         ±335   \n",
       "4                                         ±0.1   \n",
       "\n",
       "  Montgomery County, Maryland!!Percent  \\\n",
       "0                                  NaN   \n",
       "1                            1,052,521   \n",
       "2                                48.8%   \n",
       "3                                51.2%   \n",
       "4                                  (X)   \n",
       "\n",
       "  Montgomery County, Maryland!!Percent Margin of Error  \n",
       "0                                                NaN    \n",
       "1                                                (X)    \n",
       "2                                               ±0.1    \n",
       "3                                               ±0.1    \n",
       "4                                                (X)    "
      ]
     },
     "execution_count": 5737,
     "metadata": {},
     "output_type": "execute_result"
    }
   ],
   "source": [
    "print(estimate_22.shape)\n",
    "estimate_22.head()"
   ]
  },
  {
   "cell_type": "markdown",
   "metadata": {},
   "source": [
    "<i>(We'll go ahead and dismiss the margins of error, we're not going to be as detailed as to provide the margin of error for each category. We'll simply be careful to always refer to them as estimates, and to refer to the original US Census data for information about the margins of error of these estimates.)</i>\n"
   ]
  },
  {
   "cell_type": "markdown",
   "metadata": {},
   "source": [
    "### Estimate for 2021"
   ]
  },
  {
   "cell_type": "code",
   "execution_count": 5738,
   "metadata": {},
   "outputs": [
    {
     "data": {
      "text/plain": [
       "array([ 0,  4,  8, 12, 16])"
      ]
     },
     "execution_count": 5738,
     "metadata": {},
     "output_type": "execute_result"
    }
   ],
   "source": [
    "estimate_21['hierarchy'] = estimate_21['Label (Grouping)'].str.count('\\xa0')\n",
    "estimate_21['hierarchy'].unique()"
   ]
  },
  {
   "cell_type": "code",
   "execution_count": 5739,
   "metadata": {},
   "outputs": [],
   "source": [
    "estimate_21['population_count'] = fix_population_count_column(estimate_21['Montgomery County, Maryland!!Estimate'])\n",
    "#estimate_21['population_percentage'] = fix_population_percentage_column(estimate_21['Montgomery County, Maryland!!Percent'])\n",
    "estimate_21_total = extract_total_population(estimate_21, 'Label (Grouping)')"
   ]
  },
  {
   "cell_type": "code",
   "execution_count": 5740,
   "metadata": {},
   "outputs": [],
   "source": [
    "estimate_21['Label (Grouping)'] = estimate_21['Label (Grouping)'].apply(lambda string: string.replace(u'\\xa0', u''))"
   ]
  },
  {
   "cell_type": "code",
   "execution_count": 5741,
   "metadata": {},
   "outputs": [
    {
     "data": {
      "text/plain": [
       "0                                           SEX AND AGE\n",
       "33                                                 RACE\n",
       "64    Race alone or in combination with one or more ...\n",
       "72                          HISPANIC OR LATINO AND RACE\n",
       "89                                  Total housing units\n",
       "90                       CITIZEN, VOTING AGE POPULATION\n",
       "Name: Label (Grouping), dtype: object"
      ]
     },
     "execution_count": 5741,
     "metadata": {},
     "output_type": "execute_result"
    }
   ],
   "source": [
    "estimate_21.loc[estimate_21['hierarchy'] == 0, 'Label (Grouping)']"
   ]
  },
  {
   "cell_type": "code",
   "execution_count": 5742,
   "metadata": {},
   "outputs": [],
   "source": [
    "groups_of_interest = ['SEX AND AGE', 'RACE', 'HISPANIC OR LATINO AND RACE']\n",
    "\n",
    "sex_age_indices, race_indices, ethnicity_indices = extract_to_new_dfs(estimate_21, 'Label (Grouping)', groups_of_interest)\n",
    "#estimate_21 = estimate_21[['Label (Grouping)', 'hierarchy', 'population_count', 'population_percentage']]\n",
    "estimate_21 = estimate_21[['Label (Grouping)', 'hierarchy', 'population_count']]\n",
    "\n",
    "# we sum 2 to the start index to avoid the row with the group name and to avoid the row with the total population (since it appears every time)\n",
    "estimate_21_sex_age = estimate_21.loc[sex_age_indices[0]+2:sex_age_indices[1], :]\n",
    "estimate_21_race = estimate_21.loc[race_indices[0]+2:race_indices[1], :]\n",
    "estimate_21_ethnicity = estimate_21.loc[ethnicity_indices[0]+2:ethnicity_indices[1], :]"
   ]
  },
  {
   "cell_type": "code",
   "execution_count": 5743,
   "metadata": {},
   "outputs": [],
   "source": [
    "estimate_21_sex = estimate_21[2:4]\n",
    "estimate_21_age = estimate_21[5:18]\n",
    "estimate_21_race = estimate_21.iloc[38:59]\n",
    "estimate_21_race = estimate_21_race[estimate_21_race['hierarchy'] == 12]\n",
    "estimate_21_ethnicity = estimate_21_ethnicity[estimate_21_ethnicity['hierarchy'] == 8]"
   ]
  },
  {
   "cell_type": "markdown",
   "metadata": {},
   "source": [
    "### Estimate for 2022"
   ]
  },
  {
   "cell_type": "code",
   "execution_count": 5744,
   "metadata": {},
   "outputs": [
    {
     "data": {
      "text/plain": [
       "array([ 0,  4,  8, 12, 16])"
      ]
     },
     "execution_count": 5744,
     "metadata": {},
     "output_type": "execute_result"
    }
   ],
   "source": [
    "estimate_22['hierarchy'] = estimate_22['Label (Grouping)'].str.count('\\xa0')\n",
    "estimate_22['hierarchy'].unique()"
   ]
  },
  {
   "cell_type": "code",
   "execution_count": 5745,
   "metadata": {},
   "outputs": [],
   "source": [
    "estimate_22['population_count'] = fix_population_count_column(estimate_22['Montgomery County, Maryland!!Estimate'])\n",
    "#estimate_22['population_percentage'] = fix_population_percentage_column(estimate_22['Montgomery County, Maryland!!Percent'])\n",
    "estimate_22_total = extract_total_population(estimate_22, 'Label (Grouping)')"
   ]
  },
  {
   "cell_type": "code",
   "execution_count": 5746,
   "metadata": {},
   "outputs": [],
   "source": [
    "estimate_22['Label (Grouping)'] = estimate_22['Label (Grouping)'].apply(lambda string: string.replace(u'\\xa0', u''))"
   ]
  },
  {
   "cell_type": "code",
   "execution_count": 5747,
   "metadata": {},
   "outputs": [
    {
     "data": {
      "text/plain": [
       "0                                           SEX AND AGE\n",
       "33                                                 RACE\n",
       "66    Race alone or in combination with one or more ...\n",
       "74                          HISPANIC OR LATINO AND RACE\n",
       "91                                  Total housing units\n",
       "92                       CITIZEN, VOTING AGE POPULATION\n",
       "Name: Label (Grouping), dtype: object"
      ]
     },
     "execution_count": 5747,
     "metadata": {},
     "output_type": "execute_result"
    }
   ],
   "source": [
    "estimate_22.loc[estimate_22['hierarchy'] == 0, 'Label (Grouping)']"
   ]
  },
  {
   "cell_type": "code",
   "execution_count": 5748,
   "metadata": {},
   "outputs": [],
   "source": [
    "groups_of_interest = ['SEX AND AGE', 'RACE', 'HISPANIC OR LATINO AND RACE']\n",
    "\n",
    "sex_age_indices, race_indices, ethnicity_indices = extract_to_new_dfs(estimate_22, 'Label (Grouping)', groups_of_interest)\n",
    "#estimate_22 = estimate_22[['Label (Grouping)', 'hierarchy', 'population_count', 'population_percentage']]\n",
    "estimate_22 = estimate_22[['Label (Grouping)', 'hierarchy', 'population_count']]\n",
    "\n",
    "# we sum 2 to avoid the row with the group name and to avoid the row with the total population (since it appears every time)\n",
    "estimate_22_sex_age = estimate_22.loc[sex_age_indices[0]+2:sex_age_indices[1], :]\n",
    "estimate_22_race = estimate_22.loc[race_indices[0]+2:race_indices[1], :]\n",
    "# we don't sum 2 here since this one is different\n",
    "estimate_22_ethnicity = estimate_22.loc[ethnicity_indices[0]:ethnicity_indices[1], :]"
   ]
  },
  {
   "cell_type": "code",
   "execution_count": 5749,
   "metadata": {},
   "outputs": [],
   "source": [
    "estimate_22_sex = estimate_22[2:4]\n",
    "estimate_22_age = estimate_22[5:18]\n",
    "estimate_22_race = estimate_22[38:59]\n",
    "estimate_22_race = estimate_22_race[estimate_22_race['hierarchy'] == 12]\n",
    "estimate_22_ethnicity = estimate_22_ethnicity[estimate_22_ethnicity['hierarchy'] == 8]"
   ]
  },
  {
   "cell_type": "markdown",
   "metadata": {},
   "source": [
    "### Polishing up the dataframes for demographic information"
   ]
  },
  {
   "cell_type": "markdown",
   "metadata": {},
   "source": [
    "The resulting dataframes are as follows:"
   ]
  },
  {
   "cell_type": "code",
   "execution_count": 5750,
   "metadata": {},
   "outputs": [
    {
     "name": "stdout",
     "output_type": "stream",
     "text": [
      "1062061.0\n"
     ]
    },
    {
     "data": {
      "text/html": [
       "<div>\n",
       "<style scoped>\n",
       "    .dataframe tbody tr th:only-of-type {\n",
       "        vertical-align: middle;\n",
       "    }\n",
       "\n",
       "    .dataframe tbody tr th {\n",
       "        vertical-align: top;\n",
       "    }\n",
       "\n",
       "    .dataframe thead th {\n",
       "        text-align: right;\n",
       "    }\n",
       "</style>\n",
       "<table border=\"1\" class=\"dataframe\">\n",
       "  <thead>\n",
       "    <tr style=\"text-align: right;\">\n",
       "      <th></th>\n",
       "      <th>Label (Grouping)</th>\n",
       "      <th>hierarchy</th>\n",
       "      <th>population_count</th>\n",
       "    </tr>\n",
       "  </thead>\n",
       "  <tbody>\n",
       "    <tr>\n",
       "      <th>26</th>\n",
       "      <td>Male population</td>\n",
       "      <td>4</td>\n",
       "      <td>509117.0</td>\n",
       "    </tr>\n",
       "    <tr>\n",
       "      <th>51</th>\n",
       "      <td>Female population</td>\n",
       "      <td>4</td>\n",
       "      <td>552944.0</td>\n",
       "    </tr>\n",
       "  </tbody>\n",
       "</table>\n",
       "</div>"
      ],
      "text/plain": [
       "     Label (Grouping)  hierarchy  population_count\n",
       "26    Male population          4          509117.0\n",
       "51  Female population          4          552944.0"
      ]
     },
     "metadata": {},
     "output_type": "display_data"
    },
    {
     "data": {
      "text/html": [
       "<div>\n",
       "<style scoped>\n",
       "    .dataframe tbody tr th:only-of-type {\n",
       "        vertical-align: middle;\n",
       "    }\n",
       "\n",
       "    .dataframe tbody tr th {\n",
       "        vertical-align: top;\n",
       "    }\n",
       "\n",
       "    .dataframe thead th {\n",
       "        text-align: right;\n",
       "    }\n",
       "</style>\n",
       "<table border=\"1\" class=\"dataframe\">\n",
       "  <thead>\n",
       "    <tr style=\"text-align: right;\">\n",
       "      <th></th>\n",
       "      <th>Label (Grouping)</th>\n",
       "      <th>hierarchy</th>\n",
       "      <th>population_count</th>\n",
       "    </tr>\n",
       "  </thead>\n",
       "  <tbody>\n",
       "    <tr>\n",
       "      <th>2</th>\n",
       "      <td>Under 5 years</td>\n",
       "      <td>8</td>\n",
       "      <td>59726.0</td>\n",
       "    </tr>\n",
       "    <tr>\n",
       "      <th>3</th>\n",
       "      <td>5 to 9 years</td>\n",
       "      <td>8</td>\n",
       "      <td>66704.0</td>\n",
       "    </tr>\n",
       "    <tr>\n",
       "      <th>4</th>\n",
       "      <td>10 to 14 years</td>\n",
       "      <td>8</td>\n",
       "      <td>72492.0</td>\n",
       "    </tr>\n",
       "    <tr>\n",
       "      <th>5</th>\n",
       "      <td>15 to 19 years</td>\n",
       "      <td>8</td>\n",
       "      <td>67985.0</td>\n",
       "    </tr>\n",
       "    <tr>\n",
       "      <th>6</th>\n",
       "      <td>20 to 24 years</td>\n",
       "      <td>8</td>\n",
       "      <td>61027.0</td>\n",
       "    </tr>\n",
       "    <tr>\n",
       "      <th>7</th>\n",
       "      <td>25 to 29 years</td>\n",
       "      <td>8</td>\n",
       "      <td>64492.0</td>\n",
       "    </tr>\n",
       "    <tr>\n",
       "      <th>8</th>\n",
       "      <td>30 to 34 years</td>\n",
       "      <td>8</td>\n",
       "      <td>71010.0</td>\n",
       "    </tr>\n",
       "    <tr>\n",
       "      <th>9</th>\n",
       "      <td>35 to 39 years</td>\n",
       "      <td>8</td>\n",
       "      <td>74903.0</td>\n",
       "    </tr>\n",
       "    <tr>\n",
       "      <th>10</th>\n",
       "      <td>40 to 44 years</td>\n",
       "      <td>8</td>\n",
       "      <td>71909.0</td>\n",
       "    </tr>\n",
       "    <tr>\n",
       "      <th>11</th>\n",
       "      <td>45 to 49 years</td>\n",
       "      <td>8</td>\n",
       "      <td>70756.0</td>\n",
       "    </tr>\n",
       "    <tr>\n",
       "      <th>12</th>\n",
       "      <td>50 to 54 years</td>\n",
       "      <td>8</td>\n",
       "      <td>71443.0</td>\n",
       "    </tr>\n",
       "    <tr>\n",
       "      <th>13</th>\n",
       "      <td>55 to 59 years</td>\n",
       "      <td>8</td>\n",
       "      <td>72873.0</td>\n",
       "    </tr>\n",
       "    <tr>\n",
       "      <th>14</th>\n",
       "      <td>60 to 64 years</td>\n",
       "      <td>8</td>\n",
       "      <td>66895.0</td>\n",
       "    </tr>\n",
       "    <tr>\n",
       "      <th>15</th>\n",
       "      <td>65 to 69 years</td>\n",
       "      <td>8</td>\n",
       "      <td>55773.0</td>\n",
       "    </tr>\n",
       "    <tr>\n",
       "      <th>16</th>\n",
       "      <td>70 to 74 years</td>\n",
       "      <td>8</td>\n",
       "      <td>43384.0</td>\n",
       "    </tr>\n",
       "    <tr>\n",
       "      <th>17</th>\n",
       "      <td>75 to 79 years</td>\n",
       "      <td>8</td>\n",
       "      <td>29756.0</td>\n",
       "    </tr>\n",
       "    <tr>\n",
       "      <th>18</th>\n",
       "      <td>80 to 84 years</td>\n",
       "      <td>8</td>\n",
       "      <td>19279.0</td>\n",
       "    </tr>\n",
       "    <tr>\n",
       "      <th>19</th>\n",
       "      <td>85 years and over</td>\n",
       "      <td>8</td>\n",
       "      <td>21654.0</td>\n",
       "    </tr>\n",
       "  </tbody>\n",
       "</table>\n",
       "</div>"
      ],
      "text/plain": [
       "     Label (Grouping)  hierarchy  population_count\n",
       "2       Under 5 years          8           59726.0\n",
       "3        5 to 9 years          8           66704.0\n",
       "4      10 to 14 years          8           72492.0\n",
       "5      15 to 19 years          8           67985.0\n",
       "6      20 to 24 years          8           61027.0\n",
       "7      25 to 29 years          8           64492.0\n",
       "8      30 to 34 years          8           71010.0\n",
       "9      35 to 39 years          8           74903.0\n",
       "10     40 to 44 years          8           71909.0\n",
       "11     45 to 49 years          8           70756.0\n",
       "12     50 to 54 years          8           71443.0\n",
       "13     55 to 59 years          8           72873.0\n",
       "14     60 to 64 years          8           66895.0\n",
       "15     65 to 69 years          8           55773.0\n",
       "16     70 to 74 years          8           43384.0\n",
       "17     75 to 79 years          8           29756.0\n",
       "18     80 to 84 years          8           19279.0\n",
       "19  85 years and over          8           21654.0"
      ]
     },
     "metadata": {},
     "output_type": "display_data"
    },
    {
     "data": {
      "text/html": [
       "<div>\n",
       "<style scoped>\n",
       "    .dataframe tbody tr th:only-of-type {\n",
       "        vertical-align: middle;\n",
       "    }\n",
       "\n",
       "    .dataframe tbody tr th {\n",
       "        vertical-align: top;\n",
       "    }\n",
       "\n",
       "    .dataframe thead th {\n",
       "        text-align: right;\n",
       "    }\n",
       "</style>\n",
       "<table border=\"1\" class=\"dataframe\">\n",
       "  <thead>\n",
       "    <tr style=\"text-align: right;\">\n",
       "      <th></th>\n",
       "      <th>Label (Grouping)</th>\n",
       "      <th>hierarchy</th>\n",
       "      <th>population_count</th>\n",
       "    </tr>\n",
       "  </thead>\n",
       "  <tbody>\n",
       "    <tr>\n",
       "      <th>83</th>\n",
       "      <td>White</td>\n",
       "      <td>12</td>\n",
       "      <td>457783.0</td>\n",
       "    </tr>\n",
       "    <tr>\n",
       "      <th>84</th>\n",
       "      <td>Black or African American</td>\n",
       "      <td>12</td>\n",
       "      <td>197077.0</td>\n",
       "    </tr>\n",
       "    <tr>\n",
       "      <th>85</th>\n",
       "      <td>American Indian and Alaska Native</td>\n",
       "      <td>12</td>\n",
       "      <td>7036.0</td>\n",
       "    </tr>\n",
       "    <tr>\n",
       "      <th>86</th>\n",
       "      <td>Asian</td>\n",
       "      <td>12</td>\n",
       "      <td>163507.0</td>\n",
       "    </tr>\n",
       "    <tr>\n",
       "      <th>87</th>\n",
       "      <td>Native Hawaiian and Other Pacific Islander</td>\n",
       "      <td>12</td>\n",
       "      <td>610.0</td>\n",
       "    </tr>\n",
       "    <tr>\n",
       "      <th>88</th>\n",
       "      <td>Some Other Race</td>\n",
       "      <td>12</td>\n",
       "      <td>116786.0</td>\n",
       "    </tr>\n",
       "  </tbody>\n",
       "</table>\n",
       "</div>"
      ],
      "text/plain": [
       "                              Label (Grouping)  hierarchy  population_count\n",
       "83                                       White         12          457783.0\n",
       "84                   Black or African American         12          197077.0\n",
       "85           American Indian and Alaska Native         12            7036.0\n",
       "86                                       Asian         12          163507.0\n",
       "87  Native Hawaiian and Other Pacific Islander         12             610.0\n",
       "88                             Some Other Race         12          116786.0"
      ]
     },
     "metadata": {},
     "output_type": "display_data"
    },
    {
     "data": {
      "text/html": [
       "<div>\n",
       "<style scoped>\n",
       "    .dataframe tbody tr th:only-of-type {\n",
       "        vertical-align: middle;\n",
       "    }\n",
       "\n",
       "    .dataframe tbody tr th {\n",
       "        vertical-align: top;\n",
       "    }\n",
       "\n",
       "    .dataframe thead th {\n",
       "        text-align: right;\n",
       "    }\n",
       "</style>\n",
       "<table border=\"1\" class=\"dataframe\">\n",
       "  <thead>\n",
       "    <tr style=\"text-align: right;\">\n",
       "      <th></th>\n",
       "      <th>Label (Grouping)</th>\n",
       "      <th>hierarchy</th>\n",
       "      <th>population_count</th>\n",
       "    </tr>\n",
       "  </thead>\n",
       "  <tbody>\n",
       "    <tr>\n",
       "      <th>100</th>\n",
       "      <td>Hispanic or Latino (of any race)</td>\n",
       "      <td>8</td>\n",
       "      <td>217409.0</td>\n",
       "    </tr>\n",
       "    <tr>\n",
       "      <th>101</th>\n",
       "      <td>Not Hispanic or Latino</td>\n",
       "      <td>8</td>\n",
       "      <td>844652.0</td>\n",
       "    </tr>\n",
       "  </tbody>\n",
       "</table>\n",
       "</div>"
      ],
      "text/plain": [
       "                     Label (Grouping)  hierarchy  population_count\n",
       "100  Hispanic or Latino (of any race)          8          217409.0\n",
       "101            Not Hispanic or Latino          8          844652.0"
      ]
     },
     "metadata": {},
     "output_type": "display_data"
    }
   ],
   "source": [
    "print(decennial_total)\n",
    "display(decennial_sex, decennial_age, decennial_race, decennial_ethnicity)"
   ]
  },
  {
   "cell_type": "code",
   "execution_count": 5751,
   "metadata": {},
   "outputs": [
    {
     "name": "stdout",
     "output_type": "stream",
     "text": [
      "1054827.0\n"
     ]
    },
    {
     "data": {
      "text/html": [
       "<div>\n",
       "<style scoped>\n",
       "    .dataframe tbody tr th:only-of-type {\n",
       "        vertical-align: middle;\n",
       "    }\n",
       "\n",
       "    .dataframe tbody tr th {\n",
       "        vertical-align: top;\n",
       "    }\n",
       "\n",
       "    .dataframe thead th {\n",
       "        text-align: right;\n",
       "    }\n",
       "</style>\n",
       "<table border=\"1\" class=\"dataframe\">\n",
       "  <thead>\n",
       "    <tr style=\"text-align: right;\">\n",
       "      <th></th>\n",
       "      <th>Label (Grouping)</th>\n",
       "      <th>hierarchy</th>\n",
       "      <th>population_count</th>\n",
       "    </tr>\n",
       "  </thead>\n",
       "  <tbody>\n",
       "    <tr>\n",
       "      <th>2</th>\n",
       "      <td>Male</td>\n",
       "      <td>8</td>\n",
       "      <td>513427.0</td>\n",
       "    </tr>\n",
       "    <tr>\n",
       "      <th>3</th>\n",
       "      <td>Female</td>\n",
       "      <td>8</td>\n",
       "      <td>541400.0</td>\n",
       "    </tr>\n",
       "  </tbody>\n",
       "</table>\n",
       "</div>"
      ],
      "text/plain": [
       "  Label (Grouping)  hierarchy  population_count\n",
       "2             Male          8          513427.0\n",
       "3           Female          8          541400.0"
      ]
     },
     "metadata": {},
     "output_type": "display_data"
    },
    {
     "data": {
      "text/html": [
       "<div>\n",
       "<style scoped>\n",
       "    .dataframe tbody tr th:only-of-type {\n",
       "        vertical-align: middle;\n",
       "    }\n",
       "\n",
       "    .dataframe tbody tr th {\n",
       "        vertical-align: top;\n",
       "    }\n",
       "\n",
       "    .dataframe thead th {\n",
       "        text-align: right;\n",
       "    }\n",
       "</style>\n",
       "<table border=\"1\" class=\"dataframe\">\n",
       "  <thead>\n",
       "    <tr style=\"text-align: right;\">\n",
       "      <th></th>\n",
       "      <th>Label (Grouping)</th>\n",
       "      <th>hierarchy</th>\n",
       "      <th>population_count</th>\n",
       "    </tr>\n",
       "  </thead>\n",
       "  <tbody>\n",
       "    <tr>\n",
       "      <th>5</th>\n",
       "      <td>Under 5 years</td>\n",
       "      <td>8</td>\n",
       "      <td>60997.0</td>\n",
       "    </tr>\n",
       "    <tr>\n",
       "      <th>6</th>\n",
       "      <td>5 to 9 years</td>\n",
       "      <td>8</td>\n",
       "      <td>64875.0</td>\n",
       "    </tr>\n",
       "    <tr>\n",
       "      <th>7</th>\n",
       "      <td>10 to 14 years</td>\n",
       "      <td>8</td>\n",
       "      <td>72184.0</td>\n",
       "    </tr>\n",
       "    <tr>\n",
       "      <th>8</th>\n",
       "      <td>15 to 19 years</td>\n",
       "      <td>8</td>\n",
       "      <td>66083.0</td>\n",
       "    </tr>\n",
       "    <tr>\n",
       "      <th>9</th>\n",
       "      <td>20 to 24 years</td>\n",
       "      <td>8</td>\n",
       "      <td>58029.0</td>\n",
       "    </tr>\n",
       "    <tr>\n",
       "      <th>10</th>\n",
       "      <td>25 to 34 years</td>\n",
       "      <td>8</td>\n",
       "      <td>127604.0</td>\n",
       "    </tr>\n",
       "    <tr>\n",
       "      <th>11</th>\n",
       "      <td>35 to 44 years</td>\n",
       "      <td>8</td>\n",
       "      <td>147207.0</td>\n",
       "    </tr>\n",
       "    <tr>\n",
       "      <th>12</th>\n",
       "      <td>45 to 54 years</td>\n",
       "      <td>8</td>\n",
       "      <td>143226.0</td>\n",
       "    </tr>\n",
       "    <tr>\n",
       "      <th>13</th>\n",
       "      <td>55 to 59 years</td>\n",
       "      <td>8</td>\n",
       "      <td>69640.0</td>\n",
       "    </tr>\n",
       "    <tr>\n",
       "      <th>14</th>\n",
       "      <td>60 to 64 years</td>\n",
       "      <td>8</td>\n",
       "      <td>70040.0</td>\n",
       "    </tr>\n",
       "    <tr>\n",
       "      <th>15</th>\n",
       "      <td>65 to 74 years</td>\n",
       "      <td>8</td>\n",
       "      <td>101462.0</td>\n",
       "    </tr>\n",
       "    <tr>\n",
       "      <th>16</th>\n",
       "      <td>75 to 84 years</td>\n",
       "      <td>8</td>\n",
       "      <td>54559.0</td>\n",
       "    </tr>\n",
       "    <tr>\n",
       "      <th>17</th>\n",
       "      <td>85 years and over</td>\n",
       "      <td>8</td>\n",
       "      <td>18921.0</td>\n",
       "    </tr>\n",
       "  </tbody>\n",
       "</table>\n",
       "</div>"
      ],
      "text/plain": [
       "     Label (Grouping)  hierarchy  population_count\n",
       "5       Under 5 years          8           60997.0\n",
       "6        5 to 9 years          8           64875.0\n",
       "7      10 to 14 years          8           72184.0\n",
       "8      15 to 19 years          8           66083.0\n",
       "9      20 to 24 years          8           58029.0\n",
       "10     25 to 34 years          8          127604.0\n",
       "11     35 to 44 years          8          147207.0\n",
       "12     45 to 54 years          8          143226.0\n",
       "13     55 to 59 years          8           69640.0\n",
       "14     60 to 64 years          8           70040.0\n",
       "15     65 to 74 years          8          101462.0\n",
       "16     75 to 84 years          8           54559.0\n",
       "17  85 years and over          8           18921.0"
      ]
     },
     "metadata": {},
     "output_type": "display_data"
    },
    {
     "data": {
      "text/html": [
       "<div>\n",
       "<style scoped>\n",
       "    .dataframe tbody tr th:only-of-type {\n",
       "        vertical-align: middle;\n",
       "    }\n",
       "\n",
       "    .dataframe tbody tr th {\n",
       "        vertical-align: top;\n",
       "    }\n",
       "\n",
       "    .dataframe thead th {\n",
       "        text-align: right;\n",
       "    }\n",
       "</style>\n",
       "<table border=\"1\" class=\"dataframe\">\n",
       "  <thead>\n",
       "    <tr style=\"text-align: right;\">\n",
       "      <th></th>\n",
       "      <th>Label (Grouping)</th>\n",
       "      <th>hierarchy</th>\n",
       "      <th>population_count</th>\n",
       "    </tr>\n",
       "  </thead>\n",
       "  <tbody>\n",
       "    <tr>\n",
       "      <th>38</th>\n",
       "      <td>White</td>\n",
       "      <td>12</td>\n",
       "      <td>444151.0</td>\n",
       "    </tr>\n",
       "    <tr>\n",
       "      <th>39</th>\n",
       "      <td>Black or African American</td>\n",
       "      <td>12</td>\n",
       "      <td>198493.0</td>\n",
       "    </tr>\n",
       "    <tr>\n",
       "      <th>40</th>\n",
       "      <td>American Indian and Alaska Native</td>\n",
       "      <td>12</td>\n",
       "      <td>5410.0</td>\n",
       "    </tr>\n",
       "    <tr>\n",
       "      <th>45</th>\n",
       "      <td>Asian</td>\n",
       "      <td>12</td>\n",
       "      <td>164340.0</td>\n",
       "    </tr>\n",
       "    <tr>\n",
       "      <th>53</th>\n",
       "      <td>Native Hawaiian and Other Pacific Islander</td>\n",
       "      <td>12</td>\n",
       "      <td>0.0</td>\n",
       "    </tr>\n",
       "    <tr>\n",
       "      <th>58</th>\n",
       "      <td>Some other race</td>\n",
       "      <td>12</td>\n",
       "      <td>130625.0</td>\n",
       "    </tr>\n",
       "  </tbody>\n",
       "</table>\n",
       "</div>"
      ],
      "text/plain": [
       "                              Label (Grouping)  hierarchy  population_count\n",
       "38                                       White         12          444151.0\n",
       "39                   Black or African American         12          198493.0\n",
       "40           American Indian and Alaska Native         12            5410.0\n",
       "45                                       Asian         12          164340.0\n",
       "53  Native Hawaiian and Other Pacific Islander         12               0.0\n",
       "58                             Some other race         12          130625.0"
      ]
     },
     "metadata": {},
     "output_type": "display_data"
    },
    {
     "data": {
      "text/html": [
       "<div>\n",
       "<style scoped>\n",
       "    .dataframe tbody tr th:only-of-type {\n",
       "        vertical-align: middle;\n",
       "    }\n",
       "\n",
       "    .dataframe tbody tr th {\n",
       "        vertical-align: top;\n",
       "    }\n",
       "\n",
       "    .dataframe thead th {\n",
       "        text-align: right;\n",
       "    }\n",
       "</style>\n",
       "<table border=\"1\" class=\"dataframe\">\n",
       "  <thead>\n",
       "    <tr style=\"text-align: right;\">\n",
       "      <th></th>\n",
       "      <th>Label (Grouping)</th>\n",
       "      <th>hierarchy</th>\n",
       "      <th>population_count</th>\n",
       "    </tr>\n",
       "  </thead>\n",
       "  <tbody>\n",
       "    <tr>\n",
       "      <th>74</th>\n",
       "      <td>Hispanic or Latino (of any race)</td>\n",
       "      <td>8</td>\n",
       "      <td>211512.0</td>\n",
       "    </tr>\n",
       "    <tr>\n",
       "      <th>79</th>\n",
       "      <td>Not Hispanic or Latino</td>\n",
       "      <td>8</td>\n",
       "      <td>843315.0</td>\n",
       "    </tr>\n",
       "  </tbody>\n",
       "</table>\n",
       "</div>"
      ],
      "text/plain": [
       "                    Label (Grouping)  hierarchy  population_count\n",
       "74  Hispanic or Latino (of any race)          8          211512.0\n",
       "79            Not Hispanic or Latino          8          843315.0"
      ]
     },
     "metadata": {},
     "output_type": "display_data"
    }
   ],
   "source": [
    "print(estimate_21_total)\n",
    "display(estimate_21_sex, estimate_21_age, estimate_21_race, estimate_21_ethnicity)"
   ]
  },
  {
   "cell_type": "code",
   "execution_count": 5752,
   "metadata": {},
   "outputs": [
    {
     "name": "stdout",
     "output_type": "stream",
     "text": [
      "1052521.0\n"
     ]
    },
    {
     "data": {
      "text/html": [
       "<div>\n",
       "<style scoped>\n",
       "    .dataframe tbody tr th:only-of-type {\n",
       "        vertical-align: middle;\n",
       "    }\n",
       "\n",
       "    .dataframe tbody tr th {\n",
       "        vertical-align: top;\n",
       "    }\n",
       "\n",
       "    .dataframe thead th {\n",
       "        text-align: right;\n",
       "    }\n",
       "</style>\n",
       "<table border=\"1\" class=\"dataframe\">\n",
       "  <thead>\n",
       "    <tr style=\"text-align: right;\">\n",
       "      <th></th>\n",
       "      <th>Label (Grouping)</th>\n",
       "      <th>hierarchy</th>\n",
       "      <th>population_count</th>\n",
       "    </tr>\n",
       "  </thead>\n",
       "  <tbody>\n",
       "    <tr>\n",
       "      <th>2</th>\n",
       "      <td>Male</td>\n",
       "      <td>8</td>\n",
       "      <td>513200.0</td>\n",
       "    </tr>\n",
       "    <tr>\n",
       "      <th>3</th>\n",
       "      <td>Female</td>\n",
       "      <td>8</td>\n",
       "      <td>539321.0</td>\n",
       "    </tr>\n",
       "  </tbody>\n",
       "</table>\n",
       "</div>"
      ],
      "text/plain": [
       "  Label (Grouping)  hierarchy  population_count\n",
       "2             Male          8          513200.0\n",
       "3           Female          8          539321.0"
      ]
     },
     "metadata": {},
     "output_type": "display_data"
    },
    {
     "data": {
      "text/html": [
       "<div>\n",
       "<style scoped>\n",
       "    .dataframe tbody tr th:only-of-type {\n",
       "        vertical-align: middle;\n",
       "    }\n",
       "\n",
       "    .dataframe tbody tr th {\n",
       "        vertical-align: top;\n",
       "    }\n",
       "\n",
       "    .dataframe thead th {\n",
       "        text-align: right;\n",
       "    }\n",
       "</style>\n",
       "<table border=\"1\" class=\"dataframe\">\n",
       "  <thead>\n",
       "    <tr style=\"text-align: right;\">\n",
       "      <th></th>\n",
       "      <th>Label (Grouping)</th>\n",
       "      <th>hierarchy</th>\n",
       "      <th>population_count</th>\n",
       "    </tr>\n",
       "  </thead>\n",
       "  <tbody>\n",
       "    <tr>\n",
       "      <th>5</th>\n",
       "      <td>Under 5 years</td>\n",
       "      <td>8</td>\n",
       "      <td>59728.0</td>\n",
       "    </tr>\n",
       "    <tr>\n",
       "      <th>6</th>\n",
       "      <td>5 to 9 years</td>\n",
       "      <td>8</td>\n",
       "      <td>67753.0</td>\n",
       "    </tr>\n",
       "    <tr>\n",
       "      <th>7</th>\n",
       "      <td>10 to 14 years</td>\n",
       "      <td>8</td>\n",
       "      <td>66527.0</td>\n",
       "    </tr>\n",
       "    <tr>\n",
       "      <th>8</th>\n",
       "      <td>15 to 19 years</td>\n",
       "      <td>8</td>\n",
       "      <td>65522.0</td>\n",
       "    </tr>\n",
       "    <tr>\n",
       "      <th>9</th>\n",
       "      <td>20 to 24 years</td>\n",
       "      <td>8</td>\n",
       "      <td>61333.0</td>\n",
       "    </tr>\n",
       "    <tr>\n",
       "      <th>10</th>\n",
       "      <td>25 to 34 years</td>\n",
       "      <td>8</td>\n",
       "      <td>124896.0</td>\n",
       "    </tr>\n",
       "    <tr>\n",
       "      <th>11</th>\n",
       "      <td>35 to 44 years</td>\n",
       "      <td>8</td>\n",
       "      <td>146635.0</td>\n",
       "    </tr>\n",
       "    <tr>\n",
       "      <th>12</th>\n",
       "      <td>45 to 54 years</td>\n",
       "      <td>8</td>\n",
       "      <td>141721.0</td>\n",
       "    </tr>\n",
       "    <tr>\n",
       "      <th>13</th>\n",
       "      <td>55 to 59 years</td>\n",
       "      <td>8</td>\n",
       "      <td>71499.0</td>\n",
       "    </tr>\n",
       "    <tr>\n",
       "      <th>14</th>\n",
       "      <td>60 to 64 years</td>\n",
       "      <td>8</td>\n",
       "      <td>65573.0</td>\n",
       "    </tr>\n",
       "    <tr>\n",
       "      <th>15</th>\n",
       "      <td>65 to 74 years</td>\n",
       "      <td>8</td>\n",
       "      <td>101898.0</td>\n",
       "    </tr>\n",
       "    <tr>\n",
       "      <th>16</th>\n",
       "      <td>75 to 84 years</td>\n",
       "      <td>8</td>\n",
       "      <td>55952.0</td>\n",
       "    </tr>\n",
       "    <tr>\n",
       "      <th>17</th>\n",
       "      <td>85 years and over</td>\n",
       "      <td>8</td>\n",
       "      <td>23484.0</td>\n",
       "    </tr>\n",
       "  </tbody>\n",
       "</table>\n",
       "</div>"
      ],
      "text/plain": [
       "     Label (Grouping)  hierarchy  population_count\n",
       "5       Under 5 years          8           59728.0\n",
       "6        5 to 9 years          8           67753.0\n",
       "7      10 to 14 years          8           66527.0\n",
       "8      15 to 19 years          8           65522.0\n",
       "9      20 to 24 years          8           61333.0\n",
       "10     25 to 34 years          8          124896.0\n",
       "11     35 to 44 years          8          146635.0\n",
       "12     45 to 54 years          8          141721.0\n",
       "13     55 to 59 years          8           71499.0\n",
       "14     60 to 64 years          8           65573.0\n",
       "15     65 to 74 years          8          101898.0\n",
       "16     75 to 84 years          8           55952.0\n",
       "17  85 years and over          8           23484.0"
      ]
     },
     "metadata": {},
     "output_type": "display_data"
    },
    {
     "data": {
      "text/html": [
       "<div>\n",
       "<style scoped>\n",
       "    .dataframe tbody tr th:only-of-type {\n",
       "        vertical-align: middle;\n",
       "    }\n",
       "\n",
       "    .dataframe tbody tr th {\n",
       "        vertical-align: top;\n",
       "    }\n",
       "\n",
       "    .dataframe thead th {\n",
       "        text-align: right;\n",
       "    }\n",
       "</style>\n",
       "<table border=\"1\" class=\"dataframe\">\n",
       "  <thead>\n",
       "    <tr style=\"text-align: right;\">\n",
       "      <th></th>\n",
       "      <th>Label (Grouping)</th>\n",
       "      <th>hierarchy</th>\n",
       "      <th>population_count</th>\n",
       "    </tr>\n",
       "  </thead>\n",
       "  <tbody>\n",
       "    <tr>\n",
       "      <th>38</th>\n",
       "      <td>White</td>\n",
       "      <td>12</td>\n",
       "      <td>444783.0</td>\n",
       "    </tr>\n",
       "    <tr>\n",
       "      <th>39</th>\n",
       "      <td>Black or African American</td>\n",
       "      <td>12</td>\n",
       "      <td>194776.0</td>\n",
       "    </tr>\n",
       "    <tr>\n",
       "      <th>40</th>\n",
       "      <td>American Indian and Alaska Native</td>\n",
       "      <td>12</td>\n",
       "      <td>5561.0</td>\n",
       "    </tr>\n",
       "    <tr>\n",
       "      <th>45</th>\n",
       "      <td>Asian</td>\n",
       "      <td>12</td>\n",
       "      <td>161770.0</td>\n",
       "    </tr>\n",
       "    <tr>\n",
       "      <th>53</th>\n",
       "      <td>Native Hawaiian and Other Pacific Islander</td>\n",
       "      <td>12</td>\n",
       "      <td>260.0</td>\n",
       "    </tr>\n",
       "    <tr>\n",
       "      <th>58</th>\n",
       "      <td>Some Other Race</td>\n",
       "      <td>12</td>\n",
       "      <td>131129.0</td>\n",
       "    </tr>\n",
       "  </tbody>\n",
       "</table>\n",
       "</div>"
      ],
      "text/plain": [
       "                              Label (Grouping)  hierarchy  population_count\n",
       "38                                       White         12          444783.0\n",
       "39                   Black or African American         12          194776.0\n",
       "40           American Indian and Alaska Native         12            5561.0\n",
       "45                                       Asian         12          161770.0\n",
       "53  Native Hawaiian and Other Pacific Islander         12             260.0\n",
       "58                             Some Other Race         12          131129.0"
      ]
     },
     "metadata": {},
     "output_type": "display_data"
    },
    {
     "data": {
      "text/html": [
       "<div>\n",
       "<style scoped>\n",
       "    .dataframe tbody tr th:only-of-type {\n",
       "        vertical-align: middle;\n",
       "    }\n",
       "\n",
       "    .dataframe tbody tr th {\n",
       "        vertical-align: top;\n",
       "    }\n",
       "\n",
       "    .dataframe thead th {\n",
       "        text-align: right;\n",
       "    }\n",
       "</style>\n",
       "<table border=\"1\" class=\"dataframe\">\n",
       "  <thead>\n",
       "    <tr style=\"text-align: right;\">\n",
       "      <th></th>\n",
       "      <th>Label (Grouping)</th>\n",
       "      <th>hierarchy</th>\n",
       "      <th>population_count</th>\n",
       "    </tr>\n",
       "  </thead>\n",
       "  <tbody>\n",
       "    <tr>\n",
       "      <th>76</th>\n",
       "      <td>Hispanic or Latino (of any race)</td>\n",
       "      <td>8</td>\n",
       "      <td>213926.0</td>\n",
       "    </tr>\n",
       "    <tr>\n",
       "      <th>81</th>\n",
       "      <td>Not Hispanic or Latino</td>\n",
       "      <td>8</td>\n",
       "      <td>838595.0</td>\n",
       "    </tr>\n",
       "  </tbody>\n",
       "</table>\n",
       "</div>"
      ],
      "text/plain": [
       "                    Label (Grouping)  hierarchy  population_count\n",
       "76  Hispanic or Latino (of any race)          8          213926.0\n",
       "81            Not Hispanic or Latino          8          838595.0"
      ]
     },
     "metadata": {},
     "output_type": "display_data"
    }
   ],
   "source": [
    "print(estimate_22_total)\n",
    "display(estimate_22_sex, estimate_22_age, estimate_22_race, estimate_22_ethnicity)"
   ]
  },
  {
   "cell_type": "markdown",
   "metadata": {},
   "source": [
    "To polish up our dataframes, let's reset the index, make sure all of the categories have the same string for names, and erase the hierarchy columns since we don't need them anymore."
   ]
  },
  {
   "cell_type": "code",
   "execution_count": 5753,
   "metadata": {},
   "outputs": [],
   "source": [
    "def polish(dataframe, added):\n",
    "    new_dataframe = dataframe.reset_index()\n",
    "    new_dataframe = new_dataframe.drop(columns=['index', 'hierarchy'])\n",
    "    print(list(dataframe['Label (Grouping)']))\n",
    "    new_dataframe = new_dataframe.rename(columns={'Label (Grouping)': 'label',\n",
    "                                                  'population_count': 'population_count_' + added})\n",
    "#                                                  'population_percentage': 'population_percentage_' + added})\n",
    "    new_dataframe = new_dataframe.set_index('label')\n",
    "    return new_dataframe"
   ]
  },
  {
   "cell_type": "code",
   "execution_count": 5754,
   "metadata": {},
   "outputs": [
    {
     "name": "stdout",
     "output_type": "stream",
     "text": [
      "['Under 5 years', '5 to 9 years', '10 to 14 years', '15 to 19 years', '20 to 24 years', '25 to 29 years', '30 to 34 years', '35 to 39 years', '40 to 44 years', '45 to 49 years', '50 to 54 years', '55 to 59 years', '60 to 64 years', '65 to 69 years', '70 to 74 years', '75 to 79 years', '80 to 84 years', '85 years and over']\n",
      "['Male population', 'Female population']\n",
      "['White', 'Black or African American', 'American Indian and Alaska Native', 'Asian', 'Native Hawaiian and Other Pacific Islander', 'Some Other Race']\n",
      "['Hispanic or Latino (of any race)', 'Not Hispanic or Latino']\n",
      "['Under 5 years', '5 to 9 years', '10 to 14 years', '15 to 19 years', '20 to 24 years', '25 to 34 years', '35 to 44 years', '45 to 54 years', '55 to 59 years', '60 to 64 years', '65 to 74 years', '75 to 84 years', '85 years and over']\n",
      "['Male', 'Female']\n",
      "['White', 'Black or African American', 'American Indian and Alaska Native', 'Asian', 'Native Hawaiian and Other Pacific Islander', 'Some other race']\n",
      "['Hispanic or Latino (of any race)', 'Not Hispanic or Latino']\n",
      "['Under 5 years', '5 to 9 years', '10 to 14 years', '15 to 19 years', '20 to 24 years', '25 to 34 years', '35 to 44 years', '45 to 54 years', '55 to 59 years', '60 to 64 years', '65 to 74 years', '75 to 84 years', '85 years and over']\n",
      "['Male', 'Female']\n",
      "['White', 'Black or African American', 'American Indian and Alaska Native', 'Asian', 'Native Hawaiian and Other Pacific Islander', 'Some Other Race']\n",
      "['Hispanic or Latino (of any race)', 'Not Hispanic or Latino']\n"
     ]
    }
   ],
   "source": [
    "decennial_age = polish(decennial_age, '2020')\n",
    "decennial_sex = polish(decennial_sex, '2020')\n",
    "decennial_race = polish(decennial_race, '2020')\n",
    "decennial_ethnicity = polish(decennial_ethnicity, '2020')\n",
    "estimate_21_age = polish(estimate_21_age, '2021')\n",
    "estimate_21_sex = polish(estimate_21_sex, '2021')\n",
    "estimate_21_race = polish(estimate_21_race, '2021')\n",
    "estimate_21_ethnicity = polish(estimate_21_ethnicity, '2021')\n",
    "estimate_22_age = polish(estimate_22_age, '2022')\n",
    "estimate_22_sex = polish(estimate_22_sex, '2022')\n",
    "estimate_22_race = polish(estimate_22_race, '2022')\n",
    "estimate_22_ethnicity = polish(estimate_22_ethnicity, '2022')"
   ]
  },
  {
   "cell_type": "code",
   "execution_count": 5755,
   "metadata": {},
   "outputs": [
    {
     "data": {
      "text/html": [
       "<div>\n",
       "<style scoped>\n",
       "    .dataframe tbody tr th:only-of-type {\n",
       "        vertical-align: middle;\n",
       "    }\n",
       "\n",
       "    .dataframe tbody tr th {\n",
       "        vertical-align: top;\n",
       "    }\n",
       "\n",
       "    .dataframe thead th {\n",
       "        text-align: right;\n",
       "    }\n",
       "</style>\n",
       "<table border=\"1\" class=\"dataframe\">\n",
       "  <thead>\n",
       "    <tr style=\"text-align: right;\">\n",
       "      <th></th>\n",
       "      <th>population_count_2020</th>\n",
       "    </tr>\n",
       "    <tr>\n",
       "      <th>label</th>\n",
       "      <th></th>\n",
       "    </tr>\n",
       "  </thead>\n",
       "  <tbody>\n",
       "    <tr>\n",
       "      <th>Male</th>\n",
       "      <td>509117.0</td>\n",
       "    </tr>\n",
       "    <tr>\n",
       "      <th>Female</th>\n",
       "      <td>552944.0</td>\n",
       "    </tr>\n",
       "  </tbody>\n",
       "</table>\n",
       "</div>"
      ],
      "text/plain": [
       "        population_count_2020\n",
       "label                        \n",
       "Male                 509117.0\n",
       "Female               552944.0"
      ]
     },
     "execution_count": 5755,
     "metadata": {},
     "output_type": "execute_result"
    }
   ],
   "source": [
    "decennial_sex.reset_index(inplace=True)\n",
    "\n",
    "decennial_sex.loc[0, 'label'] = 'Male'\n",
    "decennial_sex.loc[1, 'label'] = 'Female'\n",
    "\n",
    "decennial_sex.set_index('label', inplace=True)\n",
    "\n",
    "decennial_sex"
   ]
  },
  {
   "cell_type": "code",
   "execution_count": 5756,
   "metadata": {},
   "outputs": [],
   "source": [
    "estimate_21_race.reset_index(inplace=True)\n",
    "\n",
    "estimate_21_race.loc[5, 'label'] = 'Some Other Race'\n",
    "\n",
    "estimate_21_race.set_index('label', inplace=True)"
   ]
  },
  {
   "cell_type": "markdown",
   "metadata": {},
   "source": [
    "All of the dataframes look okay! We have demographic information for the whole county of Montgomery ready to plot against our dataset."
   ]
  },
  {
   "cell_type": "markdown",
   "metadata": {},
   "source": [
    "# Our target variables"
   ]
  },
  {
   "cell_type": "markdown",
   "metadata": {},
   "source": [
    "# Visualizations"
   ]
  },
  {
   "cell_type": "markdown",
   "metadata": {},
   "source": [
    "## Arrests based on demographic information"
   ]
  },
  {
   "cell_type": "markdown",
   "metadata": {},
   "source": [
    "The goal here is to find out wether or not the rate of arrests for a specific group of poeple was higher compared to the other groups for each of our demographic categories."
   ]
  },
  {
   "cell_type": "markdown",
   "metadata": {},
   "source": [
    "We can only use the arrests for the years 2021 and 2022, since we only have US Census information (estimates) for those two years."
   ]
  },
  {
   "cell_type": "markdown",
   "metadata": {},
   "source": [
    "| Demographic Category | Our dataset (2021-07/2024) | Decennial Census (2020) | 1 year estimate (2021 and 2022) |\n",
    "| -- | -- | -- | -- |\n",
    "| Age | Number of arrests, their date and time, District of occurence, Bureau and Division that made the arrest | Total population | Estimated population |\n",
    "| Gender/Sex | Number of arrests, their date and time, District of occurence, Bureau and Division that made the arrest | Total population | Estimated population |\n",
    "| Race | Number of arrests, their date and time, District of occurence, District of occurence, Bureau and Division that made the arrest | Total population | Estimated population |\n",
    "| Ethnicity | Number of arrests, their date and time, District of occurence, Bureau and Division that made the arrest | Total population | Estimated population |"
   ]
  },
  {
   "cell_type": "markdown",
   "metadata": {},
   "source": [
    "<div class=\"alert alert-block alert-danger\">\n",
    "\n",
    "<b><i>Gender and sex are NOT the same thing.</b></i> <br>\n",
    "Despite this fact, we will treat the category Gender from our dataset with the category Sex from the census, since the `Gender` column in our dataset only refers to <b>Male</b> and <b>Female</b>.\n",
    "\n",
    "</div>"
   ]
  },
  {
   "cell_type": "code",
   "execution_count": 5757,
   "metadata": {},
   "outputs": [
    {
     "data": {
      "text/plain": [
       "year\n",
       "2021    5885\n",
       "2022    6735\n",
       "2023    7353\n",
       "2024    3537\n",
       "dtype: int64"
      ]
     },
     "execution_count": 5757,
     "metadata": {},
     "output_type": "execute_result"
    }
   ],
   "source": [
    "total_arrests_by_year = arrests.groupby('year').size()\n",
    "total_arrests_by_year"
   ]
  },
  {
   "cell_type": "markdown",
   "metadata": {},
   "source": [
    "### Age"
   ]
  },
  {
   "cell_type": "markdown",
   "metadata": {},
   "source": [
    "First, we need to create a new column in our dataframe with the intervals of ages the US Census uses, to be able to compare it accurately."
   ]
  },
  {
   "cell_type": "code",
   "execution_count": 5758,
   "metadata": {},
   "outputs": [],
   "source": [
    "age_divisions_census = ['Under 5 years',\n",
    "                        '5 to 9 years', '10 to 14 years',\n",
    "                        '15 to 19 years', '20 to 24 years',\n",
    "                        '25 to 34 years',\n",
    "                        '35 to 44 years',\n",
    "                        '45 to 54 years',\n",
    "                        '55 to 59 years', '60 to 64 years',\n",
    "                        '65 to 74 years',\n",
    "                        '75 to 84 years',\n",
    "                        '85 years and over']\n",
    "\n",
    "bins = [0, 4, 9, 14, 19, 24, 34, 44, 54, 59, 64, 74, 84, 99]\n",
    "\n",
    "arrests['age_interval'] = pd.cut(arrests['age'], bins, labels = age_divisions_census)"
   ]
  },
  {
   "cell_type": "markdown",
   "metadata": {},
   "source": [
    "Now we can calculate the rate of arrests for 2021 and 2022 by age interval."
   ]
  },
  {
   "cell_type": "code",
   "execution_count": 5759,
   "metadata": {},
   "outputs": [],
   "source": [
    "arrests_age_2021 = arrests[arrests['year']==2021].groupby('age_interval').size()\n",
    "\n",
    "arrests_age_2022 = arrests[arrests['year']==2022].groupby('age_interval').size()"
   ]
  },
  {
   "cell_type": "markdown",
   "metadata": {},
   "source": [
    "Let's add all of our information into a new dataframe"
   ]
  },
  {
   "cell_type": "code",
   "execution_count": 5760,
   "metadata": {},
   "outputs": [],
   "source": [
    "age_rate_21 = estimate_21_age.copy()\n",
    "age_rate_21['population_percentage_2021'] = age_rate_21['population_count_2021']/estimate_21_total*100\n",
    "age_rate_21['nb_of_arrests_2021'] = arrests_age_2021\n",
    "age_rate_21['percentage_of_arrests_2021'] = age_rate_21['nb_of_arrests_2021']/total_arrests_by_year[2021]*100\n",
    "\n",
    "age_rate_22 = estimate_22_age.copy()\n",
    "age_rate_22['population_percentage_2022'] = age_rate_22['population_count_2022']/estimate_22_total*100\n",
    "age_rate_22['nb_of_arrests_2022'] = arrests_age_2022\n",
    "age_rate_22['percentage_of_arrests_2022'] = age_rate_22['nb_of_arrests_2022']/total_arrests_by_year[2022]*100"
   ]
  },
  {
   "cell_type": "markdown",
   "metadata": {},
   "source": [
    "Let's calculate the arrest rater (Arrest rate per 1,000 individuals.)"
   ]
  },
  {
   "cell_type": "code",
   "execution_count": 5761,
   "metadata": {},
   "outputs": [],
   "source": [
    "age_rate_21['rate_2021'] = age_rate_21['nb_of_arrests_2021']/age_rate_21['population_count_2021']*1000\n",
    "\n",
    "age_rate_22['rate_2022'] = age_rate_22['nb_of_arrests_2022']/age_rate_22['population_count_2022']*1000\n"
   ]
  },
  {
   "cell_type": "code",
   "execution_count": 5762,
   "metadata": {},
   "outputs": [
    {
     "data": {
      "text/html": [
       "<div>\n",
       "<style scoped>\n",
       "    .dataframe tbody tr th:only-of-type {\n",
       "        vertical-align: middle;\n",
       "    }\n",
       "\n",
       "    .dataframe tbody tr th {\n",
       "        vertical-align: top;\n",
       "    }\n",
       "\n",
       "    .dataframe thead th {\n",
       "        text-align: right;\n",
       "    }\n",
       "</style>\n",
       "<table border=\"1\" class=\"dataframe\">\n",
       "  <thead>\n",
       "    <tr style=\"text-align: right;\">\n",
       "      <th></th>\n",
       "      <th>population_count_2021</th>\n",
       "      <th>population_percentage_2021</th>\n",
       "      <th>nb_of_arrests_2021</th>\n",
       "      <th>percentage_of_arrests_2021</th>\n",
       "      <th>rate_2021</th>\n",
       "    </tr>\n",
       "    <tr>\n",
       "      <th>label</th>\n",
       "      <th></th>\n",
       "      <th></th>\n",
       "      <th></th>\n",
       "      <th></th>\n",
       "      <th></th>\n",
       "    </tr>\n",
       "  </thead>\n",
       "  <tbody>\n",
       "    <tr>\n",
       "      <th>Under 5 years</th>\n",
       "      <td>60997.0</td>\n",
       "      <td>5.782654</td>\n",
       "      <td>1</td>\n",
       "      <td>0.016992</td>\n",
       "      <td>0.016394</td>\n",
       "    </tr>\n",
       "    <tr>\n",
       "      <th>5 to 9 years</th>\n",
       "      <td>64875.0</td>\n",
       "      <td>6.150298</td>\n",
       "      <td>0</td>\n",
       "      <td>0.000000</td>\n",
       "      <td>0.000000</td>\n",
       "    </tr>\n",
       "    <tr>\n",
       "      <th>10 to 14 years</th>\n",
       "      <td>72184.0</td>\n",
       "      <td>6.843207</td>\n",
       "      <td>100</td>\n",
       "      <td>1.699235</td>\n",
       "      <td>1.385349</td>\n",
       "    </tr>\n",
       "    <tr>\n",
       "      <th>15 to 19 years</th>\n",
       "      <td>66083.0</td>\n",
       "      <td>6.264819</td>\n",
       "      <td>692</td>\n",
       "      <td>11.758709</td>\n",
       "      <td>10.471680</td>\n",
       "    </tr>\n",
       "    <tr>\n",
       "      <th>20 to 24 years</th>\n",
       "      <td>58029.0</td>\n",
       "      <td>5.501281</td>\n",
       "      <td>924</td>\n",
       "      <td>15.700935</td>\n",
       "      <td>15.923073</td>\n",
       "    </tr>\n",
       "    <tr>\n",
       "      <th>25 to 34 years</th>\n",
       "      <td>127604.0</td>\n",
       "      <td>12.097150</td>\n",
       "      <td>1921</td>\n",
       "      <td>32.642311</td>\n",
       "      <td>15.054387</td>\n",
       "    </tr>\n",
       "    <tr>\n",
       "      <th>35 to 44 years</th>\n",
       "      <td>147207.0</td>\n",
       "      <td>13.955559</td>\n",
       "      <td>1203</td>\n",
       "      <td>20.441801</td>\n",
       "      <td>8.172166</td>\n",
       "    </tr>\n",
       "    <tr>\n",
       "      <th>45 to 54 years</th>\n",
       "      <td>143226.0</td>\n",
       "      <td>13.578151</td>\n",
       "      <td>615</td>\n",
       "      <td>10.450297</td>\n",
       "      <td>4.293913</td>\n",
       "    </tr>\n",
       "    <tr>\n",
       "      <th>55 to 59 years</th>\n",
       "      <td>69640.0</td>\n",
       "      <td>6.602030</td>\n",
       "      <td>244</td>\n",
       "      <td>4.146134</td>\n",
       "      <td>3.503733</td>\n",
       "    </tr>\n",
       "    <tr>\n",
       "      <th>60 to 64 years</th>\n",
       "      <td>70040.0</td>\n",
       "      <td>6.639951</td>\n",
       "      <td>121</td>\n",
       "      <td>2.056075</td>\n",
       "      <td>1.727584</td>\n",
       "    </tr>\n",
       "    <tr>\n",
       "      <th>65 to 74 years</th>\n",
       "      <td>101462.0</td>\n",
       "      <td>9.618828</td>\n",
       "      <td>47</td>\n",
       "      <td>0.798641</td>\n",
       "      <td>0.463228</td>\n",
       "    </tr>\n",
       "    <tr>\n",
       "      <th>75 to 84 years</th>\n",
       "      <td>54559.0</td>\n",
       "      <td>5.172317</td>\n",
       "      <td>15</td>\n",
       "      <td>0.254885</td>\n",
       "      <td>0.274932</td>\n",
       "    </tr>\n",
       "    <tr>\n",
       "      <th>85 years and over</th>\n",
       "      <td>18921.0</td>\n",
       "      <td>1.793754</td>\n",
       "      <td>2</td>\n",
       "      <td>0.033985</td>\n",
       "      <td>0.105703</td>\n",
       "    </tr>\n",
       "  </tbody>\n",
       "</table>\n",
       "</div>"
      ],
      "text/plain": [
       "                   population_count_2021  population_percentage_2021  \\\n",
       "label                                                                  \n",
       "Under 5 years                    60997.0                    5.782654   \n",
       "5 to 9 years                     64875.0                    6.150298   \n",
       "10 to 14 years                   72184.0                    6.843207   \n",
       "15 to 19 years                   66083.0                    6.264819   \n",
       "20 to 24 years                   58029.0                    5.501281   \n",
       "25 to 34 years                  127604.0                   12.097150   \n",
       "35 to 44 years                  147207.0                   13.955559   \n",
       "45 to 54 years                  143226.0                   13.578151   \n",
       "55 to 59 years                   69640.0                    6.602030   \n",
       "60 to 64 years                   70040.0                    6.639951   \n",
       "65 to 74 years                  101462.0                    9.618828   \n",
       "75 to 84 years                   54559.0                    5.172317   \n",
       "85 years and over                18921.0                    1.793754   \n",
       "\n",
       "                   nb_of_arrests_2021  percentage_of_arrests_2021  rate_2021  \n",
       "label                                                                         \n",
       "Under 5 years                       1                    0.016992   0.016394  \n",
       "5 to 9 years                        0                    0.000000   0.000000  \n",
       "10 to 14 years                    100                    1.699235   1.385349  \n",
       "15 to 19 years                    692                   11.758709  10.471680  \n",
       "20 to 24 years                    924                   15.700935  15.923073  \n",
       "25 to 34 years                   1921                   32.642311  15.054387  \n",
       "35 to 44 years                   1203                   20.441801   8.172166  \n",
       "45 to 54 years                    615                   10.450297   4.293913  \n",
       "55 to 59 years                    244                    4.146134   3.503733  \n",
       "60 to 64 years                    121                    2.056075   1.727584  \n",
       "65 to 74 years                     47                    0.798641   0.463228  \n",
       "75 to 84 years                     15                    0.254885   0.274932  \n",
       "85 years and over                   2                    0.033985   0.105703  "
      ]
     },
     "metadata": {},
     "output_type": "display_data"
    },
    {
     "data": {
      "text/html": [
       "<div>\n",
       "<style scoped>\n",
       "    .dataframe tbody tr th:only-of-type {\n",
       "        vertical-align: middle;\n",
       "    }\n",
       "\n",
       "    .dataframe tbody tr th {\n",
       "        vertical-align: top;\n",
       "    }\n",
       "\n",
       "    .dataframe thead th {\n",
       "        text-align: right;\n",
       "    }\n",
       "</style>\n",
       "<table border=\"1\" class=\"dataframe\">\n",
       "  <thead>\n",
       "    <tr style=\"text-align: right;\">\n",
       "      <th></th>\n",
       "      <th>population_count_2022</th>\n",
       "      <th>population_percentage_2022</th>\n",
       "      <th>nb_of_arrests_2022</th>\n",
       "      <th>percentage_of_arrests_2022</th>\n",
       "      <th>rate_2022</th>\n",
       "    </tr>\n",
       "    <tr>\n",
       "      <th>label</th>\n",
       "      <th></th>\n",
       "      <th></th>\n",
       "      <th></th>\n",
       "      <th></th>\n",
       "      <th></th>\n",
       "    </tr>\n",
       "  </thead>\n",
       "  <tbody>\n",
       "    <tr>\n",
       "      <th>Under 5 years</th>\n",
       "      <td>59728.0</td>\n",
       "      <td>5.674756</td>\n",
       "      <td>0</td>\n",
       "      <td>0.000000</td>\n",
       "      <td>0.000000</td>\n",
       "    </tr>\n",
       "    <tr>\n",
       "      <th>5 to 9 years</th>\n",
       "      <td>67753.0</td>\n",
       "      <td>6.437211</td>\n",
       "      <td>0</td>\n",
       "      <td>0.000000</td>\n",
       "      <td>0.000000</td>\n",
       "    </tr>\n",
       "    <tr>\n",
       "      <th>10 to 14 years</th>\n",
       "      <td>66527.0</td>\n",
       "      <td>6.320729</td>\n",
       "      <td>198</td>\n",
       "      <td>2.939866</td>\n",
       "      <td>2.976235</td>\n",
       "    </tr>\n",
       "    <tr>\n",
       "      <th>15 to 19 years</th>\n",
       "      <td>65522.0</td>\n",
       "      <td>6.225244</td>\n",
       "      <td>929</td>\n",
       "      <td>13.793615</td>\n",
       "      <td>14.178444</td>\n",
       "    </tr>\n",
       "    <tr>\n",
       "      <th>20 to 24 years</th>\n",
       "      <td>61333.0</td>\n",
       "      <td>5.827247</td>\n",
       "      <td>1016</td>\n",
       "      <td>15.085375</td>\n",
       "      <td>16.565307</td>\n",
       "    </tr>\n",
       "    <tr>\n",
       "      <th>25 to 34 years</th>\n",
       "      <td>124896.0</td>\n",
       "      <td>11.866367</td>\n",
       "      <td>2160</td>\n",
       "      <td>32.071269</td>\n",
       "      <td>17.294389</td>\n",
       "    </tr>\n",
       "    <tr>\n",
       "      <th>35 to 44 years</th>\n",
       "      <td>146635.0</td>\n",
       "      <td>13.931789</td>\n",
       "      <td>1311</td>\n",
       "      <td>19.465479</td>\n",
       "      <td>8.940567</td>\n",
       "    </tr>\n",
       "    <tr>\n",
       "      <th>45 to 54 years</th>\n",
       "      <td>141721.0</td>\n",
       "      <td>13.464909</td>\n",
       "      <td>638</td>\n",
       "      <td>9.472903</td>\n",
       "      <td>4.501803</td>\n",
       "    </tr>\n",
       "    <tr>\n",
       "      <th>55 to 59 years</th>\n",
       "      <td>71499.0</td>\n",
       "      <td>6.793119</td>\n",
       "      <td>232</td>\n",
       "      <td>3.444692</td>\n",
       "      <td>3.244801</td>\n",
       "    </tr>\n",
       "    <tr>\n",
       "      <th>60 to 64 years</th>\n",
       "      <td>65573.0</td>\n",
       "      <td>6.230089</td>\n",
       "      <td>136</td>\n",
       "      <td>2.019302</td>\n",
       "      <td>2.074024</td>\n",
       "    </tr>\n",
       "    <tr>\n",
       "      <th>65 to 74 years</th>\n",
       "      <td>101898.0</td>\n",
       "      <td>9.681327</td>\n",
       "      <td>101</td>\n",
       "      <td>1.499629</td>\n",
       "      <td>0.991187</td>\n",
       "    </tr>\n",
       "    <tr>\n",
       "      <th>75 to 84 years</th>\n",
       "      <td>55952.0</td>\n",
       "      <td>5.315998</td>\n",
       "      <td>13</td>\n",
       "      <td>0.193022</td>\n",
       "      <td>0.232342</td>\n",
       "    </tr>\n",
       "    <tr>\n",
       "      <th>85 years and over</th>\n",
       "      <td>23484.0</td>\n",
       "      <td>2.231214</td>\n",
       "      <td>1</td>\n",
       "      <td>0.014848</td>\n",
       "      <td>0.042582</td>\n",
       "    </tr>\n",
       "  </tbody>\n",
       "</table>\n",
       "</div>"
      ],
      "text/plain": [
       "                   population_count_2022  population_percentage_2022  \\\n",
       "label                                                                  \n",
       "Under 5 years                    59728.0                    5.674756   \n",
       "5 to 9 years                     67753.0                    6.437211   \n",
       "10 to 14 years                   66527.0                    6.320729   \n",
       "15 to 19 years                   65522.0                    6.225244   \n",
       "20 to 24 years                   61333.0                    5.827247   \n",
       "25 to 34 years                  124896.0                   11.866367   \n",
       "35 to 44 years                  146635.0                   13.931789   \n",
       "45 to 54 years                  141721.0                   13.464909   \n",
       "55 to 59 years                   71499.0                    6.793119   \n",
       "60 to 64 years                   65573.0                    6.230089   \n",
       "65 to 74 years                  101898.0                    9.681327   \n",
       "75 to 84 years                   55952.0                    5.315998   \n",
       "85 years and over                23484.0                    2.231214   \n",
       "\n",
       "                   nb_of_arrests_2022  percentage_of_arrests_2022  rate_2022  \n",
       "label                                                                         \n",
       "Under 5 years                       0                    0.000000   0.000000  \n",
       "5 to 9 years                        0                    0.000000   0.000000  \n",
       "10 to 14 years                    198                    2.939866   2.976235  \n",
       "15 to 19 years                    929                   13.793615  14.178444  \n",
       "20 to 24 years                   1016                   15.085375  16.565307  \n",
       "25 to 34 years                   2160                   32.071269  17.294389  \n",
       "35 to 44 years                   1311                   19.465479   8.940567  \n",
       "45 to 54 years                    638                    9.472903   4.501803  \n",
       "55 to 59 years                    232                    3.444692   3.244801  \n",
       "60 to 64 years                    136                    2.019302   2.074024  \n",
       "65 to 74 years                    101                    1.499629   0.991187  \n",
       "75 to 84 years                     13                    0.193022   0.232342  \n",
       "85 years and over                   1                    0.014848   0.042582  "
      ]
     },
     "metadata": {},
     "output_type": "display_data"
    }
   ],
   "source": [
    "display(age_rate_21, age_rate_22)"
   ]
  },
  {
   "cell_type": "markdown",
   "metadata": {},
   "source": [
    "Let's make a few plots:"
   ]
  },
  {
   "cell_type": "code",
   "execution_count": 5769,
   "metadata": {},
   "outputs": [
    {
     "data": {
      "image/png": "[encoded data removed]",
      "text/plain": [
       "<Figure size 2000x1200 with 4 Axes>"
      ]
     },
     "metadata": {},
     "output_type": "display_data"
    }
   ],
   "source": [
    "fig, ax = plt.subplots(nrows=2, ncols=2, figsize=(20,12))\n",
    "\n",
    "pop_percents = [np.array(list(age_rate_21['population_percentage_2021'])), np.array(list(age_rate_22['population_percentage_2022']))]\n",
    "arrest_percents = [np.array(list(age_rate_21['percentage_of_arrests_2021'])), np.array(list(age_rate_22['percentage_of_arrests_2022']))]\n",
    "\n",
    "rates = [age_rate_21['rate_2021'], age_rate_22['rate_2022']]\n",
    "averages = [age_rate_21['rate_2021'].mean(), age_rate_22['rate_2022'].mean()]\n",
    "\n",
    "colors = [['#2270e6', 'maroon', 'firebrick'], ['cornflowerblue', 'firebrick', 'red']]\n",
    "\n",
    "years = [2021, 2022]\n",
    "\n",
    "for i in range (2):\n",
    "    # ----------------------------------------------------------\n",
    "    # Plotting the % out of total arrests vs. % out of total population\n",
    "\n",
    "    pop_percent = pop_percents[i]\n",
    "    arrest_percent = arrest_percents[i]\n",
    "    x = np.arange(1,len(pop_percent)+1)\n",
    "\n",
    "    w = .35 # Use 35% of each slot (day of week) per bar, leaving 30% for spacing\n",
    "\n",
    "    ax[i][0].bar(x-w/2, pop_percent,     width=w, color=colors[i][0], label=\"Percentage out of the total population\")\n",
    "    ax[i][0].bar(x+w/2, arrest_percent,  width=w, color=colors[i][1], label=\"Percentage out of the total number of arrests\")\n",
    "\n",
    "    ax[i][0].set_xticks(x)\n",
    "    ax[i][0].set_xticklabels(list(age_rate_21.index))\n",
    "    ax[i][0].tick_params(axis='x', labelrotation=90)\n",
    "\n",
    "    ax[i][0].set_ylabel(\"% out of the total\")\n",
    "    ax[i][0].set_title(f\"Percentage Out of the Total Number of Arrests vs.\\nPercentage Out of the Total Population\\nfor Each Age Interval - Year {years[i]}\\n\",\n",
    "                loc='left', font='serif', size=15)\n",
    "\n",
    "    ax[i][0].spines['top'].set_visible(False)\n",
    "    ax[i][0].spines['right'].set_visible(False)\n",
    "\n",
    "    ax[i][0].legend(loc='upper left') # use labels from bar() calls\n",
    "\n",
    "    # -----------------------------------------------------------\n",
    "\n",
    "    # Plotting the arrest rates\n",
    "    ax[i][1].bar(list(age_rate_21.index), rates[0], color=colors[i][2])\n",
    "    ax[i][1].tick_params(axis='x', labelrotation=90)\n",
    "\n",
    "    ax[i][1].set_ylabel(\"Arrest rat per 1k individuals\")\n",
    "    ax[i][1].set_title(f\"Arrest Rate (Per 1,000 Individuals)\\nfor Each Age Interval - Year {years[i]}\\n\",\n",
    "                loc='left', font='serif', size=15)\n",
    "\n",
    "    ax[i][1].spines['top'].set_visible(False)\n",
    "    ax[i][1].spines['right'].set_visible(False)\n",
    "\n",
    "    #Add horizontal line to indicate mean arrest rate\n",
    "    ax[i][1].hlines(y=averages[i], xmin=0, xmax=12,\n",
    "                colors='darkgray', linestyles='dashed', lw=2, label='Average Arrest Rate')\n",
    "\n",
    "    ax[i][1].legend(loc='upper right')\n",
    "\n",
    "plt.tight_layout()\n",
    "plt.show()"
   ]
  },
  {
   "cell_type": "markdown",
   "metadata": {},
   "source": []
  }
 ],
 "metadata": {
  "kernelspec": {
   "display_name": "base",
   "language": "python",
   "name": "python3"
  },
  "language_info": {
   "codemirror_mode": {
    "name": "ipython",
    "version": 3
   },
   "file_extension": ".py",
   "mimetype": "text/x-python",
   "name": "python",
   "nbconvert_exporter": "python",
   "pygments_lexer": "ipython3",
   "version": "3.12.2"
  }
 },
 "nbformat": 4,
 "nbformat_minor": 2
}
